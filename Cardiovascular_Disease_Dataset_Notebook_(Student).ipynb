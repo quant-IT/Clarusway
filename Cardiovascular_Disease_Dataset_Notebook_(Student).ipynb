{
  "cells": [
    {
      "cell_type": "markdown",
      "metadata": {
        "id": "view-in-github",
        "colab_type": "text"
      },
      "source": [
        "<a href=\"https://colab.research.google.com/github/quant-IT/Clarusway/blob/main/Cardiovascular_Disease_Dataset_Notebook_(Student).ipynb\" target=\"_parent\"><img src=\"https://colab.research.google.com/assets/colab-badge.svg\" alt=\"Open In Colab\"/></a>"
      ]
    },
    {
      "cell_type": "markdown",
      "id": "31e10954",
      "metadata": {
        "id": "31e10954"
      },
      "source": [
        "# Cardiovascular Disease Dataset\n",
        "\n",
        "We will study with a dataset on Cardiovascular Disease.\n",
        "\n",
        "We'll try to understand the concepts like\n",
        "\n",
        "- true means,\n",
        "- confidence intervals,\n",
        "- one sample t test,\n",
        "- independent samples t test,\n",
        "- homogenity of variance check (Levene's test),\n",
        "- One-way ANOVA,\n",
        "- Chi-square test.\n",
        "\n",
        "Dataset from: https://www.kaggle.com/datasets/sulianova/cardiovascular-disease-dataset"
      ]
    },
    {
      "cell_type": "markdown",
      "id": "ce8088f5",
      "metadata": {
        "id": "ce8088f5"
      },
      "source": [
        "# Data Preparation"
      ]
    },
    {
      "cell_type": "markdown",
      "id": "c5e829d7",
      "metadata": {
        "id": "c5e829d7"
      },
      "source": [
        "⭐ Import pandas, scipy.stats, seaborn, and matplotlib.pyplot libraries"
      ]
    },
    {
      "cell_type": "code",
      "execution_count": 14,
      "id": "4ee9098b",
      "metadata": {
        "id": "4ee9098b"
      },
      "outputs": [],
      "source": [
        "import pandas as pd\n",
        "from scipy import stats\n",
        "import seaborn as sns\n",
        "import matplotlib.pyplot as plt\n",
        "import numpy as np\n"
      ]
    },
    {
      "cell_type": "markdown",
      "id": "b631a97c",
      "metadata": {
        "id": "b631a97c"
      },
      "source": [
        "⭐Run the following code to read in the \"cardio.csv\" file."
      ]
    },
    {
      "cell_type": "code",
      "execution_count": 3,
      "id": "c7983124",
      "metadata": {
        "id": "c7983124"
      },
      "outputs": [],
      "source": [
        "df = pd.read_csv(\"/content/cardio.csv\", sep=\";\")"
      ]
    },
    {
      "cell_type": "code",
      "execution_count": 4,
      "id": "0cab8e4e",
      "metadata": {
        "id": "0cab8e4e",
        "outputId": "ee989970-ee6c-428b-914e-db3fce7a6f4d",
        "colab": {
          "base_uri": "https://localhost:8080/",
          "height": 206
        }
      },
      "outputs": [
        {
          "output_type": "execute_result",
          "data": {
            "text/plain": [
              "   id    age  gender  height  weight  ap_hi  ap_lo  cholesterol  gluc  smoke  \\\n",
              "0   0  18393       2     168    62.0    110     80            1     1      0   \n",
              "1   1  20228       1     156    85.0    140     90            3     1      0   \n",
              "2   2  18857       1     165    64.0    130     70            3     1      0   \n",
              "3   3  17623       2     169    82.0    150    100            1     1      0   \n",
              "4   4  17474       1     156    56.0    100     60            1     1      0   \n",
              "\n",
              "   alco  active  cardio  \n",
              "0     0       1       0  \n",
              "1     0       1       1  \n",
              "2     0       0       1  \n",
              "3     0       1       1  \n",
              "4     0       0       0  "
            ],
            "text/html": [
              "\n",
              "  <div id=\"df-db40c4c8-1fba-4928-989c-6c6da87516d2\">\n",
              "    <div class=\"colab-df-container\">\n",
              "      <div>\n",
              "<style scoped>\n",
              "    .dataframe tbody tr th:only-of-type {\n",
              "        vertical-align: middle;\n",
              "    }\n",
              "\n",
              "    .dataframe tbody tr th {\n",
              "        vertical-align: top;\n",
              "    }\n",
              "\n",
              "    .dataframe thead th {\n",
              "        text-align: right;\n",
              "    }\n",
              "</style>\n",
              "<table border=\"1\" class=\"dataframe\">\n",
              "  <thead>\n",
              "    <tr style=\"text-align: right;\">\n",
              "      <th></th>\n",
              "      <th>id</th>\n",
              "      <th>age</th>\n",
              "      <th>gender</th>\n",
              "      <th>height</th>\n",
              "      <th>weight</th>\n",
              "      <th>ap_hi</th>\n",
              "      <th>ap_lo</th>\n",
              "      <th>cholesterol</th>\n",
              "      <th>gluc</th>\n",
              "      <th>smoke</th>\n",
              "      <th>alco</th>\n",
              "      <th>active</th>\n",
              "      <th>cardio</th>\n",
              "    </tr>\n",
              "  </thead>\n",
              "  <tbody>\n",
              "    <tr>\n",
              "      <th>0</th>\n",
              "      <td>0</td>\n",
              "      <td>18393</td>\n",
              "      <td>2</td>\n",
              "      <td>168</td>\n",
              "      <td>62.0</td>\n",
              "      <td>110</td>\n",
              "      <td>80</td>\n",
              "      <td>1</td>\n",
              "      <td>1</td>\n",
              "      <td>0</td>\n",
              "      <td>0</td>\n",
              "      <td>1</td>\n",
              "      <td>0</td>\n",
              "    </tr>\n",
              "    <tr>\n",
              "      <th>1</th>\n",
              "      <td>1</td>\n",
              "      <td>20228</td>\n",
              "      <td>1</td>\n",
              "      <td>156</td>\n",
              "      <td>85.0</td>\n",
              "      <td>140</td>\n",
              "      <td>90</td>\n",
              "      <td>3</td>\n",
              "      <td>1</td>\n",
              "      <td>0</td>\n",
              "      <td>0</td>\n",
              "      <td>1</td>\n",
              "      <td>1</td>\n",
              "    </tr>\n",
              "    <tr>\n",
              "      <th>2</th>\n",
              "      <td>2</td>\n",
              "      <td>18857</td>\n",
              "      <td>1</td>\n",
              "      <td>165</td>\n",
              "      <td>64.0</td>\n",
              "      <td>130</td>\n",
              "      <td>70</td>\n",
              "      <td>3</td>\n",
              "      <td>1</td>\n",
              "      <td>0</td>\n",
              "      <td>0</td>\n",
              "      <td>0</td>\n",
              "      <td>1</td>\n",
              "    </tr>\n",
              "    <tr>\n",
              "      <th>3</th>\n",
              "      <td>3</td>\n",
              "      <td>17623</td>\n",
              "      <td>2</td>\n",
              "      <td>169</td>\n",
              "      <td>82.0</td>\n",
              "      <td>150</td>\n",
              "      <td>100</td>\n",
              "      <td>1</td>\n",
              "      <td>1</td>\n",
              "      <td>0</td>\n",
              "      <td>0</td>\n",
              "      <td>1</td>\n",
              "      <td>1</td>\n",
              "    </tr>\n",
              "    <tr>\n",
              "      <th>4</th>\n",
              "      <td>4</td>\n",
              "      <td>17474</td>\n",
              "      <td>1</td>\n",
              "      <td>156</td>\n",
              "      <td>56.0</td>\n",
              "      <td>100</td>\n",
              "      <td>60</td>\n",
              "      <td>1</td>\n",
              "      <td>1</td>\n",
              "      <td>0</td>\n",
              "      <td>0</td>\n",
              "      <td>0</td>\n",
              "      <td>0</td>\n",
              "    </tr>\n",
              "  </tbody>\n",
              "</table>\n",
              "</div>\n",
              "      <button class=\"colab-df-convert\" onclick=\"convertToInteractive('df-db40c4c8-1fba-4928-989c-6c6da87516d2')\"\n",
              "              title=\"Convert this dataframe to an interactive table.\"\n",
              "              style=\"display:none;\">\n",
              "        \n",
              "  <svg xmlns=\"http://www.w3.org/2000/svg\" height=\"24px\"viewBox=\"0 0 24 24\"\n",
              "       width=\"24px\">\n",
              "    <path d=\"M0 0h24v24H0V0z\" fill=\"none\"/>\n",
              "    <path d=\"M18.56 5.44l.94 2.06.94-2.06 2.06-.94-2.06-.94-.94-2.06-.94 2.06-2.06.94zm-11 1L8.5 8.5l.94-2.06 2.06-.94-2.06-.94L8.5 2.5l-.94 2.06-2.06.94zm10 10l.94 2.06.94-2.06 2.06-.94-2.06-.94-.94-2.06-.94 2.06-2.06.94z\"/><path d=\"M17.41 7.96l-1.37-1.37c-.4-.4-.92-.59-1.43-.59-.52 0-1.04.2-1.43.59L10.3 9.45l-7.72 7.72c-.78.78-.78 2.05 0 2.83L4 21.41c.39.39.9.59 1.41.59.51 0 1.02-.2 1.41-.59l7.78-7.78 2.81-2.81c.8-.78.8-2.07 0-2.86zM5.41 20L4 18.59l7.72-7.72 1.47 1.35L5.41 20z\"/>\n",
              "  </svg>\n",
              "      </button>\n",
              "      \n",
              "  <style>\n",
              "    .colab-df-container {\n",
              "      display:flex;\n",
              "      flex-wrap:wrap;\n",
              "      gap: 12px;\n",
              "    }\n",
              "\n",
              "    .colab-df-convert {\n",
              "      background-color: #E8F0FE;\n",
              "      border: none;\n",
              "      border-radius: 50%;\n",
              "      cursor: pointer;\n",
              "      display: none;\n",
              "      fill: #1967D2;\n",
              "      height: 32px;\n",
              "      padding: 0 0 0 0;\n",
              "      width: 32px;\n",
              "    }\n",
              "\n",
              "    .colab-df-convert:hover {\n",
              "      background-color: #E2EBFA;\n",
              "      box-shadow: 0px 1px 2px rgba(60, 64, 67, 0.3), 0px 1px 3px 1px rgba(60, 64, 67, 0.15);\n",
              "      fill: #174EA6;\n",
              "    }\n",
              "\n",
              "    [theme=dark] .colab-df-convert {\n",
              "      background-color: #3B4455;\n",
              "      fill: #D2E3FC;\n",
              "    }\n",
              "\n",
              "    [theme=dark] .colab-df-convert:hover {\n",
              "      background-color: #434B5C;\n",
              "      box-shadow: 0px 1px 3px 1px rgba(0, 0, 0, 0.15);\n",
              "      filter: drop-shadow(0px 1px 2px rgba(0, 0, 0, 0.3));\n",
              "      fill: #FFFFFF;\n",
              "    }\n",
              "  </style>\n",
              "\n",
              "      <script>\n",
              "        const buttonEl =\n",
              "          document.querySelector('#df-db40c4c8-1fba-4928-989c-6c6da87516d2 button.colab-df-convert');\n",
              "        buttonEl.style.display =\n",
              "          google.colab.kernel.accessAllowed ? 'block' : 'none';\n",
              "\n",
              "        async function convertToInteractive(key) {\n",
              "          const element = document.querySelector('#df-db40c4c8-1fba-4928-989c-6c6da87516d2');\n",
              "          const dataTable =\n",
              "            await google.colab.kernel.invokeFunction('convertToInteractive',\n",
              "                                                     [key], {});\n",
              "          if (!dataTable) return;\n",
              "\n",
              "          const docLinkHtml = 'Like what you see? Visit the ' +\n",
              "            '<a target=\"_blank\" href=https://colab.research.google.com/notebooks/data_table.ipynb>data table notebook</a>'\n",
              "            + ' to learn more about interactive tables.';\n",
              "          element.innerHTML = '';\n",
              "          dataTable['output_type'] = 'display_data';\n",
              "          await google.colab.output.renderOutput(dataTable, element);\n",
              "          const docLink = document.createElement('div');\n",
              "          docLink.innerHTML = docLinkHtml;\n",
              "          element.appendChild(docLink);\n",
              "        }\n",
              "      </script>\n",
              "    </div>\n",
              "  </div>\n",
              "  "
            ]
          },
          "metadata": {},
          "execution_count": 4
        }
      ],
      "source": [
        "df.head()"
      ]
    },
    {
      "cell_type": "code",
      "execution_count": 5,
      "id": "e3afdac1",
      "metadata": {
        "id": "e3afdac1",
        "outputId": "3fca1808-d971-4c9f-f260-b003ac377bfa",
        "colab": {
          "base_uri": "https://localhost:8080/"
        }
      },
      "outputs": [
        {
          "output_type": "stream",
          "name": "stdout",
          "text": [
            "<class 'pandas.core.frame.DataFrame'>\n",
            "RangeIndex: 70000 entries, 0 to 69999\n",
            "Data columns (total 13 columns):\n",
            " #   Column       Non-Null Count  Dtype  \n",
            "---  ------       --------------  -----  \n",
            " 0   id           70000 non-null  int64  \n",
            " 1   age          70000 non-null  int64  \n",
            " 2   gender       70000 non-null  int64  \n",
            " 3   height       70000 non-null  int64  \n",
            " 4   weight       70000 non-null  float64\n",
            " 5   ap_hi        70000 non-null  int64  \n",
            " 6   ap_lo        70000 non-null  int64  \n",
            " 7   cholesterol  70000 non-null  int64  \n",
            " 8   gluc         70000 non-null  int64  \n",
            " 9   smoke        70000 non-null  int64  \n",
            " 10  alco         70000 non-null  int64  \n",
            " 11  active       70000 non-null  int64  \n",
            " 12  cardio       70000 non-null  int64  \n",
            "dtypes: float64(1), int64(12)\n",
            "memory usage: 6.9 MB\n"
          ]
        }
      ],
      "source": [
        "df.info()"
      ]
    },
    {
      "cell_type": "code",
      "execution_count": 6,
      "id": "6f759084",
      "metadata": {
        "id": "6f759084",
        "outputId": "9a313b4a-7aaa-4202-e169-22ff859945bd",
        "colab": {
          "base_uri": "https://localhost:8080/"
        }
      },
      "outputs": [
        {
          "output_type": "execute_result",
          "data": {
            "text/plain": [
              "(70000, 13)"
            ]
          },
          "metadata": {},
          "execution_count": 6
        }
      ],
      "source": [
        "df.shape"
      ]
    },
    {
      "cell_type": "code",
      "execution_count": 7,
      "id": "7bbde1f2",
      "metadata": {
        "id": "7bbde1f2",
        "outputId": "9ffcb0a9-5dd2-4b2a-b283-49afa7252b2a",
        "colab": {
          "base_uri": "https://localhost:8080/",
          "height": 300
        }
      },
      "outputs": [
        {
          "output_type": "execute_result",
          "data": {
            "text/plain": [
              "                 id           age        gender        height        weight  \\\n",
              "count  70000.000000  70000.000000  70000.000000  70000.000000  70000.000000   \n",
              "mean   49972.419900  19468.865814      1.349571    164.359229     74.205690   \n",
              "std    28851.302323   2467.251667      0.476838      8.210126     14.395757   \n",
              "min        0.000000  10798.000000      1.000000     55.000000     10.000000   \n",
              "25%    25006.750000  17664.000000      1.000000    159.000000     65.000000   \n",
              "50%    50001.500000  19703.000000      1.000000    165.000000     72.000000   \n",
              "75%    74889.250000  21327.000000      2.000000    170.000000     82.000000   \n",
              "max    99999.000000  23713.000000      2.000000    250.000000    200.000000   \n",
              "\n",
              "              ap_hi         ap_lo   cholesterol          gluc         smoke  \\\n",
              "count  70000.000000  70000.000000  70000.000000  70000.000000  70000.000000   \n",
              "mean     128.817286     96.630414      1.366871      1.226457      0.088129   \n",
              "std      154.011419    188.472530      0.680250      0.572270      0.283484   \n",
              "min     -150.000000    -70.000000      1.000000      1.000000      0.000000   \n",
              "25%      120.000000     80.000000      1.000000      1.000000      0.000000   \n",
              "50%      120.000000     80.000000      1.000000      1.000000      0.000000   \n",
              "75%      140.000000     90.000000      2.000000      1.000000      0.000000   \n",
              "max    16020.000000  11000.000000      3.000000      3.000000      1.000000   \n",
              "\n",
              "               alco        active        cardio  \n",
              "count  70000.000000  70000.000000  70000.000000  \n",
              "mean       0.053771      0.803729      0.499700  \n",
              "std        0.225568      0.397179      0.500003  \n",
              "min        0.000000      0.000000      0.000000  \n",
              "25%        0.000000      1.000000      0.000000  \n",
              "50%        0.000000      1.000000      0.000000  \n",
              "75%        0.000000      1.000000      1.000000  \n",
              "max        1.000000      1.000000      1.000000  "
            ],
            "text/html": [
              "\n",
              "  <div id=\"df-1bb5a1a0-4cff-4710-81f2-03b0046621c5\">\n",
              "    <div class=\"colab-df-container\">\n",
              "      <div>\n",
              "<style scoped>\n",
              "    .dataframe tbody tr th:only-of-type {\n",
              "        vertical-align: middle;\n",
              "    }\n",
              "\n",
              "    .dataframe tbody tr th {\n",
              "        vertical-align: top;\n",
              "    }\n",
              "\n",
              "    .dataframe thead th {\n",
              "        text-align: right;\n",
              "    }\n",
              "</style>\n",
              "<table border=\"1\" class=\"dataframe\">\n",
              "  <thead>\n",
              "    <tr style=\"text-align: right;\">\n",
              "      <th></th>\n",
              "      <th>id</th>\n",
              "      <th>age</th>\n",
              "      <th>gender</th>\n",
              "      <th>height</th>\n",
              "      <th>weight</th>\n",
              "      <th>ap_hi</th>\n",
              "      <th>ap_lo</th>\n",
              "      <th>cholesterol</th>\n",
              "      <th>gluc</th>\n",
              "      <th>smoke</th>\n",
              "      <th>alco</th>\n",
              "      <th>active</th>\n",
              "      <th>cardio</th>\n",
              "    </tr>\n",
              "  </thead>\n",
              "  <tbody>\n",
              "    <tr>\n",
              "      <th>count</th>\n",
              "      <td>70000.000000</td>\n",
              "      <td>70000.000000</td>\n",
              "      <td>70000.000000</td>\n",
              "      <td>70000.000000</td>\n",
              "      <td>70000.000000</td>\n",
              "      <td>70000.000000</td>\n",
              "      <td>70000.000000</td>\n",
              "      <td>70000.000000</td>\n",
              "      <td>70000.000000</td>\n",
              "      <td>70000.000000</td>\n",
              "      <td>70000.000000</td>\n",
              "      <td>70000.000000</td>\n",
              "      <td>70000.000000</td>\n",
              "    </tr>\n",
              "    <tr>\n",
              "      <th>mean</th>\n",
              "      <td>49972.419900</td>\n",
              "      <td>19468.865814</td>\n",
              "      <td>1.349571</td>\n",
              "      <td>164.359229</td>\n",
              "      <td>74.205690</td>\n",
              "      <td>128.817286</td>\n",
              "      <td>96.630414</td>\n",
              "      <td>1.366871</td>\n",
              "      <td>1.226457</td>\n",
              "      <td>0.088129</td>\n",
              "      <td>0.053771</td>\n",
              "      <td>0.803729</td>\n",
              "      <td>0.499700</td>\n",
              "    </tr>\n",
              "    <tr>\n",
              "      <th>std</th>\n",
              "      <td>28851.302323</td>\n",
              "      <td>2467.251667</td>\n",
              "      <td>0.476838</td>\n",
              "      <td>8.210126</td>\n",
              "      <td>14.395757</td>\n",
              "      <td>154.011419</td>\n",
              "      <td>188.472530</td>\n",
              "      <td>0.680250</td>\n",
              "      <td>0.572270</td>\n",
              "      <td>0.283484</td>\n",
              "      <td>0.225568</td>\n",
              "      <td>0.397179</td>\n",
              "      <td>0.500003</td>\n",
              "    </tr>\n",
              "    <tr>\n",
              "      <th>min</th>\n",
              "      <td>0.000000</td>\n",
              "      <td>10798.000000</td>\n",
              "      <td>1.000000</td>\n",
              "      <td>55.000000</td>\n",
              "      <td>10.000000</td>\n",
              "      <td>-150.000000</td>\n",
              "      <td>-70.000000</td>\n",
              "      <td>1.000000</td>\n",
              "      <td>1.000000</td>\n",
              "      <td>0.000000</td>\n",
              "      <td>0.000000</td>\n",
              "      <td>0.000000</td>\n",
              "      <td>0.000000</td>\n",
              "    </tr>\n",
              "    <tr>\n",
              "      <th>25%</th>\n",
              "      <td>25006.750000</td>\n",
              "      <td>17664.000000</td>\n",
              "      <td>1.000000</td>\n",
              "      <td>159.000000</td>\n",
              "      <td>65.000000</td>\n",
              "      <td>120.000000</td>\n",
              "      <td>80.000000</td>\n",
              "      <td>1.000000</td>\n",
              "      <td>1.000000</td>\n",
              "      <td>0.000000</td>\n",
              "      <td>0.000000</td>\n",
              "      <td>1.000000</td>\n",
              "      <td>0.000000</td>\n",
              "    </tr>\n",
              "    <tr>\n",
              "      <th>50%</th>\n",
              "      <td>50001.500000</td>\n",
              "      <td>19703.000000</td>\n",
              "      <td>1.000000</td>\n",
              "      <td>165.000000</td>\n",
              "      <td>72.000000</td>\n",
              "      <td>120.000000</td>\n",
              "      <td>80.000000</td>\n",
              "      <td>1.000000</td>\n",
              "      <td>1.000000</td>\n",
              "      <td>0.000000</td>\n",
              "      <td>0.000000</td>\n",
              "      <td>1.000000</td>\n",
              "      <td>0.000000</td>\n",
              "    </tr>\n",
              "    <tr>\n",
              "      <th>75%</th>\n",
              "      <td>74889.250000</td>\n",
              "      <td>21327.000000</td>\n",
              "      <td>2.000000</td>\n",
              "      <td>170.000000</td>\n",
              "      <td>82.000000</td>\n",
              "      <td>140.000000</td>\n",
              "      <td>90.000000</td>\n",
              "      <td>2.000000</td>\n",
              "      <td>1.000000</td>\n",
              "      <td>0.000000</td>\n",
              "      <td>0.000000</td>\n",
              "      <td>1.000000</td>\n",
              "      <td>1.000000</td>\n",
              "    </tr>\n",
              "    <tr>\n",
              "      <th>max</th>\n",
              "      <td>99999.000000</td>\n",
              "      <td>23713.000000</td>\n",
              "      <td>2.000000</td>\n",
              "      <td>250.000000</td>\n",
              "      <td>200.000000</td>\n",
              "      <td>16020.000000</td>\n",
              "      <td>11000.000000</td>\n",
              "      <td>3.000000</td>\n",
              "      <td>3.000000</td>\n",
              "      <td>1.000000</td>\n",
              "      <td>1.000000</td>\n",
              "      <td>1.000000</td>\n",
              "      <td>1.000000</td>\n",
              "    </tr>\n",
              "  </tbody>\n",
              "</table>\n",
              "</div>\n",
              "      <button class=\"colab-df-convert\" onclick=\"convertToInteractive('df-1bb5a1a0-4cff-4710-81f2-03b0046621c5')\"\n",
              "              title=\"Convert this dataframe to an interactive table.\"\n",
              "              style=\"display:none;\">\n",
              "        \n",
              "  <svg xmlns=\"http://www.w3.org/2000/svg\" height=\"24px\"viewBox=\"0 0 24 24\"\n",
              "       width=\"24px\">\n",
              "    <path d=\"M0 0h24v24H0V0z\" fill=\"none\"/>\n",
              "    <path d=\"M18.56 5.44l.94 2.06.94-2.06 2.06-.94-2.06-.94-.94-2.06-.94 2.06-2.06.94zm-11 1L8.5 8.5l.94-2.06 2.06-.94-2.06-.94L8.5 2.5l-.94 2.06-2.06.94zm10 10l.94 2.06.94-2.06 2.06-.94-2.06-.94-.94-2.06-.94 2.06-2.06.94z\"/><path d=\"M17.41 7.96l-1.37-1.37c-.4-.4-.92-.59-1.43-.59-.52 0-1.04.2-1.43.59L10.3 9.45l-7.72 7.72c-.78.78-.78 2.05 0 2.83L4 21.41c.39.39.9.59 1.41.59.51 0 1.02-.2 1.41-.59l7.78-7.78 2.81-2.81c.8-.78.8-2.07 0-2.86zM5.41 20L4 18.59l7.72-7.72 1.47 1.35L5.41 20z\"/>\n",
              "  </svg>\n",
              "      </button>\n",
              "      \n",
              "  <style>\n",
              "    .colab-df-container {\n",
              "      display:flex;\n",
              "      flex-wrap:wrap;\n",
              "      gap: 12px;\n",
              "    }\n",
              "\n",
              "    .colab-df-convert {\n",
              "      background-color: #E8F0FE;\n",
              "      border: none;\n",
              "      border-radius: 50%;\n",
              "      cursor: pointer;\n",
              "      display: none;\n",
              "      fill: #1967D2;\n",
              "      height: 32px;\n",
              "      padding: 0 0 0 0;\n",
              "      width: 32px;\n",
              "    }\n",
              "\n",
              "    .colab-df-convert:hover {\n",
              "      background-color: #E2EBFA;\n",
              "      box-shadow: 0px 1px 2px rgba(60, 64, 67, 0.3), 0px 1px 3px 1px rgba(60, 64, 67, 0.15);\n",
              "      fill: #174EA6;\n",
              "    }\n",
              "\n",
              "    [theme=dark] .colab-df-convert {\n",
              "      background-color: #3B4455;\n",
              "      fill: #D2E3FC;\n",
              "    }\n",
              "\n",
              "    [theme=dark] .colab-df-convert:hover {\n",
              "      background-color: #434B5C;\n",
              "      box-shadow: 0px 1px 3px 1px rgba(0, 0, 0, 0.15);\n",
              "      filter: drop-shadow(0px 1px 2px rgba(0, 0, 0, 0.3));\n",
              "      fill: #FFFFFF;\n",
              "    }\n",
              "  </style>\n",
              "\n",
              "      <script>\n",
              "        const buttonEl =\n",
              "          document.querySelector('#df-1bb5a1a0-4cff-4710-81f2-03b0046621c5 button.colab-df-convert');\n",
              "        buttonEl.style.display =\n",
              "          google.colab.kernel.accessAllowed ? 'block' : 'none';\n",
              "\n",
              "        async function convertToInteractive(key) {\n",
              "          const element = document.querySelector('#df-1bb5a1a0-4cff-4710-81f2-03b0046621c5');\n",
              "          const dataTable =\n",
              "            await google.colab.kernel.invokeFunction('convertToInteractive',\n",
              "                                                     [key], {});\n",
              "          if (!dataTable) return;\n",
              "\n",
              "          const docLinkHtml = 'Like what you see? Visit the ' +\n",
              "            '<a target=\"_blank\" href=https://colab.research.google.com/notebooks/data_table.ipynb>data table notebook</a>'\n",
              "            + ' to learn more about interactive tables.';\n",
              "          element.innerHTML = '';\n",
              "          dataTable['output_type'] = 'display_data';\n",
              "          await google.colab.output.renderOutput(dataTable, element);\n",
              "          const docLink = document.createElement('div');\n",
              "          docLink.innerHTML = docLinkHtml;\n",
              "          element.appendChild(docLink);\n",
              "        }\n",
              "      </script>\n",
              "    </div>\n",
              "  </div>\n",
              "  "
            ]
          },
          "metadata": {},
          "execution_count": 7
        }
      ],
      "source": [
        "df.describe()"
      ]
    },
    {
      "cell_type": "markdown",
      "id": "159ec9ef",
      "metadata": {
        "id": "159ec9ef"
      },
      "source": [
        "⭐Let's get rid of the outliers, moreover blood pressure could not be negative value!"
      ]
    },
    {
      "cell_type": "code",
      "execution_count": 11,
      "id": "8e850766",
      "metadata": {
        "id": "8e850766",
        "colab": {
          "base_uri": "https://localhost:8080/",
          "height": 424
        },
        "outputId": "0d666bd0-bc69-4f57-d91b-7a0df1f20f66"
      },
      "outputs": [
        {
          "output_type": "execute_result",
          "data": {
            "text/plain": [
              "          id    age  gender  height  weight  ap_hi  ap_lo  cholesterol  gluc  \\\n",
              "0          0  18393       2     168    62.0    110     80            1     1   \n",
              "1          1  20228       1     156    85.0    140     90            3     1   \n",
              "2          2  18857       1     165    64.0    130     70            3     1   \n",
              "3          3  17623       2     169    82.0    150    100            1     1   \n",
              "4          4  17474       1     156    56.0    100     60            1     1   \n",
              "...      ...    ...     ...     ...     ...    ...    ...          ...   ...   \n",
              "69995  99993  19240       2     168    76.0    120     80            1     1   \n",
              "69996  99995  22601       1     158   126.0    140     90            2     2   \n",
              "69997  99996  19066       2     183   105.0    180     90            3     1   \n",
              "69998  99998  22431       1     163    72.0    135     80            1     2   \n",
              "69999  99999  20540       1     170    72.0    120     80            2     1   \n",
              "\n",
              "       smoke  alco  active  cardio  \n",
              "0          0     0       1       0  \n",
              "1          0     0       1       1  \n",
              "2          0     0       0       1  \n",
              "3          0     0       1       1  \n",
              "4          0     0       0       0  \n",
              "...      ...   ...     ...     ...  \n",
              "69995      1     0       1       0  \n",
              "69996      0     0       1       1  \n",
              "69997      0     1       0       1  \n",
              "69998      0     0       0       1  \n",
              "69999      0     0       1       0  \n",
              "\n",
              "[69953 rows x 13 columns]"
            ],
            "text/html": [
              "\n",
              "  <div id=\"df-fc565ff5-f190-4a9e-b9b4-752c168487a0\">\n",
              "    <div class=\"colab-df-container\">\n",
              "      <div>\n",
              "<style scoped>\n",
              "    .dataframe tbody tr th:only-of-type {\n",
              "        vertical-align: middle;\n",
              "    }\n",
              "\n",
              "    .dataframe tbody tr th {\n",
              "        vertical-align: top;\n",
              "    }\n",
              "\n",
              "    .dataframe thead th {\n",
              "        text-align: right;\n",
              "    }\n",
              "</style>\n",
              "<table border=\"1\" class=\"dataframe\">\n",
              "  <thead>\n",
              "    <tr style=\"text-align: right;\">\n",
              "      <th></th>\n",
              "      <th>id</th>\n",
              "      <th>age</th>\n",
              "      <th>gender</th>\n",
              "      <th>height</th>\n",
              "      <th>weight</th>\n",
              "      <th>ap_hi</th>\n",
              "      <th>ap_lo</th>\n",
              "      <th>cholesterol</th>\n",
              "      <th>gluc</th>\n",
              "      <th>smoke</th>\n",
              "      <th>alco</th>\n",
              "      <th>active</th>\n",
              "      <th>cardio</th>\n",
              "    </tr>\n",
              "  </thead>\n",
              "  <tbody>\n",
              "    <tr>\n",
              "      <th>0</th>\n",
              "      <td>0</td>\n",
              "      <td>18393</td>\n",
              "      <td>2</td>\n",
              "      <td>168</td>\n",
              "      <td>62.0</td>\n",
              "      <td>110</td>\n",
              "      <td>80</td>\n",
              "      <td>1</td>\n",
              "      <td>1</td>\n",
              "      <td>0</td>\n",
              "      <td>0</td>\n",
              "      <td>1</td>\n",
              "      <td>0</td>\n",
              "    </tr>\n",
              "    <tr>\n",
              "      <th>1</th>\n",
              "      <td>1</td>\n",
              "      <td>20228</td>\n",
              "      <td>1</td>\n",
              "      <td>156</td>\n",
              "      <td>85.0</td>\n",
              "      <td>140</td>\n",
              "      <td>90</td>\n",
              "      <td>3</td>\n",
              "      <td>1</td>\n",
              "      <td>0</td>\n",
              "      <td>0</td>\n",
              "      <td>1</td>\n",
              "      <td>1</td>\n",
              "    </tr>\n",
              "    <tr>\n",
              "      <th>2</th>\n",
              "      <td>2</td>\n",
              "      <td>18857</td>\n",
              "      <td>1</td>\n",
              "      <td>165</td>\n",
              "      <td>64.0</td>\n",
              "      <td>130</td>\n",
              "      <td>70</td>\n",
              "      <td>3</td>\n",
              "      <td>1</td>\n",
              "      <td>0</td>\n",
              "      <td>0</td>\n",
              "      <td>0</td>\n",
              "      <td>1</td>\n",
              "    </tr>\n",
              "    <tr>\n",
              "      <th>3</th>\n",
              "      <td>3</td>\n",
              "      <td>17623</td>\n",
              "      <td>2</td>\n",
              "      <td>169</td>\n",
              "      <td>82.0</td>\n",
              "      <td>150</td>\n",
              "      <td>100</td>\n",
              "      <td>1</td>\n",
              "      <td>1</td>\n",
              "      <td>0</td>\n",
              "      <td>0</td>\n",
              "      <td>1</td>\n",
              "      <td>1</td>\n",
              "    </tr>\n",
              "    <tr>\n",
              "      <th>4</th>\n",
              "      <td>4</td>\n",
              "      <td>17474</td>\n",
              "      <td>1</td>\n",
              "      <td>156</td>\n",
              "      <td>56.0</td>\n",
              "      <td>100</td>\n",
              "      <td>60</td>\n",
              "      <td>1</td>\n",
              "      <td>1</td>\n",
              "      <td>0</td>\n",
              "      <td>0</td>\n",
              "      <td>0</td>\n",
              "      <td>0</td>\n",
              "    </tr>\n",
              "    <tr>\n",
              "      <th>...</th>\n",
              "      <td>...</td>\n",
              "      <td>...</td>\n",
              "      <td>...</td>\n",
              "      <td>...</td>\n",
              "      <td>...</td>\n",
              "      <td>...</td>\n",
              "      <td>...</td>\n",
              "      <td>...</td>\n",
              "      <td>...</td>\n",
              "      <td>...</td>\n",
              "      <td>...</td>\n",
              "      <td>...</td>\n",
              "      <td>...</td>\n",
              "    </tr>\n",
              "    <tr>\n",
              "      <th>69995</th>\n",
              "      <td>99993</td>\n",
              "      <td>19240</td>\n",
              "      <td>2</td>\n",
              "      <td>168</td>\n",
              "      <td>76.0</td>\n",
              "      <td>120</td>\n",
              "      <td>80</td>\n",
              "      <td>1</td>\n",
              "      <td>1</td>\n",
              "      <td>1</td>\n",
              "      <td>0</td>\n",
              "      <td>1</td>\n",
              "      <td>0</td>\n",
              "    </tr>\n",
              "    <tr>\n",
              "      <th>69996</th>\n",
              "      <td>99995</td>\n",
              "      <td>22601</td>\n",
              "      <td>1</td>\n",
              "      <td>158</td>\n",
              "      <td>126.0</td>\n",
              "      <td>140</td>\n",
              "      <td>90</td>\n",
              "      <td>2</td>\n",
              "      <td>2</td>\n",
              "      <td>0</td>\n",
              "      <td>0</td>\n",
              "      <td>1</td>\n",
              "      <td>1</td>\n",
              "    </tr>\n",
              "    <tr>\n",
              "      <th>69997</th>\n",
              "      <td>99996</td>\n",
              "      <td>19066</td>\n",
              "      <td>2</td>\n",
              "      <td>183</td>\n",
              "      <td>105.0</td>\n",
              "      <td>180</td>\n",
              "      <td>90</td>\n",
              "      <td>3</td>\n",
              "      <td>1</td>\n",
              "      <td>0</td>\n",
              "      <td>1</td>\n",
              "      <td>0</td>\n",
              "      <td>1</td>\n",
              "    </tr>\n",
              "    <tr>\n",
              "      <th>69998</th>\n",
              "      <td>99998</td>\n",
              "      <td>22431</td>\n",
              "      <td>1</td>\n",
              "      <td>163</td>\n",
              "      <td>72.0</td>\n",
              "      <td>135</td>\n",
              "      <td>80</td>\n",
              "      <td>1</td>\n",
              "      <td>2</td>\n",
              "      <td>0</td>\n",
              "      <td>0</td>\n",
              "      <td>0</td>\n",
              "      <td>1</td>\n",
              "    </tr>\n",
              "    <tr>\n",
              "      <th>69999</th>\n",
              "      <td>99999</td>\n",
              "      <td>20540</td>\n",
              "      <td>1</td>\n",
              "      <td>170</td>\n",
              "      <td>72.0</td>\n",
              "      <td>120</td>\n",
              "      <td>80</td>\n",
              "      <td>2</td>\n",
              "      <td>1</td>\n",
              "      <td>0</td>\n",
              "      <td>0</td>\n",
              "      <td>1</td>\n",
              "      <td>0</td>\n",
              "    </tr>\n",
              "  </tbody>\n",
              "</table>\n",
              "<p>69953 rows × 13 columns</p>\n",
              "</div>\n",
              "      <button class=\"colab-df-convert\" onclick=\"convertToInteractive('df-fc565ff5-f190-4a9e-b9b4-752c168487a0')\"\n",
              "              title=\"Convert this dataframe to an interactive table.\"\n",
              "              style=\"display:none;\">\n",
              "        \n",
              "  <svg xmlns=\"http://www.w3.org/2000/svg\" height=\"24px\"viewBox=\"0 0 24 24\"\n",
              "       width=\"24px\">\n",
              "    <path d=\"M0 0h24v24H0V0z\" fill=\"none\"/>\n",
              "    <path d=\"M18.56 5.44l.94 2.06.94-2.06 2.06-.94-2.06-.94-.94-2.06-.94 2.06-2.06.94zm-11 1L8.5 8.5l.94-2.06 2.06-.94-2.06-.94L8.5 2.5l-.94 2.06-2.06.94zm10 10l.94 2.06.94-2.06 2.06-.94-2.06-.94-.94-2.06-.94 2.06-2.06.94z\"/><path d=\"M17.41 7.96l-1.37-1.37c-.4-.4-.92-.59-1.43-.59-.52 0-1.04.2-1.43.59L10.3 9.45l-7.72 7.72c-.78.78-.78 2.05 0 2.83L4 21.41c.39.39.9.59 1.41.59.51 0 1.02-.2 1.41-.59l7.78-7.78 2.81-2.81c.8-.78.8-2.07 0-2.86zM5.41 20L4 18.59l7.72-7.72 1.47 1.35L5.41 20z\"/>\n",
              "  </svg>\n",
              "      </button>\n",
              "      \n",
              "  <style>\n",
              "    .colab-df-container {\n",
              "      display:flex;\n",
              "      flex-wrap:wrap;\n",
              "      gap: 12px;\n",
              "    }\n",
              "\n",
              "    .colab-df-convert {\n",
              "      background-color: #E8F0FE;\n",
              "      border: none;\n",
              "      border-radius: 50%;\n",
              "      cursor: pointer;\n",
              "      display: none;\n",
              "      fill: #1967D2;\n",
              "      height: 32px;\n",
              "      padding: 0 0 0 0;\n",
              "      width: 32px;\n",
              "    }\n",
              "\n",
              "    .colab-df-convert:hover {\n",
              "      background-color: #E2EBFA;\n",
              "      box-shadow: 0px 1px 2px rgba(60, 64, 67, 0.3), 0px 1px 3px 1px rgba(60, 64, 67, 0.15);\n",
              "      fill: #174EA6;\n",
              "    }\n",
              "\n",
              "    [theme=dark] .colab-df-convert {\n",
              "      background-color: #3B4455;\n",
              "      fill: #D2E3FC;\n",
              "    }\n",
              "\n",
              "    [theme=dark] .colab-df-convert:hover {\n",
              "      background-color: #434B5C;\n",
              "      box-shadow: 0px 1px 3px 1px rgba(0, 0, 0, 0.15);\n",
              "      filter: drop-shadow(0px 1px 2px rgba(0, 0, 0, 0.3));\n",
              "      fill: #FFFFFF;\n",
              "    }\n",
              "  </style>\n",
              "\n",
              "      <script>\n",
              "        const buttonEl =\n",
              "          document.querySelector('#df-fc565ff5-f190-4a9e-b9b4-752c168487a0 button.colab-df-convert');\n",
              "        buttonEl.style.display =\n",
              "          google.colab.kernel.accessAllowed ? 'block' : 'none';\n",
              "\n",
              "        async function convertToInteractive(key) {\n",
              "          const element = document.querySelector('#df-fc565ff5-f190-4a9e-b9b4-752c168487a0');\n",
              "          const dataTable =\n",
              "            await google.colab.kernel.invokeFunction('convertToInteractive',\n",
              "                                                     [key], {});\n",
              "          if (!dataTable) return;\n",
              "\n",
              "          const docLinkHtml = 'Like what you see? Visit the ' +\n",
              "            '<a target=\"_blank\" href=https://colab.research.google.com/notebooks/data_table.ipynb>data table notebook</a>'\n",
              "            + ' to learn more about interactive tables.';\n",
              "          element.innerHTML = '';\n",
              "          dataTable['output_type'] = 'display_data';\n",
              "          await google.colab.output.renderOutput(dataTable, element);\n",
              "          const docLink = document.createElement('div');\n",
              "          docLink.innerHTML = docLinkHtml;\n",
              "          element.appendChild(docLink);\n",
              "        }\n",
              "      </script>\n",
              "    </div>\n",
              "  </div>\n",
              "  "
            ]
          },
          "metadata": {},
          "execution_count": 11
        }
      ],
      "source": [
        "df=df[df[\"ap_hi\"]<250]\n",
        "df=df[df[\"ap_hi\"]>0]\n",
        "df"
      ]
    },
    {
      "cell_type": "code",
      "source": [
        "iqr=stats.iqr(df.ap_hi)\n",
        "iqr"
      ],
      "metadata": {
        "colab": {
          "base_uri": "https://localhost:8080/"
        },
        "id": "r0ChkuCu6ez_",
        "outputId": "87b874fc-f84f-489c-886f-4a07ff573569"
      },
      "id": "r0ChkuCu6ez_",
      "execution_count": 12,
      "outputs": [
        {
          "output_type": "execute_result",
          "data": {
            "text/plain": [
              "20.0"
            ]
          },
          "metadata": {},
          "execution_count": 12
        }
      ]
    },
    {
      "cell_type": "code",
      "source": [
        "np.percentile(df.ap_hi, 25)-1.5*iqr"
      ],
      "metadata": {
        "colab": {
          "base_uri": "https://localhost:8080/"
        },
        "id": "A51CI5SQ6exW",
        "outputId": "9f65686d-8d66-4115-bce4-44cc7a8d64d8"
      },
      "id": "A51CI5SQ6exW",
      "execution_count": 15,
      "outputs": [
        {
          "output_type": "execute_result",
          "data": {
            "text/plain": [
              "90.0"
            ]
          },
          "metadata": {},
          "execution_count": 15
        }
      ]
    },
    {
      "cell_type": "code",
      "source": [
        "df = df[df[\"ap_hi\"] < 170]\n",
        "df = df[df[\"ap_hi\"] > 90]"
      ],
      "metadata": {
        "id": "yAKDfKqz746V"
      },
      "id": "yAKDfKqz746V",
      "execution_count": 20,
      "outputs": []
    },
    {
      "cell_type": "code",
      "source": [
        "df = df[df[\"ap_lo\"] < 110]\n",
        "df = df[df[\"ap_lo\"] > 60]"
      ],
      "metadata": {
        "id": "UoPjkq3y743A"
      },
      "id": "UoPjkq3y743A",
      "execution_count": 21,
      "outputs": []
    },
    {
      "cell_type": "code",
      "source": [
        "df = df.sample(n = 500)"
      ],
      "metadata": {
        "id": "10gOEEZc74uF"
      },
      "id": "10gOEEZc74uF",
      "execution_count": 22,
      "outputs": []
    },
    {
      "cell_type": "code",
      "source": [
        "df.describe()"
      ],
      "metadata": {
        "colab": {
          "base_uri": "https://localhost:8080/",
          "height": 300
        },
        "id": "boHjdxR-74qw",
        "outputId": "d13b6f72-5c27-4215-8444-1ea7a4ce6a60"
      },
      "id": "boHjdxR-74qw",
      "execution_count": 24,
      "outputs": [
        {
          "output_type": "execute_result",
          "data": {
            "text/plain": [
              "                 id           age      gender      height      weight  \\\n",
              "count    500.000000    500.000000  500.000000  500.000000  500.000000   \n",
              "mean   48365.752000  19794.386000    1.368000  164.294000   74.636000   \n",
              "std    28868.686705   2467.935524    0.482744    8.429809   15.371111   \n",
              "min       44.000000  14369.000000    1.000000  111.000000   42.000000   \n",
              "25%    23463.500000  18158.750000    1.000000  159.000000   64.000000   \n",
              "50%    46623.500000  20333.000000    1.000000  165.000000   72.000000   \n",
              "75%    71255.750000  21842.750000    2.000000  169.250000   84.000000   \n",
              "max    99925.000000  23636.000000    2.000000  189.000000  180.000000   \n",
              "\n",
              "            ap_hi       ap_lo  cholesterol        gluc       smoke  \\\n",
              "count  500.000000  500.000000    500.00000  500.000000  500.000000   \n",
              "mean   126.820000   81.506000      1.40000    1.232000    0.066000   \n",
              "std     13.718601    7.413223      0.69927    0.575185    0.248531   \n",
              "min     95.000000   70.000000      1.00000    1.000000    0.000000   \n",
              "25%    120.000000   80.000000      1.00000    1.000000    0.000000   \n",
              "50%    120.000000   80.000000      1.00000    1.000000    0.000000   \n",
              "75%    140.000000   90.000000      2.00000    1.000000    0.000000   \n",
              "max    160.000000  100.000000      3.00000    3.000000    1.000000   \n",
              "\n",
              "             alco      active      cardio  \n",
              "count  500.000000  500.000000  500.000000  \n",
              "mean     0.040000    0.798000    0.536000  \n",
              "std      0.196155    0.401894    0.499202  \n",
              "min      0.000000    0.000000    0.000000  \n",
              "25%      0.000000    1.000000    0.000000  \n",
              "50%      0.000000    1.000000    1.000000  \n",
              "75%      0.000000    1.000000    1.000000  \n",
              "max      1.000000    1.000000    1.000000  "
            ],
            "text/html": [
              "\n",
              "  <div id=\"df-389626b9-8a13-4d80-b0e8-51bf6e97f75f\">\n",
              "    <div class=\"colab-df-container\">\n",
              "      <div>\n",
              "<style scoped>\n",
              "    .dataframe tbody tr th:only-of-type {\n",
              "        vertical-align: middle;\n",
              "    }\n",
              "\n",
              "    .dataframe tbody tr th {\n",
              "        vertical-align: top;\n",
              "    }\n",
              "\n",
              "    .dataframe thead th {\n",
              "        text-align: right;\n",
              "    }\n",
              "</style>\n",
              "<table border=\"1\" class=\"dataframe\">\n",
              "  <thead>\n",
              "    <tr style=\"text-align: right;\">\n",
              "      <th></th>\n",
              "      <th>id</th>\n",
              "      <th>age</th>\n",
              "      <th>gender</th>\n",
              "      <th>height</th>\n",
              "      <th>weight</th>\n",
              "      <th>ap_hi</th>\n",
              "      <th>ap_lo</th>\n",
              "      <th>cholesterol</th>\n",
              "      <th>gluc</th>\n",
              "      <th>smoke</th>\n",
              "      <th>alco</th>\n",
              "      <th>active</th>\n",
              "      <th>cardio</th>\n",
              "    </tr>\n",
              "  </thead>\n",
              "  <tbody>\n",
              "    <tr>\n",
              "      <th>count</th>\n",
              "      <td>500.000000</td>\n",
              "      <td>500.000000</td>\n",
              "      <td>500.000000</td>\n",
              "      <td>500.000000</td>\n",
              "      <td>500.000000</td>\n",
              "      <td>500.000000</td>\n",
              "      <td>500.000000</td>\n",
              "      <td>500.00000</td>\n",
              "      <td>500.000000</td>\n",
              "      <td>500.000000</td>\n",
              "      <td>500.000000</td>\n",
              "      <td>500.000000</td>\n",
              "      <td>500.000000</td>\n",
              "    </tr>\n",
              "    <tr>\n",
              "      <th>mean</th>\n",
              "      <td>48365.752000</td>\n",
              "      <td>19794.386000</td>\n",
              "      <td>1.368000</td>\n",
              "      <td>164.294000</td>\n",
              "      <td>74.636000</td>\n",
              "      <td>126.820000</td>\n",
              "      <td>81.506000</td>\n",
              "      <td>1.40000</td>\n",
              "      <td>1.232000</td>\n",
              "      <td>0.066000</td>\n",
              "      <td>0.040000</td>\n",
              "      <td>0.798000</td>\n",
              "      <td>0.536000</td>\n",
              "    </tr>\n",
              "    <tr>\n",
              "      <th>std</th>\n",
              "      <td>28868.686705</td>\n",
              "      <td>2467.935524</td>\n",
              "      <td>0.482744</td>\n",
              "      <td>8.429809</td>\n",
              "      <td>15.371111</td>\n",
              "      <td>13.718601</td>\n",
              "      <td>7.413223</td>\n",
              "      <td>0.69927</td>\n",
              "      <td>0.575185</td>\n",
              "      <td>0.248531</td>\n",
              "      <td>0.196155</td>\n",
              "      <td>0.401894</td>\n",
              "      <td>0.499202</td>\n",
              "    </tr>\n",
              "    <tr>\n",
              "      <th>min</th>\n",
              "      <td>44.000000</td>\n",
              "      <td>14369.000000</td>\n",
              "      <td>1.000000</td>\n",
              "      <td>111.000000</td>\n",
              "      <td>42.000000</td>\n",
              "      <td>95.000000</td>\n",
              "      <td>70.000000</td>\n",
              "      <td>1.00000</td>\n",
              "      <td>1.000000</td>\n",
              "      <td>0.000000</td>\n",
              "      <td>0.000000</td>\n",
              "      <td>0.000000</td>\n",
              "      <td>0.000000</td>\n",
              "    </tr>\n",
              "    <tr>\n",
              "      <th>25%</th>\n",
              "      <td>23463.500000</td>\n",
              "      <td>18158.750000</td>\n",
              "      <td>1.000000</td>\n",
              "      <td>159.000000</td>\n",
              "      <td>64.000000</td>\n",
              "      <td>120.000000</td>\n",
              "      <td>80.000000</td>\n",
              "      <td>1.00000</td>\n",
              "      <td>1.000000</td>\n",
              "      <td>0.000000</td>\n",
              "      <td>0.000000</td>\n",
              "      <td>1.000000</td>\n",
              "      <td>0.000000</td>\n",
              "    </tr>\n",
              "    <tr>\n",
              "      <th>50%</th>\n",
              "      <td>46623.500000</td>\n",
              "      <td>20333.000000</td>\n",
              "      <td>1.000000</td>\n",
              "      <td>165.000000</td>\n",
              "      <td>72.000000</td>\n",
              "      <td>120.000000</td>\n",
              "      <td>80.000000</td>\n",
              "      <td>1.00000</td>\n",
              "      <td>1.000000</td>\n",
              "      <td>0.000000</td>\n",
              "      <td>0.000000</td>\n",
              "      <td>1.000000</td>\n",
              "      <td>1.000000</td>\n",
              "    </tr>\n",
              "    <tr>\n",
              "      <th>75%</th>\n",
              "      <td>71255.750000</td>\n",
              "      <td>21842.750000</td>\n",
              "      <td>2.000000</td>\n",
              "      <td>169.250000</td>\n",
              "      <td>84.000000</td>\n",
              "      <td>140.000000</td>\n",
              "      <td>90.000000</td>\n",
              "      <td>2.00000</td>\n",
              "      <td>1.000000</td>\n",
              "      <td>0.000000</td>\n",
              "      <td>0.000000</td>\n",
              "      <td>1.000000</td>\n",
              "      <td>1.000000</td>\n",
              "    </tr>\n",
              "    <tr>\n",
              "      <th>max</th>\n",
              "      <td>99925.000000</td>\n",
              "      <td>23636.000000</td>\n",
              "      <td>2.000000</td>\n",
              "      <td>189.000000</td>\n",
              "      <td>180.000000</td>\n",
              "      <td>160.000000</td>\n",
              "      <td>100.000000</td>\n",
              "      <td>3.00000</td>\n",
              "      <td>3.000000</td>\n",
              "      <td>1.000000</td>\n",
              "      <td>1.000000</td>\n",
              "      <td>1.000000</td>\n",
              "      <td>1.000000</td>\n",
              "    </tr>\n",
              "  </tbody>\n",
              "</table>\n",
              "</div>\n",
              "      <button class=\"colab-df-convert\" onclick=\"convertToInteractive('df-389626b9-8a13-4d80-b0e8-51bf6e97f75f')\"\n",
              "              title=\"Convert this dataframe to an interactive table.\"\n",
              "              style=\"display:none;\">\n",
              "        \n",
              "  <svg xmlns=\"http://www.w3.org/2000/svg\" height=\"24px\"viewBox=\"0 0 24 24\"\n",
              "       width=\"24px\">\n",
              "    <path d=\"M0 0h24v24H0V0z\" fill=\"none\"/>\n",
              "    <path d=\"M18.56 5.44l.94 2.06.94-2.06 2.06-.94-2.06-.94-.94-2.06-.94 2.06-2.06.94zm-11 1L8.5 8.5l.94-2.06 2.06-.94-2.06-.94L8.5 2.5l-.94 2.06-2.06.94zm10 10l.94 2.06.94-2.06 2.06-.94-2.06-.94-.94-2.06-.94 2.06-2.06.94z\"/><path d=\"M17.41 7.96l-1.37-1.37c-.4-.4-.92-.59-1.43-.59-.52 0-1.04.2-1.43.59L10.3 9.45l-7.72 7.72c-.78.78-.78 2.05 0 2.83L4 21.41c.39.39.9.59 1.41.59.51 0 1.02-.2 1.41-.59l7.78-7.78 2.81-2.81c.8-.78.8-2.07 0-2.86zM5.41 20L4 18.59l7.72-7.72 1.47 1.35L5.41 20z\"/>\n",
              "  </svg>\n",
              "      </button>\n",
              "      \n",
              "  <style>\n",
              "    .colab-df-container {\n",
              "      display:flex;\n",
              "      flex-wrap:wrap;\n",
              "      gap: 12px;\n",
              "    }\n",
              "\n",
              "    .colab-df-convert {\n",
              "      background-color: #E8F0FE;\n",
              "      border: none;\n",
              "      border-radius: 50%;\n",
              "      cursor: pointer;\n",
              "      display: none;\n",
              "      fill: #1967D2;\n",
              "      height: 32px;\n",
              "      padding: 0 0 0 0;\n",
              "      width: 32px;\n",
              "    }\n",
              "\n",
              "    .colab-df-convert:hover {\n",
              "      background-color: #E2EBFA;\n",
              "      box-shadow: 0px 1px 2px rgba(60, 64, 67, 0.3), 0px 1px 3px 1px rgba(60, 64, 67, 0.15);\n",
              "      fill: #174EA6;\n",
              "    }\n",
              "\n",
              "    [theme=dark] .colab-df-convert {\n",
              "      background-color: #3B4455;\n",
              "      fill: #D2E3FC;\n",
              "    }\n",
              "\n",
              "    [theme=dark] .colab-df-convert:hover {\n",
              "      background-color: #434B5C;\n",
              "      box-shadow: 0px 1px 3px 1px rgba(0, 0, 0, 0.15);\n",
              "      filter: drop-shadow(0px 1px 2px rgba(0, 0, 0, 0.3));\n",
              "      fill: #FFFFFF;\n",
              "    }\n",
              "  </style>\n",
              "\n",
              "      <script>\n",
              "        const buttonEl =\n",
              "          document.querySelector('#df-389626b9-8a13-4d80-b0e8-51bf6e97f75f button.colab-df-convert');\n",
              "        buttonEl.style.display =\n",
              "          google.colab.kernel.accessAllowed ? 'block' : 'none';\n",
              "\n",
              "        async function convertToInteractive(key) {\n",
              "          const element = document.querySelector('#df-389626b9-8a13-4d80-b0e8-51bf6e97f75f');\n",
              "          const dataTable =\n",
              "            await google.colab.kernel.invokeFunction('convertToInteractive',\n",
              "                                                     [key], {});\n",
              "          if (!dataTable) return;\n",
              "\n",
              "          const docLinkHtml = 'Like what you see? Visit the ' +\n",
              "            '<a target=\"_blank\" href=https://colab.research.google.com/notebooks/data_table.ipynb>data table notebook</a>'\n",
              "            + ' to learn more about interactive tables.';\n",
              "          element.innerHTML = '';\n",
              "          dataTable['output_type'] = 'display_data';\n",
              "          await google.colab.output.renderOutput(dataTable, element);\n",
              "          const docLink = document.createElement('div');\n",
              "          docLink.innerHTML = docLinkHtml;\n",
              "          element.appendChild(docLink);\n",
              "        }\n",
              "      </script>\n",
              "    </div>\n",
              "  </div>\n",
              "  "
            ]
          },
          "metadata": {},
          "execution_count": 24
        }
      ]
    },
    {
      "cell_type": "code",
      "source": [],
      "metadata": {
        "id": "iMr5voPS74n4"
      },
      "id": "iMr5voPS74n4",
      "execution_count": null,
      "outputs": []
    },
    {
      "cell_type": "code",
      "source": [],
      "metadata": {
        "id": "GOTgHVQZ74kf"
      },
      "id": "GOTgHVQZ74kf",
      "execution_count": null,
      "outputs": []
    },
    {
      "cell_type": "code",
      "source": [
        "sns.boxplot(x=\"ap_lo\", data=df);"
      ],
      "metadata": {
        "colab": {
          "base_uri": "https://localhost:8080/",
          "height": 280
        },
        "id": "rVcl3wKE6euk",
        "outputId": "45c0e107-e07d-4a2d-fc6d-44924a8546fa"
      },
      "id": "rVcl3wKE6euk",
      "execution_count": 23,
      "outputs": [
        {
          "output_type": "display_data",
          "data": {
            "text/plain": [
              "<Figure size 432x288 with 1 Axes>"
            ],
            "image/png": "[encoded data removed]"
          },
          "metadata": {
            "needs_background": "light"
          }
        }
      ]
    },
    {
      "cell_type": "code",
      "source": [
        "df.describe()"
      ],
      "metadata": {
        "colab": {
          "base_uri": "https://localhost:8080/",
          "height": 300
        },
        "id": "f0nINpfi7NZQ",
        "outputId": "ac4ed2c6-6d38-42bf-8886-66a50a4d476b"
      },
      "id": "f0nINpfi7NZQ",
      "execution_count": 16,
      "outputs": [
        {
          "output_type": "execute_result",
          "data": {
            "text/plain": [
              "                 id           age        gender        height        weight  \\\n",
              "count  69953.000000  69953.000000  69953.000000  69953.000000  69953.000000   \n",
              "mean   49971.745300  19469.085872      1.349578    164.359298     74.209059   \n",
              "std    28852.902035   2467.049436      0.476840      8.210785     14.396143   \n",
              "min        0.000000  10798.000000      1.000000     55.000000     10.000000   \n",
              "25%    25002.000000  17665.000000      1.000000    159.000000     65.000000   \n",
              "50%    49996.000000  19703.000000      1.000000    165.000000     72.000000   \n",
              "75%    74892.000000  21327.000000      2.000000    170.000000     82.000000   \n",
              "max    99999.000000  23713.000000      2.000000    250.000000    200.000000   \n",
              "\n",
              "              ap_hi         ap_lo   cholesterol          gluc         smoke  \\\n",
              "count  69953.000000  69953.000000  69953.000000  69953.000000  69953.000000   \n",
              "mean     126.705845     96.649450      1.366861      1.226509      0.088188   \n",
              "std       18.036626    188.532772      0.680299      0.572310      0.283570   \n",
              "min        1.000000    -70.000000      1.000000      1.000000      0.000000   \n",
              "25%      120.000000     80.000000      1.000000      1.000000      0.000000   \n",
              "50%      120.000000     80.000000      1.000000      1.000000      0.000000   \n",
              "75%      140.000000     90.000000      2.000000      1.000000      0.000000   \n",
              "max      240.000000  11000.000000      3.000000      3.000000      1.000000   \n",
              "\n",
              "               alco        active        cardio  \n",
              "count  69953.000000  69953.000000  69953.000000  \n",
              "mean       0.053779      0.803682      0.499635  \n",
              "std        0.225583      0.397214      0.500003  \n",
              "min        0.000000      0.000000      0.000000  \n",
              "25%        0.000000      1.000000      0.000000  \n",
              "50%        0.000000      1.000000      0.000000  \n",
              "75%        0.000000      1.000000      1.000000  \n",
              "max        1.000000      1.000000      1.000000  "
            ],
            "text/html": [
              "\n",
              "  <div id=\"df-06353881-1df9-4a08-977c-435f3d33706b\">\n",
              "    <div class=\"colab-df-container\">\n",
              "      <div>\n",
              "<style scoped>\n",
              "    .dataframe tbody tr th:only-of-type {\n",
              "        vertical-align: middle;\n",
              "    }\n",
              "\n",
              "    .dataframe tbody tr th {\n",
              "        vertical-align: top;\n",
              "    }\n",
              "\n",
              "    .dataframe thead th {\n",
              "        text-align: right;\n",
              "    }\n",
              "</style>\n",
              "<table border=\"1\" class=\"dataframe\">\n",
              "  <thead>\n",
              "    <tr style=\"text-align: right;\">\n",
              "      <th></th>\n",
              "      <th>id</th>\n",
              "      <th>age</th>\n",
              "      <th>gender</th>\n",
              "      <th>height</th>\n",
              "      <th>weight</th>\n",
              "      <th>ap_hi</th>\n",
              "      <th>ap_lo</th>\n",
              "      <th>cholesterol</th>\n",
              "      <th>gluc</th>\n",
              "      <th>smoke</th>\n",
              "      <th>alco</th>\n",
              "      <th>active</th>\n",
              "      <th>cardio</th>\n",
              "    </tr>\n",
              "  </thead>\n",
              "  <tbody>\n",
              "    <tr>\n",
              "      <th>count</th>\n",
              "      <td>69953.000000</td>\n",
              "      <td>69953.000000</td>\n",
              "      <td>69953.000000</td>\n",
              "      <td>69953.000000</td>\n",
              "      <td>69953.000000</td>\n",
              "      <td>69953.000000</td>\n",
              "      <td>69953.000000</td>\n",
              "      <td>69953.000000</td>\n",
              "      <td>69953.000000</td>\n",
              "      <td>69953.000000</td>\n",
              "      <td>69953.000000</td>\n",
              "      <td>69953.000000</td>\n",
              "      <td>69953.000000</td>\n",
              "    </tr>\n",
              "    <tr>\n",
              "      <th>mean</th>\n",
              "      <td>49971.745300</td>\n",
              "      <td>19469.085872</td>\n",
              "      <td>1.349578</td>\n",
              "      <td>164.359298</td>\n",
              "      <td>74.209059</td>\n",
              "      <td>126.705845</td>\n",
              "      <td>96.649450</td>\n",
              "      <td>1.366861</td>\n",
              "      <td>1.226509</td>\n",
              "      <td>0.088188</td>\n",
              "      <td>0.053779</td>\n",
              "      <td>0.803682</td>\n",
              "      <td>0.499635</td>\n",
              "    </tr>\n",
              "    <tr>\n",
              "      <th>std</th>\n",
              "      <td>28852.902035</td>\n",
              "      <td>2467.049436</td>\n",
              "      <td>0.476840</td>\n",
              "      <td>8.210785</td>\n",
              "      <td>14.396143</td>\n",
              "      <td>18.036626</td>\n",
              "      <td>188.532772</td>\n",
              "      <td>0.680299</td>\n",
              "      <td>0.572310</td>\n",
              "      <td>0.283570</td>\n",
              "      <td>0.225583</td>\n",
              "      <td>0.397214</td>\n",
              "      <td>0.500003</td>\n",
              "    </tr>\n",
              "    <tr>\n",
              "      <th>min</th>\n",
              "      <td>0.000000</td>\n",
              "      <td>10798.000000</td>\n",
              "      <td>1.000000</td>\n",
              "      <td>55.000000</td>\n",
              "      <td>10.000000</td>\n",
              "      <td>1.000000</td>\n",
              "      <td>-70.000000</td>\n",
              "      <td>1.000000</td>\n",
              "      <td>1.000000</td>\n",
              "      <td>0.000000</td>\n",
              "      <td>0.000000</td>\n",
              "      <td>0.000000</td>\n",
              "      <td>0.000000</td>\n",
              "    </tr>\n",
              "    <tr>\n",
              "      <th>25%</th>\n",
              "      <td>25002.000000</td>\n",
              "      <td>17665.000000</td>\n",
              "      <td>1.000000</td>\n",
              "      <td>159.000000</td>\n",
              "      <td>65.000000</td>\n",
              "      <td>120.000000</td>\n",
              "      <td>80.000000</td>\n",
              "      <td>1.000000</td>\n",
              "      <td>1.000000</td>\n",
              "      <td>0.000000</td>\n",
              "      <td>0.000000</td>\n",
              "      <td>1.000000</td>\n",
              "      <td>0.000000</td>\n",
              "    </tr>\n",
              "    <tr>\n",
              "      <th>50%</th>\n",
              "      <td>49996.000000</td>\n",
              "      <td>19703.000000</td>\n",
              "      <td>1.000000</td>\n",
              "      <td>165.000000</td>\n",
              "      <td>72.000000</td>\n",
              "      <td>120.000000</td>\n",
              "      <td>80.000000</td>\n",
              "      <td>1.000000</td>\n",
              "      <td>1.000000</td>\n",
              "      <td>0.000000</td>\n",
              "      <td>0.000000</td>\n",
              "      <td>1.000000</td>\n",
              "      <td>0.000000</td>\n",
              "    </tr>\n",
              "    <tr>\n",
              "      <th>75%</th>\n",
              "      <td>74892.000000</td>\n",
              "      <td>21327.000000</td>\n",
              "      <td>2.000000</td>\n",
              "      <td>170.000000</td>\n",
              "      <td>82.000000</td>\n",
              "      <td>140.000000</td>\n",
              "      <td>90.000000</td>\n",
              "      <td>2.000000</td>\n",
              "      <td>1.000000</td>\n",
              "      <td>0.000000</td>\n",
              "      <td>0.000000</td>\n",
              "      <td>1.000000</td>\n",
              "      <td>1.000000</td>\n",
              "    </tr>\n",
              "    <tr>\n",
              "      <th>max</th>\n",
              "      <td>99999.000000</td>\n",
              "      <td>23713.000000</td>\n",
              "      <td>2.000000</td>\n",
              "      <td>250.000000</td>\n",
              "      <td>200.000000</td>\n",
              "      <td>240.000000</td>\n",
              "      <td>11000.000000</td>\n",
              "      <td>3.000000</td>\n",
              "      <td>3.000000</td>\n",
              "      <td>1.000000</td>\n",
              "      <td>1.000000</td>\n",
              "      <td>1.000000</td>\n",
              "      <td>1.000000</td>\n",
              "    </tr>\n",
              "  </tbody>\n",
              "</table>\n",
              "</div>\n",
              "      <button class=\"colab-df-convert\" onclick=\"convertToInteractive('df-06353881-1df9-4a08-977c-435f3d33706b')\"\n",
              "              title=\"Convert this dataframe to an interactive table.\"\n",
              "              style=\"display:none;\">\n",
              "        \n",
              "  <svg xmlns=\"http://www.w3.org/2000/svg\" height=\"24px\"viewBox=\"0 0 24 24\"\n",
              "       width=\"24px\">\n",
              "    <path d=\"M0 0h24v24H0V0z\" fill=\"none\"/>\n",
              "    <path d=\"M18.56 5.44l.94 2.06.94-2.06 2.06-.94-2.06-.94-.94-2.06-.94 2.06-2.06.94zm-11 1L8.5 8.5l.94-2.06 2.06-.94-2.06-.94L8.5 2.5l-.94 2.06-2.06.94zm10 10l.94 2.06.94-2.06 2.06-.94-2.06-.94-.94-2.06-.94 2.06-2.06.94z\"/><path d=\"M17.41 7.96l-1.37-1.37c-.4-.4-.92-.59-1.43-.59-.52 0-1.04.2-1.43.59L10.3 9.45l-7.72 7.72c-.78.78-.78 2.05 0 2.83L4 21.41c.39.39.9.59 1.41.59.51 0 1.02-.2 1.41-.59l7.78-7.78 2.81-2.81c.8-.78.8-2.07 0-2.86zM5.41 20L4 18.59l7.72-7.72 1.47 1.35L5.41 20z\"/>\n",
              "  </svg>\n",
              "      </button>\n",
              "      \n",
              "  <style>\n",
              "    .colab-df-container {\n",
              "      display:flex;\n",
              "      flex-wrap:wrap;\n",
              "      gap: 12px;\n",
              "    }\n",
              "\n",
              "    .colab-df-convert {\n",
              "      background-color: #E8F0FE;\n",
              "      border: none;\n",
              "      border-radius: 50%;\n",
              "      cursor: pointer;\n",
              "      display: none;\n",
              "      fill: #1967D2;\n",
              "      height: 32px;\n",
              "      padding: 0 0 0 0;\n",
              "      width: 32px;\n",
              "    }\n",
              "\n",
              "    .colab-df-convert:hover {\n",
              "      background-color: #E2EBFA;\n",
              "      box-shadow: 0px 1px 2px rgba(60, 64, 67, 0.3), 0px 1px 3px 1px rgba(60, 64, 67, 0.15);\n",
              "      fill: #174EA6;\n",
              "    }\n",
              "\n",
              "    [theme=dark] .colab-df-convert {\n",
              "      background-color: #3B4455;\n",
              "      fill: #D2E3FC;\n",
              "    }\n",
              "\n",
              "    [theme=dark] .colab-df-convert:hover {\n",
              "      background-color: #434B5C;\n",
              "      box-shadow: 0px 1px 3px 1px rgba(0, 0, 0, 0.15);\n",
              "      filter: drop-shadow(0px 1px 2px rgba(0, 0, 0, 0.3));\n",
              "      fill: #FFFFFF;\n",
              "    }\n",
              "  </style>\n",
              "\n",
              "      <script>\n",
              "        const buttonEl =\n",
              "          document.querySelector('#df-06353881-1df9-4a08-977c-435f3d33706b button.colab-df-convert');\n",
              "        buttonEl.style.display =\n",
              "          google.colab.kernel.accessAllowed ? 'block' : 'none';\n",
              "\n",
              "        async function convertToInteractive(key) {\n",
              "          const element = document.querySelector('#df-06353881-1df9-4a08-977c-435f3d33706b');\n",
              "          const dataTable =\n",
              "            await google.colab.kernel.invokeFunction('convertToInteractive',\n",
              "                                                     [key], {});\n",
              "          if (!dataTable) return;\n",
              "\n",
              "          const docLinkHtml = 'Like what you see? Visit the ' +\n",
              "            '<a target=\"_blank\" href=https://colab.research.google.com/notebooks/data_table.ipynb>data table notebook</a>'\n",
              "            + ' to learn more about interactive tables.';\n",
              "          element.innerHTML = '';\n",
              "          dataTable['output_type'] = 'display_data';\n",
              "          await google.colab.output.renderOutput(dataTable, element);\n",
              "          const docLink = document.createElement('div');\n",
              "          docLink.innerHTML = docLinkHtml;\n",
              "          element.appendChild(docLink);\n",
              "        }\n",
              "      </script>\n",
              "    </div>\n",
              "  </div>\n",
              "  "
            ]
          },
          "metadata": {},
          "execution_count": 16
        }
      ]
    },
    {
      "cell_type": "code",
      "source": [],
      "metadata": {
        "id": "5bwP9WVY7NV2"
      },
      "id": "5bwP9WVY7NV2",
      "execution_count": null,
      "outputs": []
    },
    {
      "cell_type": "code",
      "source": [],
      "metadata": {
        "id": "sgqcixwz7NTN"
      },
      "id": "sgqcixwz7NTN",
      "execution_count": null,
      "outputs": []
    },
    {
      "cell_type": "code",
      "source": [],
      "metadata": {
        "id": "5MrxucR27NNz"
      },
      "id": "5MrxucR27NNz",
      "execution_count": null,
      "outputs": []
    },
    {
      "cell_type": "code",
      "source": [],
      "metadata": {
        "id": "Iok5LG_t6erm"
      },
      "id": "Iok5LG_t6erm",
      "execution_count": null,
      "outputs": []
    },
    {
      "cell_type": "markdown",
      "id": "fb035634",
      "metadata": {
        "id": "fb035634"
      },
      "source": [
        "## Task-1. Is the Systolic blood pressure population mean 122mmhg?"
      ]
    },
    {
      "cell_type": "markdown",
      "id": "604a6bbe",
      "metadata": {
        "id": "604a6bbe"
      },
      "source": [
        "ap_hi => It's the Systolic blood pressure i.e. Pressure exerted when Blood is ejected in arteries. Normal value : 122 mm Hg for all adults aged 18 and over"
      ]
    },
    {
      "cell_type": "markdown",
      "id": "bb6ca4cf",
      "metadata": {
        "id": "bb6ca4cf"
      },
      "source": [
        "⭐What is the mean for Systolic blood pressure?"
      ]
    },
    {
      "cell_type": "code",
      "execution_count": 25,
      "id": "5bc33ad7",
      "metadata": {
        "id": "5bc33ad7",
        "outputId": "ba216119-d9c2-4a7f-86b8-ebc925d7f2d3",
        "colab": {
          "base_uri": "https://localhost:8080/"
        }
      },
      "outputs": [
        {
          "output_type": "execute_result",
          "data": {
            "text/plain": [
              "126.82"
            ]
          },
          "metadata": {},
          "execution_count": 25
        }
      ],
      "source": [
        "df.ap_hi.mean()"
      ]
    },
    {
      "cell_type": "markdown",
      "id": "KX4IjRriZzAi",
      "metadata": {
        "id": "KX4IjRriZzAi"
      },
      "source": [
        "⭐What is the standard deviation for Systolic blood pressure?"
      ]
    },
    {
      "cell_type": "code",
      "execution_count": 26,
      "id": "69d481ee",
      "metadata": {
        "id": "69d481ee",
        "outputId": "39cb2fe9-c06a-4d6e-86a0-cf9ebffe452a",
        "colab": {
          "base_uri": "https://localhost:8080/"
        }
      },
      "outputs": [
        {
          "output_type": "execute_result",
          "data": {
            "text/plain": [
              "13.718600511714014"
            ]
          },
          "metadata": {},
          "execution_count": 26
        }
      ],
      "source": [
        "df.ap_hi.std()"
      ]
    },
    {
      "cell_type": "markdown",
      "id": "uUV8XmvbZ2aI",
      "metadata": {
        "id": "uUV8XmvbZ2aI"
      },
      "source": [
        "⭐What is the standard error of the mean for Systolic blood pressure?"
      ]
    },
    {
      "cell_type": "code",
      "execution_count": 27,
      "id": "135778c0",
      "metadata": {
        "id": "135778c0",
        "outputId": "c5feba99-445b-460f-e30b-b996c126160d",
        "colab": {
          "base_uri": "https://localhost:8080/"
        }
      },
      "outputs": [
        {
          "output_type": "execute_result",
          "data": {
            "text/plain": [
              "0.6135144660071187"
            ]
          },
          "metadata": {},
          "execution_count": 27
        }
      ],
      "source": [
        "df.ap_hi.sem()"
      ]
    },
    {
      "cell_type": "markdown",
      "id": "0QRScuBloYmt",
      "metadata": {
        "id": "0QRScuBloYmt"
      },
      "source": [
        "⭐What are the descriptive statistics of the mean for Systolic blood pressure?"
      ]
    },
    {
      "cell_type": "code",
      "execution_count": 28,
      "id": "8c5bb6c4",
      "metadata": {
        "id": "8c5bb6c4",
        "colab": {
          "base_uri": "https://localhost:8080/"
        },
        "outputId": "edf4607d-1759-4978-e19a-96519c0f84b6"
      },
      "outputs": [
        {
          "output_type": "execute_result",
          "data": {
            "text/plain": [
              "count    500.000000\n",
              "mean     126.820000\n",
              "std       13.718601\n",
              "min       95.000000\n",
              "25%      120.000000\n",
              "50%      120.000000\n",
              "75%      140.000000\n",
              "max      160.000000\n",
              "Name: ap_hi, dtype: float64"
            ]
          },
          "metadata": {},
          "execution_count": 28
        }
      ],
      "source": [
        "df.ap_hi.describe()"
      ]
    },
    {
      "cell_type": "markdown",
      "id": "70b4dcd2",
      "metadata": {
        "id": "70b4dcd2"
      },
      "source": [
        "## Confidence Interval using the t Distribution\n",
        "\n",
        "Key Notes about Confidence Intervals\n",
        "\n",
        "💡A point estimate is a single number.\n",
        "\n",
        "💡A confidence interval, naturally, is an interval.\n",
        "\n",
        "💡Confidence intervals are the typical way to present estimates as an interval range.\n",
        "\n",
        "💡The point estimate is located exactly in the middle of the confidence interval.\n",
        "\n",
        "💡However, confidence intervals provide much more information and are preferred when making inferences.\n",
        "\n",
        "💡The more data you have, the less variable a sample estimate will be.\n",
        "\n",
        "💡The lower the level of confidence you can tolerate, the narrower the confidence interval will be.\n",
        "\n",
        "⭐Investigate the given task by calculating the confidence interval. (Use 90%, 95% and 99% CIs)"
      ]
    },
    {
      "cell_type": "code",
      "execution_count": 30,
      "id": "86530d0e",
      "metadata": {
        "id": "86530d0e",
        "outputId": "e71c2804-d27b-4f97-9a43-e9b17b2ea959",
        "colab": {
          "base_uri": "https://localhost:8080/"
        }
      },
      "outputs": [
        {
          "output_type": "execute_result",
          "data": {
            "text/plain": [
              "(125.80898154555841, 127.83101845444158)"
            ]
          },
          "metadata": {},
          "execution_count": 30
        }
      ],
      "source": [
        "stats.t.interval(0.99, 499,loc=df.ap_hi.mean(), scale=df.ap_hi.sem())"
      ]
    },
    {
      "cell_type": "code",
      "source": [
        "stats.t.interval(0.95, 499,loc=df.ap_hi.mean(), scale=df.ap_hi.sem())"
      ],
      "metadata": {
        "colab": {
          "base_uri": "https://localhost:8080/"
        },
        "id": "-UscesL09jfq",
        "outputId": "be494f3b-965f-416d-8a0e-f6a6de659557"
      },
      "id": "-UscesL09jfq",
      "execution_count": 31,
      "outputs": [
        {
          "output_type": "execute_result",
          "data": {
            "text/plain": [
              "(125.6146100968397, 128.0253899031603)"
            ]
          },
          "metadata": {},
          "execution_count": 31
        }
      ]
    },
    {
      "cell_type": "code",
      "source": [
        "stats.t.interval(0.90, 499,loc=df.ap_hi.mean(), scale=df.ap_hi.sem())"
      ],
      "metadata": {
        "colab": {
          "base_uri": "https://localhost:8080/"
        },
        "id": "LxxysJEd9kqh",
        "outputId": "18480fa0-3554-4983-cfd7-d4fe13c70cd5"
      },
      "id": "LxxysJEd9kqh",
      "execution_count": 32,
      "outputs": [
        {
          "output_type": "execute_result",
          "data": {
            "text/plain": [
              "(125.80898154555841, 127.83101845444158)"
            ]
          },
          "metadata": {},
          "execution_count": 32
        }
      ]
    },
    {
      "cell_type": "markdown",
      "id": "b8ea993c",
      "metadata": {
        "id": "b8ea993c"
      },
      "source": [
        "## One Sample t Test"
      ]
    },
    {
      "cell_type": "markdown",
      "id": "3b0b1513",
      "metadata": {
        "id": "3b0b1513"
      },
      "source": [
        "⭐Investigate the given task by using One Sample t Test.\n",
        "\n",
        "Key Notes about Hypothesis Testing (Significance Testing)\n",
        "\n",
        "💡Assumptions\n",
        "\n",
        "💡Null and Alternative Hypothesis\n",
        "\n",
        "💡Test Statistic\n",
        "\n",
        "💡P-value\n",
        "\n",
        "💡Conclusion"
      ]
    },
    {
      "cell_type": "code",
      "source": [],
      "metadata": {
        "id": "REiAd9Db-JkY"
      },
      "id": "REiAd9Db-JkY",
      "execution_count": null,
      "outputs": []
    },
    {
      "cell_type": "code",
      "source": [
        "# H0 : mu = 122\n",
        "# H1 : mu != 122"
      ],
      "metadata": {
        "id": "X_JTfqqu-H0u"
      },
      "id": "X_JTfqqu-H0u",
      "execution_count": null,
      "outputs": []
    },
    {
      "cell_type": "markdown",
      "id": "815c7c17",
      "metadata": {
        "id": "815c7c17"
      },
      "source": [
        "Conduct the significance test. Use scipy.stats.ttest_1samp"
      ]
    },
    {
      "cell_type": "code",
      "execution_count": 33,
      "id": "6231ec49",
      "metadata": {
        "id": "6231ec49",
        "outputId": "7395a879-2d49-4bf4-f377-eb2ba8de6fe2",
        "colab": {
          "base_uri": "https://localhost:8080/"
        }
      },
      "outputs": [
        {
          "output_type": "execute_result",
          "data": {
            "text/plain": [
              "Ttest_1sampResult(statistic=7.85637546799763, pvalue=2.446331927794623e-14)"
            ]
          },
          "metadata": {},
          "execution_count": 33
        }
      ],
      "source": [
        "stats.ttest_1samp(df.ap_hi,122)"
      ]
    },
    {
      "cell_type": "code",
      "execution_count": null,
      "id": "c6343ddb",
      "metadata": {
        "id": "c6343ddb"
      },
      "outputs": [],
      "source": []
    },
    {
      "cell_type": "markdown",
      "id": "e273e0c2",
      "metadata": {
        "id": "e273e0c2"
      },
      "source": [
        "## Task-2. Is There a Significant Difference Between Males and Females in Systolic Blood Pressure?\n",
        "\n",
        "H0: µ1 = µ2 (\"the two population means are equal\")\n",
        "\n",
        "H1: µ1 ≠ µ2 (\"the two population means are not equal\")"
      ]
    },
    {
      "cell_type": "markdown",
      "id": "f924f82e",
      "metadata": {
        "id": "f924f82e"
      },
      "source": [
        "⭐Show descriptives for 2 groups"
      ]
    },
    {
      "cell_type": "code",
      "execution_count": 34,
      "id": "a6398b26",
      "metadata": {
        "id": "a6398b26",
        "outputId": "707ced49-f9f6-4388-c261-613e068c8de2",
        "colab": {
          "base_uri": "https://localhost:8080/",
          "height": 143
        }
      },
      "outputs": [
        {
          "output_type": "execute_result",
          "data": {
            "text/plain": [
              "        count        mean        std    min    25%    50%    75%    max\n",
              "gender                                                                 \n",
              "1       316.0  126.329114  13.605528  100.0  120.0  120.0  140.0  160.0\n",
              "2       184.0  127.663043  13.907404   95.0  120.0  120.0  140.0  160.0"
            ],
            "text/html": [
              "\n",
              "  <div id=\"df-d065d1e2-4a7c-4365-a44e-a90d0ceb05fd\">\n",
              "    <div class=\"colab-df-container\">\n",
              "      <div>\n",
              "<style scoped>\n",
              "    .dataframe tbody tr th:only-of-type {\n",
              "        vertical-align: middle;\n",
              "    }\n",
              "\n",
              "    .dataframe tbody tr th {\n",
              "        vertical-align: top;\n",
              "    }\n",
              "\n",
              "    .dataframe thead th {\n",
              "        text-align: right;\n",
              "    }\n",
              "</style>\n",
              "<table border=\"1\" class=\"dataframe\">\n",
              "  <thead>\n",
              "    <tr style=\"text-align: right;\">\n",
              "      <th></th>\n",
              "      <th>count</th>\n",
              "      <th>mean</th>\n",
              "      <th>std</th>\n",
              "      <th>min</th>\n",
              "      <th>25%</th>\n",
              "      <th>50%</th>\n",
              "      <th>75%</th>\n",
              "      <th>max</th>\n",
              "    </tr>\n",
              "    <tr>\n",
              "      <th>gender</th>\n",
              "      <th></th>\n",
              "      <th></th>\n",
              "      <th></th>\n",
              "      <th></th>\n",
              "      <th></th>\n",
              "      <th></th>\n",
              "      <th></th>\n",
              "      <th></th>\n",
              "    </tr>\n",
              "  </thead>\n",
              "  <tbody>\n",
              "    <tr>\n",
              "      <th>1</th>\n",
              "      <td>316.0</td>\n",
              "      <td>126.329114</td>\n",
              "      <td>13.605528</td>\n",
              "      <td>100.0</td>\n",
              "      <td>120.0</td>\n",
              "      <td>120.0</td>\n",
              "      <td>140.0</td>\n",
              "      <td>160.0</td>\n",
              "    </tr>\n",
              "    <tr>\n",
              "      <th>2</th>\n",
              "      <td>184.0</td>\n",
              "      <td>127.663043</td>\n",
              "      <td>13.907404</td>\n",
              "      <td>95.0</td>\n",
              "      <td>120.0</td>\n",
              "      <td>120.0</td>\n",
              "      <td>140.0</td>\n",
              "      <td>160.0</td>\n",
              "    </tr>\n",
              "  </tbody>\n",
              "</table>\n",
              "</div>\n",
              "      <button class=\"colab-df-convert\" onclick=\"convertToInteractive('df-d065d1e2-4a7c-4365-a44e-a90d0ceb05fd')\"\n",
              "              title=\"Convert this dataframe to an interactive table.\"\n",
              "              style=\"display:none;\">\n",
              "        \n",
              "  <svg xmlns=\"http://www.w3.org/2000/svg\" height=\"24px\"viewBox=\"0 0 24 24\"\n",
              "       width=\"24px\">\n",
              "    <path d=\"M0 0h24v24H0V0z\" fill=\"none\"/>\n",
              "    <path d=\"M18.56 5.44l.94 2.06.94-2.06 2.06-.94-2.06-.94-.94-2.06-.94 2.06-2.06.94zm-11 1L8.5 8.5l.94-2.06 2.06-.94-2.06-.94L8.5 2.5l-.94 2.06-2.06.94zm10 10l.94 2.06.94-2.06 2.06-.94-2.06-.94-.94-2.06-.94 2.06-2.06.94z\"/><path d=\"M17.41 7.96l-1.37-1.37c-.4-.4-.92-.59-1.43-.59-.52 0-1.04.2-1.43.59L10.3 9.45l-7.72 7.72c-.78.78-.78 2.05 0 2.83L4 21.41c.39.39.9.59 1.41.59.51 0 1.02-.2 1.41-.59l7.78-7.78 2.81-2.81c.8-.78.8-2.07 0-2.86zM5.41 20L4 18.59l7.72-7.72 1.47 1.35L5.41 20z\"/>\n",
              "  </svg>\n",
              "      </button>\n",
              "      \n",
              "  <style>\n",
              "    .colab-df-container {\n",
              "      display:flex;\n",
              "      flex-wrap:wrap;\n",
              "      gap: 12px;\n",
              "    }\n",
              "\n",
              "    .colab-df-convert {\n",
              "      background-color: #E8F0FE;\n",
              "      border: none;\n",
              "      border-radius: 50%;\n",
              "      cursor: pointer;\n",
              "      display: none;\n",
              "      fill: #1967D2;\n",
              "      height: 32px;\n",
              "      padding: 0 0 0 0;\n",
              "      width: 32px;\n",
              "    }\n",
              "\n",
              "    .colab-df-convert:hover {\n",
              "      background-color: #E2EBFA;\n",
              "      box-shadow: 0px 1px 2px rgba(60, 64, 67, 0.3), 0px 1px 3px 1px rgba(60, 64, 67, 0.15);\n",
              "      fill: #174EA6;\n",
              "    }\n",
              "\n",
              "    [theme=dark] .colab-df-convert {\n",
              "      background-color: #3B4455;\n",
              "      fill: #D2E3FC;\n",
              "    }\n",
              "\n",
              "    [theme=dark] .colab-df-convert:hover {\n",
              "      background-color: #434B5C;\n",
              "      box-shadow: 0px 1px 3px 1px rgba(0, 0, 0, 0.15);\n",
              "      filter: drop-shadow(0px 1px 2px rgba(0, 0, 0, 0.3));\n",
              "      fill: #FFFFFF;\n",
              "    }\n",
              "  </style>\n",
              "\n",
              "      <script>\n",
              "        const buttonEl =\n",
              "          document.querySelector('#df-d065d1e2-4a7c-4365-a44e-a90d0ceb05fd button.colab-df-convert');\n",
              "        buttonEl.style.display =\n",
              "          google.colab.kernel.accessAllowed ? 'block' : 'none';\n",
              "\n",
              "        async function convertToInteractive(key) {\n",
              "          const element = document.querySelector('#df-d065d1e2-4a7c-4365-a44e-a90d0ceb05fd');\n",
              "          const dataTable =\n",
              "            await google.colab.kernel.invokeFunction('convertToInteractive',\n",
              "                                                     [key], {});\n",
              "          if (!dataTable) return;\n",
              "\n",
              "          const docLinkHtml = 'Like what you see? Visit the ' +\n",
              "            '<a target=\"_blank\" href=https://colab.research.google.com/notebooks/data_table.ipynb>data table notebook</a>'\n",
              "            + ' to learn more about interactive tables.';\n",
              "          element.innerHTML = '';\n",
              "          dataTable['output_type'] = 'display_data';\n",
              "          await google.colab.output.renderOutput(dataTable, element);\n",
              "          const docLink = document.createElement('div');\n",
              "          docLink.innerHTML = docLinkHtml;\n",
              "          element.appendChild(docLink);\n",
              "        }\n",
              "      </script>\n",
              "    </div>\n",
              "  </div>\n",
              "  "
            ]
          },
          "metadata": {},
          "execution_count": 34
        }
      ],
      "source": [
        "df.groupby(\"gender\").describe()[\"ap_hi\"]"
      ]
    },
    {
      "cell_type": "code",
      "source": [],
      "metadata": {
        "id": "vbAEIB_r_V3g"
      },
      "id": "vbAEIB_r_V3g",
      "execution_count": null,
      "outputs": []
    },
    {
      "cell_type": "code",
      "source": [],
      "metadata": {
        "id": "xwl_uxxi_V0P"
      },
      "id": "xwl_uxxi_V0P",
      "execution_count": null,
      "outputs": []
    },
    {
      "cell_type": "code",
      "source": [],
      "metadata": {
        "id": "BZvRONDO_VnY"
      },
      "id": "BZvRONDO_VnY",
      "execution_count": null,
      "outputs": []
    },
    {
      "cell_type": "markdown",
      "id": "84bd1c6e",
      "metadata": {
        "id": "84bd1c6e"
      },
      "source": [
        "___🚀Test the assumption of homogeneity of variance Hint: Levene’s Test\n",
        "\n",
        "The hypotheses for Levene’s test are:\n",
        "\n",
        "H0: \"the population variances of group 1 and 2 are equal\"\n",
        "\n",
        "H1: \"the population variances of group 1 and 2 are not equal\""
      ]
    },
    {
      "cell_type": "code",
      "execution_count": 35,
      "id": "e6ea62f8",
      "metadata": {
        "id": "e6ea62f8",
        "outputId": "400f2a0d-20a6-4e4f-85bd-a3538cb6f5c1",
        "colab": {
          "base_uri": "https://localhost:8080/"
        }
      },
      "outputs": [
        {
          "output_type": "stream",
          "name": "stdout",
          "text": [
            "Statistics=0.137, p=0.712\n",
            "The population variances of group 1 and 2 are equal (fail to reject H0)\n"
          ]
        }
      ],
      "source": [
        "stat, p = stats.levene(df[df[\"gender\"]==1][\"ap_hi\"],df[df[\"gender\"]==2][\"ap_hi\"])\n",
        "print('Statistics=%.3f, p=%.3f' % (stat, p))\n",
        "# interpret\n",
        "alpha = 0.05\n",
        "if p > alpha:\n",
        "\tprint('The population variances of group 1 and 2 are equal (fail to reject H0)')\n",
        "else:\n",
        "\tprint('The population variances of group 1 and 2 are not equal (reject H0)')"
      ]
    },
    {
      "cell_type": "markdown",
      "id": "4c7bfaf0",
      "metadata": {
        "id": "4c7bfaf0"
      },
      "source": [
        "___🚀Conduct the significance test. Use scipy.stats.ttest_ind\n",
        "\n",
        "H0: µ1 = µ2 (\"the two population means are equal\")\n",
        "\n",
        "H1: µ1 ≠ µ2 (\"the two population means are not equal\")"
      ]
    },
    {
      "cell_type": "code",
      "execution_count": 36,
      "id": "4c0b1baa",
      "metadata": {
        "id": "4c0b1baa",
        "outputId": "ffe68d43-640b-4ade-b3f6-a936cb0c0c36",
        "colab": {
          "base_uri": "https://localhost:8080/"
        }
      },
      "outputs": [
        {
          "output_type": "execute_result",
          "data": {
            "text/plain": [
              "Ttest_indResult(statistic=-1.048658087118608, pvalue=0.2948441628406974)"
            ]
          },
          "metadata": {},
          "execution_count": 36
        }
      ],
      "source": [
        "stats.ttest_ind(df[df[\"gender\"]==1][\"ap_hi\"],df[df[\"gender\"]==2][\"ap_hi\"], equal_var = True)\n"
      ]
    },
    {
      "cell_type": "markdown",
      "id": "b649ecf9",
      "metadata": {
        "id": "b649ecf9"
      },
      "source": [
        "## Task-3. Is There a Relationship Between Glucose and Systolic Blood Pressure?"
      ]
    },
    {
      "cell_type": "markdown",
      "id": "iQnNlpE2nXym",
      "metadata": {
        "id": "iQnNlpE2nXym"
      },
      "source": [
        "⭐Draw a boxplot to see the relationship."
      ]
    },
    {
      "cell_type": "code",
      "execution_count": 37,
      "id": "830810ff",
      "metadata": {
        "id": "830810ff",
        "outputId": "585552d2-31ab-4ae8-d59e-2aa10f78013f",
        "colab": {
          "base_uri": "https://localhost:8080/",
          "height": 279
        }
      },
      "outputs": [
        {
          "output_type": "display_data",
          "data": {
            "text/plain": [
              "<Figure size 432x288 with 1 Axes>"
            ],
            "image/png": "[encoded data removed]"
          },
          "metadata": {
            "needs_background": "light"
          }
        }
      ],
      "source": [
        "sns.boxplot(x=\"gluc\", y=\"ap_hi\", data=df, showmeans=True);"
      ]
    },
    {
      "cell_type": "code",
      "source": [
        "sns.boxplot(x=\"gluc\", y=\"ap_hi\", data=df, showmeans=True,\n",
        "meanprops={\"marker\":\"o\",\n",
        "           \"markerfacecolor\":\"white\",\n",
        "           \"markeredgecolor\":\"black\",\n",
        "           \"markersize\":\"10\"});"
      ],
      "metadata": {
        "colab": {
          "base_uri": "https://localhost:8080/",
          "height": 279
        },
        "id": "1h1_Ha3gGkXb",
        "outputId": "b39e4712-d9eb-4207-e460-1c48bb743817"
      },
      "id": "1h1_Ha3gGkXb",
      "execution_count": 42,
      "outputs": [
        {
          "output_type": "display_data",
          "data": {
            "text/plain": [
              "<Figure size 432x288 with 1 Axes>"
            ],
            "image/png": "[encoded data removed]"
          },
          "metadata": {
            "needs_background": "light"
          }
        }
      ]
    },
    {
      "cell_type": "markdown",
      "id": "R5W3NypFniN_",
      "metadata": {
        "id": "R5W3NypFniN_"
      },
      "source": [
        "⭐Show the descriptive statistics of 3 groups."
      ]
    },
    {
      "cell_type": "code",
      "execution_count": 39,
      "id": "c48159b9",
      "metadata": {
        "id": "c48159b9",
        "outputId": "24cb2bbe-dc3a-4679-bbf0-a6746d5b187d",
        "colab": {
          "base_uri": "https://localhost:8080/",
          "height": 175
        }
      },
      "outputs": [
        {
          "output_type": "execute_result",
          "data": {
            "text/plain": [
              "      count        mean        std    min    25%    50%    75%    max\n",
              "gluc                                                                 \n",
              "1     422.0  126.369668  13.616074   95.0  120.0  120.0  140.0  160.0\n",
              "2      40.0  126.500000  13.502137  110.0  120.0  120.0  130.0  160.0\n",
              "3      38.0  132.157895  14.310318  100.0  120.0  130.0  140.0  160.0"
            ],
            "text/html": [
              "\n",
              "  <div id=\"df-8dd4562b-487c-4dc9-bcae-254e36f7bdad\">\n",
              "    <div class=\"colab-df-container\">\n",
              "      <div>\n",
              "<style scoped>\n",
              "    .dataframe tbody tr th:only-of-type {\n",
              "        vertical-align: middle;\n",
              "    }\n",
              "\n",
              "    .dataframe tbody tr th {\n",
              "        vertical-align: top;\n",
              "    }\n",
              "\n",
              "    .dataframe thead th {\n",
              "        text-align: right;\n",
              "    }\n",
              "</style>\n",
              "<table border=\"1\" class=\"dataframe\">\n",
              "  <thead>\n",
              "    <tr style=\"text-align: right;\">\n",
              "      <th></th>\n",
              "      <th>count</th>\n",
              "      <th>mean</th>\n",
              "      <th>std</th>\n",
              "      <th>min</th>\n",
              "      <th>25%</th>\n",
              "      <th>50%</th>\n",
              "      <th>75%</th>\n",
              "      <th>max</th>\n",
              "    </tr>\n",
              "    <tr>\n",
              "      <th>gluc</th>\n",
              "      <th></th>\n",
              "      <th></th>\n",
              "      <th></th>\n",
              "      <th></th>\n",
              "      <th></th>\n",
              "      <th></th>\n",
              "      <th></th>\n",
              "      <th></th>\n",
              "    </tr>\n",
              "  </thead>\n",
              "  <tbody>\n",
              "    <tr>\n",
              "      <th>1</th>\n",
              "      <td>422.0</td>\n",
              "      <td>126.369668</td>\n",
              "      <td>13.616074</td>\n",
              "      <td>95.0</td>\n",
              "      <td>120.0</td>\n",
              "      <td>120.0</td>\n",
              "      <td>140.0</td>\n",
              "      <td>160.0</td>\n",
              "    </tr>\n",
              "    <tr>\n",
              "      <th>2</th>\n",
              "      <td>40.0</td>\n",
              "      <td>126.500000</td>\n",
              "      <td>13.502137</td>\n",
              "      <td>110.0</td>\n",
              "      <td>120.0</td>\n",
              "      <td>120.0</td>\n",
              "      <td>130.0</td>\n",
              "      <td>160.0</td>\n",
              "    </tr>\n",
              "    <tr>\n",
              "      <th>3</th>\n",
              "      <td>38.0</td>\n",
              "      <td>132.157895</td>\n",
              "      <td>14.310318</td>\n",
              "      <td>100.0</td>\n",
              "      <td>120.0</td>\n",
              "      <td>130.0</td>\n",
              "      <td>140.0</td>\n",
              "      <td>160.0</td>\n",
              "    </tr>\n",
              "  </tbody>\n",
              "</table>\n",
              "</div>\n",
              "      <button class=\"colab-df-convert\" onclick=\"convertToInteractive('df-8dd4562b-487c-4dc9-bcae-254e36f7bdad')\"\n",
              "              title=\"Convert this dataframe to an interactive table.\"\n",
              "              style=\"display:none;\">\n",
              "        \n",
              "  <svg xmlns=\"http://www.w3.org/2000/svg\" height=\"24px\"viewBox=\"0 0 24 24\"\n",
              "       width=\"24px\">\n",
              "    <path d=\"M0 0h24v24H0V0z\" fill=\"none\"/>\n",
              "    <path d=\"M18.56 5.44l.94 2.06.94-2.06 2.06-.94-2.06-.94-.94-2.06-.94 2.06-2.06.94zm-11 1L8.5 8.5l.94-2.06 2.06-.94-2.06-.94L8.5 2.5l-.94 2.06-2.06.94zm10 10l.94 2.06.94-2.06 2.06-.94-2.06-.94-.94-2.06-.94 2.06-2.06.94z\"/><path d=\"M17.41 7.96l-1.37-1.37c-.4-.4-.92-.59-1.43-.59-.52 0-1.04.2-1.43.59L10.3 9.45l-7.72 7.72c-.78.78-.78 2.05 0 2.83L4 21.41c.39.39.9.59 1.41.59.51 0 1.02-.2 1.41-.59l7.78-7.78 2.81-2.81c.8-.78.8-2.07 0-2.86zM5.41 20L4 18.59l7.72-7.72 1.47 1.35L5.41 20z\"/>\n",
              "  </svg>\n",
              "      </button>\n",
              "      \n",
              "  <style>\n",
              "    .colab-df-container {\n",
              "      display:flex;\n",
              "      flex-wrap:wrap;\n",
              "      gap: 12px;\n",
              "    }\n",
              "\n",
              "    .colab-df-convert {\n",
              "      background-color: #E8F0FE;\n",
              "      border: none;\n",
              "      border-radius: 50%;\n",
              "      cursor: pointer;\n",
              "      display: none;\n",
              "      fill: #1967D2;\n",
              "      height: 32px;\n",
              "      padding: 0 0 0 0;\n",
              "      width: 32px;\n",
              "    }\n",
              "\n",
              "    .colab-df-convert:hover {\n",
              "      background-color: #E2EBFA;\n",
              "      box-shadow: 0px 1px 2px rgba(60, 64, 67, 0.3), 0px 1px 3px 1px rgba(60, 64, 67, 0.15);\n",
              "      fill: #174EA6;\n",
              "    }\n",
              "\n",
              "    [theme=dark] .colab-df-convert {\n",
              "      background-color: #3B4455;\n",
              "      fill: #D2E3FC;\n",
              "    }\n",
              "\n",
              "    [theme=dark] .colab-df-convert:hover {\n",
              "      background-color: #434B5C;\n",
              "      box-shadow: 0px 1px 3px 1px rgba(0, 0, 0, 0.15);\n",
              "      filter: drop-shadow(0px 1px 2px rgba(0, 0, 0, 0.3));\n",
              "      fill: #FFFFFF;\n",
              "    }\n",
              "  </style>\n",
              "\n",
              "      <script>\n",
              "        const buttonEl =\n",
              "          document.querySelector('#df-8dd4562b-487c-4dc9-bcae-254e36f7bdad button.colab-df-convert');\n",
              "        buttonEl.style.display =\n",
              "          google.colab.kernel.accessAllowed ? 'block' : 'none';\n",
              "\n",
              "        async function convertToInteractive(key) {\n",
              "          const element = document.querySelector('#df-8dd4562b-487c-4dc9-bcae-254e36f7bdad');\n",
              "          const dataTable =\n",
              "            await google.colab.kernel.invokeFunction('convertToInteractive',\n",
              "                                                     [key], {});\n",
              "          if (!dataTable) return;\n",
              "\n",
              "          const docLinkHtml = 'Like what you see? Visit the ' +\n",
              "            '<a target=\"_blank\" href=https://colab.research.google.com/notebooks/data_table.ipynb>data table notebook</a>'\n",
              "            + ' to learn more about interactive tables.';\n",
              "          element.innerHTML = '';\n",
              "          dataTable['output_type'] = 'display_data';\n",
              "          await google.colab.output.renderOutput(dataTable, element);\n",
              "          const docLink = document.createElement('div');\n",
              "          docLink.innerHTML = docLinkHtml;\n",
              "          element.appendChild(docLink);\n",
              "        }\n",
              "      </script>\n",
              "    </div>\n",
              "  </div>\n",
              "  "
            ]
          },
          "metadata": {},
          "execution_count": 39
        }
      ],
      "source": [
        "df.groupby(\"gluc\").describe()[\"ap_hi\"]"
      ]
    },
    {
      "cell_type": "code",
      "source": [
        "#H0: ALL means are equal(mu1=mu2=mu3)\n",
        "#H1: At least mean is different"
      ],
      "metadata": {
        "id": "Tk9dG1UKHuZi"
      },
      "id": "Tk9dG1UKHuZi",
      "execution_count": null,
      "outputs": []
    },
    {
      "cell_type": "markdown",
      "id": "6vx5akalnpn3",
      "metadata": {
        "id": "6vx5akalnpn3"
      },
      "source": [
        "⭐Conduct the relavant statistical test to see if there is a significant difference between the mean of the groups."
      ]
    },
    {
      "cell_type": "code",
      "execution_count": 43,
      "id": "f63c6ce5",
      "metadata": {
        "id": "f63c6ce5",
        "outputId": "3f5605aa-a9cc-4a89-f7a6-c61698a0ba19",
        "colab": {
          "base_uri": "https://localhost:8080/"
        }
      },
      "outputs": [
        {
          "output_type": "execute_result",
          "data": {
            "text/plain": [
              "F_onewayResult(statistic=3.141548568884415, pvalue=0.044075264108993484)"
            ]
          },
          "metadata": {},
          "execution_count": 43
        }
      ],
      "source": [
        "stats.f_oneway(df[df[\"gluc\"]==1][\"ap_hi\"],\n",
        "               df[df[\"gluc\"]==2][\"ap_hi\"],\n",
        "               df[df[\"gluc\"]==3][\"ap_hi\"])"
      ]
    },
    {
      "cell_type": "code",
      "execution_count": 44,
      "id": "4e68ebab",
      "metadata": {
        "id": "4e68ebab"
      },
      "outputs": [],
      "source": [
        "from statsmodels.stats.multicomp import pairwise_tukeyhsd, MultiComparison"
      ]
    },
    {
      "cell_type": "code",
      "execution_count": 45,
      "id": "f5c3bb28",
      "metadata": {
        "id": "f5c3bb28"
      },
      "outputs": [],
      "source": [
        "multicomp=MultiComparison(df[\"ap_hi\"], df[\"gluc\"])"
      ]
    },
    {
      "cell_type": "code",
      "source": [
        "tukey=multicomp.tukeyhsd(alpha=0.05)"
      ],
      "metadata": {
        "id": "78Hdt-9ZIrdD"
      },
      "id": "78Hdt-9ZIrdD",
      "execution_count": 46,
      "outputs": []
    },
    {
      "cell_type": "code",
      "source": [
        "print(tukey)"
      ],
      "metadata": {
        "colab": {
          "base_uri": "https://localhost:8080/"
        },
        "id": "iiJN4mKTIraC",
        "outputId": "7453cd87-0214-448f-fa96-447448b78e6c"
      },
      "id": "iiJN4mKTIraC",
      "execution_count": 47,
      "outputs": [
        {
          "output_type": "stream",
          "name": "stdout",
          "text": [
            "Multiple Comparison of Means - Tukey HSD, FWER=0.05 \n",
            "====================================================\n",
            "group1 group2 meandiff p-adj   lower   upper  reject\n",
            "----------------------------------------------------\n",
            "     1      2   0.1303    0.9 -5.1823   5.443  False\n",
            "     1      3   5.7882 0.0338  0.3494 11.2271   True\n",
            "     2      3   5.6579 0.1616 -1.6166 12.9324  False\n",
            "----------------------------------------------------\n"
          ]
        }
      ]
    },
    {
      "cell_type": "code",
      "source": [],
      "metadata": {
        "id": "Lpmroc-JIrXa"
      },
      "id": "Lpmroc-JIrXa",
      "execution_count": null,
      "outputs": []
    },
    {
      "cell_type": "code",
      "source": [],
      "metadata": {
        "id": "FS1V1W9yIq0-"
      },
      "id": "FS1V1W9yIq0-",
      "execution_count": null,
      "outputs": []
    },
    {
      "cell_type": "markdown",
      "id": "d128793f",
      "metadata": {
        "id": "d128793f"
      },
      "source": [
        "## Task-4. Is There a Relationship Between Physical activity vs. Presence or absence of cardiovascular disease?"
      ]
    },
    {
      "cell_type": "markdown",
      "id": "9d0cbaf7",
      "metadata": {
        "id": "9d0cbaf7"
      },
      "source": [
        "### Physical activity vs. Presence or absence of cardiovascular disease"
      ]
    },
    {
      "cell_type": "code",
      "source": [
        "#H0: The two categorical variable are independent\n",
        "#H1: The two categorical variable are dependent"
      ],
      "metadata": {
        "id": "-_hbYjkBKeeG"
      },
      "id": "-_hbYjkBKeeG",
      "execution_count": null,
      "outputs": []
    },
    {
      "cell_type": "markdown",
      "id": "QfsEEewCadVd",
      "metadata": {
        "id": "QfsEEewCadVd"
      },
      "source": [
        "⭐Create a crosstab using Pandas."
      ]
    },
    {
      "cell_type": "code",
      "source": [
        "df.info()"
      ],
      "metadata": {
        "colab": {
          "base_uri": "https://localhost:8080/"
        },
        "id": "j3jeBqNlKzf5",
        "outputId": "b180ba1b-a35d-4fb9-f3a3-42ec9620847b"
      },
      "id": "j3jeBqNlKzf5",
      "execution_count": 49,
      "outputs": [
        {
          "output_type": "stream",
          "name": "stdout",
          "text": [
            "<class 'pandas.core.frame.DataFrame'>\n",
            "Int64Index: 500 entries, 54709 to 48501\n",
            "Data columns (total 13 columns):\n",
            " #   Column       Non-Null Count  Dtype  \n",
            "---  ------       --------------  -----  \n",
            " 0   id           500 non-null    int64  \n",
            " 1   age          500 non-null    int64  \n",
            " 2   gender       500 non-null    int64  \n",
            " 3   height       500 non-null    int64  \n",
            " 4   weight       500 non-null    float64\n",
            " 5   ap_hi        500 non-null    int64  \n",
            " 6   ap_lo        500 non-null    int64  \n",
            " 7   cholesterol  500 non-null    int64  \n",
            " 8   gluc         500 non-null    int64  \n",
            " 9   smoke        500 non-null    int64  \n",
            " 10  alco         500 non-null    int64  \n",
            " 11  active       500 non-null    int64  \n",
            " 12  cardio       500 non-null    int64  \n",
            "dtypes: float64(1), int64(12)\n",
            "memory usage: 70.9 KB\n"
          ]
        }
      ]
    },
    {
      "cell_type": "code",
      "execution_count": 52,
      "id": "c65b89ba",
      "metadata": {
        "id": "c65b89ba",
        "outputId": "846c34e0-8fd2-4507-af4a-4be8b139570d",
        "colab": {
          "base_uri": "https://localhost:8080/",
          "height": 143
        }
      },
      "outputs": [
        {
          "output_type": "execute_result",
          "data": {
            "text/plain": [
              "cardio    0    1\n",
              "active          \n",
              "0        41   60\n",
              "1       191  208"
            ],
            "text/html": [
              "\n",
              "  <div id=\"df-c95fed5f-8bff-4eba-a2e7-7f49e0ea89d5\">\n",
              "    <div class=\"colab-df-container\">\n",
              "      <div>\n",
              "<style scoped>\n",
              "    .dataframe tbody tr th:only-of-type {\n",
              "        vertical-align: middle;\n",
              "    }\n",
              "\n",
              "    .dataframe tbody tr th {\n",
              "        vertical-align: top;\n",
              "    }\n",
              "\n",
              "    .dataframe thead th {\n",
              "        text-align: right;\n",
              "    }\n",
              "</style>\n",
              "<table border=\"1\" class=\"dataframe\">\n",
              "  <thead>\n",
              "    <tr style=\"text-align: right;\">\n",
              "      <th>cardio</th>\n",
              "      <th>0</th>\n",
              "      <th>1</th>\n",
              "    </tr>\n",
              "    <tr>\n",
              "      <th>active</th>\n",
              "      <th></th>\n",
              "      <th></th>\n",
              "    </tr>\n",
              "  </thead>\n",
              "  <tbody>\n",
              "    <tr>\n",
              "      <th>0</th>\n",
              "      <td>41</td>\n",
              "      <td>60</td>\n",
              "    </tr>\n",
              "    <tr>\n",
              "      <th>1</th>\n",
              "      <td>191</td>\n",
              "      <td>208</td>\n",
              "    </tr>\n",
              "  </tbody>\n",
              "</table>\n",
              "</div>\n",
              "      <button class=\"colab-df-convert\" onclick=\"convertToInteractive('df-c95fed5f-8bff-4eba-a2e7-7f49e0ea89d5')\"\n",
              "              title=\"Convert this dataframe to an interactive table.\"\n",
              "              style=\"display:none;\">\n",
              "        \n",
              "  <svg xmlns=\"http://www.w3.org/2000/svg\" height=\"24px\"viewBox=\"0 0 24 24\"\n",
              "       width=\"24px\">\n",
              "    <path d=\"M0 0h24v24H0V0z\" fill=\"none\"/>\n",
              "    <path d=\"M18.56 5.44l.94 2.06.94-2.06 2.06-.94-2.06-.94-.94-2.06-.94 2.06-2.06.94zm-11 1L8.5 8.5l.94-2.06 2.06-.94-2.06-.94L8.5 2.5l-.94 2.06-2.06.94zm10 10l.94 2.06.94-2.06 2.06-.94-2.06-.94-.94-2.06-.94 2.06-2.06.94z\"/><path d=\"M17.41 7.96l-1.37-1.37c-.4-.4-.92-.59-1.43-.59-.52 0-1.04.2-1.43.59L10.3 9.45l-7.72 7.72c-.78.78-.78 2.05 0 2.83L4 21.41c.39.39.9.59 1.41.59.51 0 1.02-.2 1.41-.59l7.78-7.78 2.81-2.81c.8-.78.8-2.07 0-2.86zM5.41 20L4 18.59l7.72-7.72 1.47 1.35L5.41 20z\"/>\n",
              "  </svg>\n",
              "      </button>\n",
              "      \n",
              "  <style>\n",
              "    .colab-df-container {\n",
              "      display:flex;\n",
              "      flex-wrap:wrap;\n",
              "      gap: 12px;\n",
              "    }\n",
              "\n",
              "    .colab-df-convert {\n",
              "      background-color: #E8F0FE;\n",
              "      border: none;\n",
              "      border-radius: 50%;\n",
              "      cursor: pointer;\n",
              "      display: none;\n",
              "      fill: #1967D2;\n",
              "      height: 32px;\n",
              "      padding: 0 0 0 0;\n",
              "      width: 32px;\n",
              "    }\n",
              "\n",
              "    .colab-df-convert:hover {\n",
              "      background-color: #E2EBFA;\n",
              "      box-shadow: 0px 1px 2px rgba(60, 64, 67, 0.3), 0px 1px 3px 1px rgba(60, 64, 67, 0.15);\n",
              "      fill: #174EA6;\n",
              "    }\n",
              "\n",
              "    [theme=dark] .colab-df-convert {\n",
              "      background-color: #3B4455;\n",
              "      fill: #D2E3FC;\n",
              "    }\n",
              "\n",
              "    [theme=dark] .colab-df-convert:hover {\n",
              "      background-color: #434B5C;\n",
              "      box-shadow: 0px 1px 3px 1px rgba(0, 0, 0, 0.15);\n",
              "      filter: drop-shadow(0px 1px 2px rgba(0, 0, 0, 0.3));\n",
              "      fill: #FFFFFF;\n",
              "    }\n",
              "  </style>\n",
              "\n",
              "      <script>\n",
              "        const buttonEl =\n",
              "          document.querySelector('#df-c95fed5f-8bff-4eba-a2e7-7f49e0ea89d5 button.colab-df-convert');\n",
              "        buttonEl.style.display =\n",
              "          google.colab.kernel.accessAllowed ? 'block' : 'none';\n",
              "\n",
              "        async function convertToInteractive(key) {\n",
              "          const element = document.querySelector('#df-c95fed5f-8bff-4eba-a2e7-7f49e0ea89d5');\n",
              "          const dataTable =\n",
              "            await google.colab.kernel.invokeFunction('convertToInteractive',\n",
              "                                                     [key], {});\n",
              "          if (!dataTable) return;\n",
              "\n",
              "          const docLinkHtml = 'Like what you see? Visit the ' +\n",
              "            '<a target=\"_blank\" href=https://colab.research.google.com/notebooks/data_table.ipynb>data table notebook</a>'\n",
              "            + ' to learn more about interactive tables.';\n",
              "          element.innerHTML = '';\n",
              "          dataTable['output_type'] = 'display_data';\n",
              "          await google.colab.output.renderOutput(dataTable, element);\n",
              "          const docLink = document.createElement('div');\n",
              "          docLink.innerHTML = docLinkHtml;\n",
              "          element.appendChild(docLink);\n",
              "        }\n",
              "      </script>\n",
              "    </div>\n",
              "  </div>\n",
              "  "
            ]
          },
          "metadata": {},
          "execution_count": 52
        }
      ],
      "source": [
        "ct=pd.crosstab(df.active, df.cardio)\n",
        "ct"
      ]
    },
    {
      "cell_type": "markdown",
      "id": "BHkX6Cdhn-cU",
      "metadata": {
        "id": "BHkX6Cdhn-cU"
      },
      "source": [
        "⭐Conduct chi-square test to see if there is a relationship between 2 categorical variables."
      ]
    },
    {
      "cell_type": "code",
      "execution_count": 54,
      "id": "d4bbe141",
      "metadata": {
        "id": "d4bbe141"
      },
      "outputs": [],
      "source": [
        "chi, p, dof, expected= stats.chi2_contingency(ct)"
      ]
    },
    {
      "cell_type": "code",
      "execution_count": 55,
      "id": "559790fa",
      "metadata": {
        "id": "559790fa",
        "outputId": "17832511-0188-4fd0-a31c-ec2c16f2a7a3",
        "colab": {
          "base_uri": "https://localhost:8080/"
        }
      },
      "outputs": [
        {
          "output_type": "stream",
          "name": "stdout",
          "text": [
            "test statistic 1.4353919390793644\n",
            "p-value 0.23088648288315938\n"
          ]
        }
      ],
      "source": [
        "print(\"test statistic\", chi)\n",
        "print(\"p-value\", p)"
      ]
    },
    {
      "cell_type": "code",
      "execution_count": 56,
      "id": "5105746b",
      "metadata": {
        "id": "5105746b",
        "outputId": "bea90291-6501-4f19-b61f-f7c1fc2f7624",
        "colab": {
          "base_uri": "https://localhost:8080/"
        }
      },
      "outputs": [
        {
          "output_type": "stream",
          "name": "stdout",
          "text": [
            "test statistic 1.4353919390793644\n",
            "p-value 0.23088648288315938\n",
            "dof 1\n",
            "expected [[ 46.864  54.136]\n",
            " [185.136 213.864]]\n"
          ]
        }
      ],
      "source": [
        "print(\"test statistic\", chi)\n",
        "print(\"p-value\", p)\n",
        "print(\"dof\", dof)\n",
        "print(\"expected\", expected)"
      ]
    },
    {
      "cell_type": "code",
      "execution_count": null,
      "id": "f7e14a81",
      "metadata": {
        "id": "f7e14a81"
      },
      "outputs": [],
      "source": []
    },
    {
      "cell_type": "code",
      "execution_count": 57,
      "id": "0bdd3457",
      "metadata": {
        "id": "0bdd3457",
        "colab": {
          "base_uri": "https://localhost:8080/",
          "height": 175
        },
        "outputId": "9604e6f6-245a-4a36-a05e-b125446a8c00"
      },
      "outputs": [
        {
          "output_type": "execute_result",
          "data": {
            "text/plain": [
              "cardio         0    1\n",
              "cholesterol          \n",
              "1            192  170\n",
              "2             26   50\n",
              "3             14   48"
            ],
            "text/html": [
              "\n",
              "  <div id=\"df-04c9d56b-1c69-4f6e-b79d-f6d5dcdec63c\">\n",
              "    <div class=\"colab-df-container\">\n",
              "      <div>\n",
              "<style scoped>\n",
              "    .dataframe tbody tr th:only-of-type {\n",
              "        vertical-align: middle;\n",
              "    }\n",
              "\n",
              "    .dataframe tbody tr th {\n",
              "        vertical-align: top;\n",
              "    }\n",
              "\n",
              "    .dataframe thead th {\n",
              "        text-align: right;\n",
              "    }\n",
              "</style>\n",
              "<table border=\"1\" class=\"dataframe\">\n",
              "  <thead>\n",
              "    <tr style=\"text-align: right;\">\n",
              "      <th>cardio</th>\n",
              "      <th>0</th>\n",
              "      <th>1</th>\n",
              "    </tr>\n",
              "    <tr>\n",
              "      <th>cholesterol</th>\n",
              "      <th></th>\n",
              "      <th></th>\n",
              "    </tr>\n",
              "  </thead>\n",
              "  <tbody>\n",
              "    <tr>\n",
              "      <th>1</th>\n",
              "      <td>192</td>\n",
              "      <td>170</td>\n",
              "    </tr>\n",
              "    <tr>\n",
              "      <th>2</th>\n",
              "      <td>26</td>\n",
              "      <td>50</td>\n",
              "    </tr>\n",
              "    <tr>\n",
              "      <th>3</th>\n",
              "      <td>14</td>\n",
              "      <td>48</td>\n",
              "    </tr>\n",
              "  </tbody>\n",
              "</table>\n",
              "</div>\n",
              "      <button class=\"colab-df-convert\" onclick=\"convertToInteractive('df-04c9d56b-1c69-4f6e-b79d-f6d5dcdec63c')\"\n",
              "              title=\"Convert this dataframe to an interactive table.\"\n",
              "              style=\"display:none;\">\n",
              "        \n",
              "  <svg xmlns=\"http://www.w3.org/2000/svg\" height=\"24px\"viewBox=\"0 0 24 24\"\n",
              "       width=\"24px\">\n",
              "    <path d=\"M0 0h24v24H0V0z\" fill=\"none\"/>\n",
              "    <path d=\"M18.56 5.44l.94 2.06.94-2.06 2.06-.94-2.06-.94-.94-2.06-.94 2.06-2.06.94zm-11 1L8.5 8.5l.94-2.06 2.06-.94-2.06-.94L8.5 2.5l-.94 2.06-2.06.94zm10 10l.94 2.06.94-2.06 2.06-.94-2.06-.94-.94-2.06-.94 2.06-2.06.94z\"/><path d=\"M17.41 7.96l-1.37-1.37c-.4-.4-.92-.59-1.43-.59-.52 0-1.04.2-1.43.59L10.3 9.45l-7.72 7.72c-.78.78-.78 2.05 0 2.83L4 21.41c.39.39.9.59 1.41.59.51 0 1.02-.2 1.41-.59l7.78-7.78 2.81-2.81c.8-.78.8-2.07 0-2.86zM5.41 20L4 18.59l7.72-7.72 1.47 1.35L5.41 20z\"/>\n",
              "  </svg>\n",
              "      </button>\n",
              "      \n",
              "  <style>\n",
              "    .colab-df-container {\n",
              "      display:flex;\n",
              "      flex-wrap:wrap;\n",
              "      gap: 12px;\n",
              "    }\n",
              "\n",
              "    .colab-df-convert {\n",
              "      background-color: #E8F0FE;\n",
              "      border: none;\n",
              "      border-radius: 50%;\n",
              "      cursor: pointer;\n",
              "      display: none;\n",
              "      fill: #1967D2;\n",
              "      height: 32px;\n",
              "      padding: 0 0 0 0;\n",
              "      width: 32px;\n",
              "    }\n",
              "\n",
              "    .colab-df-convert:hover {\n",
              "      background-color: #E2EBFA;\n",
              "      box-shadow: 0px 1px 2px rgba(60, 64, 67, 0.3), 0px 1px 3px 1px rgba(60, 64, 67, 0.15);\n",
              "      fill: #174EA6;\n",
              "    }\n",
              "\n",
              "    [theme=dark] .colab-df-convert {\n",
              "      background-color: #3B4455;\n",
              "      fill: #D2E3FC;\n",
              "    }\n",
              "\n",
              "    [theme=dark] .colab-df-convert:hover {\n",
              "      background-color: #434B5C;\n",
              "      box-shadow: 0px 1px 3px 1px rgba(0, 0, 0, 0.15);\n",
              "      filter: drop-shadow(0px 1px 2px rgba(0, 0, 0, 0.3));\n",
              "      fill: #FFFFFF;\n",
              "    }\n",
              "  </style>\n",
              "\n",
              "      <script>\n",
              "        const buttonEl =\n",
              "          document.querySelector('#df-04c9d56b-1c69-4f6e-b79d-f6d5dcdec63c button.colab-df-convert');\n",
              "        buttonEl.style.display =\n",
              "          google.colab.kernel.accessAllowed ? 'block' : 'none';\n",
              "\n",
              "        async function convertToInteractive(key) {\n",
              "          const element = document.querySelector('#df-04c9d56b-1c69-4f6e-b79d-f6d5dcdec63c');\n",
              "          const dataTable =\n",
              "            await google.colab.kernel.invokeFunction('convertToInteractive',\n",
              "                                                     [key], {});\n",
              "          if (!dataTable) return;\n",
              "\n",
              "          const docLinkHtml = 'Like what you see? Visit the ' +\n",
              "            '<a target=\"_blank\" href=https://colab.research.google.com/notebooks/data_table.ipynb>data table notebook</a>'\n",
              "            + ' to learn more about interactive tables.';\n",
              "          element.innerHTML = '';\n",
              "          dataTable['output_type'] = 'display_data';\n",
              "          await google.colab.output.renderOutput(dataTable, element);\n",
              "          const docLink = document.createElement('div');\n",
              "          docLink.innerHTML = docLinkHtml;\n",
              "          element.appendChild(docLink);\n",
              "        }\n",
              "      </script>\n",
              "    </div>\n",
              "  </div>\n",
              "  "
            ]
          },
          "metadata": {},
          "execution_count": 57
        }
      ],
      "source": [
        "ct1=pd.crosstab(df.cholesterol, df.cardio)\n",
        "ct1"
      ]
    },
    {
      "cell_type": "code",
      "source": [
        "chi1, p1, dof1, expected1= stats.chi2_contingency(ct1)"
      ],
      "metadata": {
        "id": "_2VhAIg_M1Bo"
      },
      "id": "_2VhAIg_M1Bo",
      "execution_count": 58,
      "outputs": []
    },
    {
      "cell_type": "code",
      "source": [
        "print(\"test statistic:\", chi1)\n",
        "print(\"p-value:\", p1)\n",
        "print(\"degrees of freedom:\", dof1) #degrees of freedom: serbestlik derecesi\n",
        "print(\"expected:\", expected1)"
      ],
      "metadata": {
        "colab": {
          "base_uri": "https://localhost:8080/"
        },
        "id": "YgQRlrK_M09-",
        "outputId": "c97cc783-fa12-48af-b678-11fbe6c5667b"
      },
      "id": "YgQRlrK_M09-",
      "execution_count": 61,
      "outputs": [
        {
          "output_type": "stream",
          "name": "stdout",
          "text": [
            "test statistic: 25.09923969189205\n",
            "p-value: 3.5462500172962202e-06\n",
            "degrees of freedom: 2\n",
            "expected: [[167.968 194.032]\n",
            " [ 35.264  40.736]\n",
            " [ 28.768  33.232]]\n"
          ]
        }
      ]
    },
    {
      "cell_type": "code",
      "source": [
        "#There is ststistically significant relationship between cholesterol and cardio"
      ],
      "metadata": {
        "id": "bpdQIyWZM07X"
      },
      "id": "bpdQIyWZM07X",
      "execution_count": null,
      "outputs": []
    }
  ],
  "metadata": {
    "colab": {
      "collapsed_sections": [],
      "provenance": [],
      "include_colab_link": true
    },
    "kernelspec": {
      "display_name": "Python 3",
      "language": "python",
      "name": "python3"
    },
    "language_info": {
      "codemirror_mode": {
        "name": "ipython",
        "version": 3
      },
      "file_extension": ".py",
      "mimetype": "text/x-python",
      "name": "python",
      "nbconvert_exporter": "python",
      "pygments_lexer": "ipython3",
      "version": "3.7.11"
    }
  },
  "nbformat": 4,
  "nbformat_minor": 5
}