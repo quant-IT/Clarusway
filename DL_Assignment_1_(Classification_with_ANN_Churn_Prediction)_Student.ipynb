{
  "cells": [
    {
      "cell_type": "markdown",
      "metadata": {
        "id": "view-in-github",
        "colab_type": "text"
      },
      "source": [
        "<a href=\"https://colab.research.google.com/github/quant-IT/Clarusway/blob/main/DL_Assignment_1_(Classification_with_ANN_Churn_Prediction)_Student.ipynb\" target=\"_parent\"><img src=\"https://colab.research.google.com/assets/colab-badge.svg\" alt=\"Open In Colab\"/></a>"
      ]
    },
    {
      "cell_type": "markdown",
      "metadata": {
        "id": "aaEgQ_MKAS27"
      },
      "source": [
        "___\n",
        "\n",
        "<p style=\"text-align: center;\"><img src=\"https://docs.google.com/uc?id=1lY0Uj5R04yMY3-ZppPWxqCr5pvBLYPnV\" class=\"img-fluid\" alt=\"CLRSWY\"></p>\n",
        "\n",
        "___"
      ]
    },
    {
      "cell_type": "markdown",
      "metadata": {
        "id": "UZn0v5h2AS2-"
      },
      "source": [
        "<h1 style=\"text-align: center;\">Deep Learning<br><br>Assignment-1 (ANN)<br><br>Churn Prediction for Bank Customer<br><h1>"
      ]
    },
    {
      "cell_type": "markdown",
      "metadata": {
        "id": "uoMjFmx8AS2_"
      },
      "source": [
        "# Dataset Info"
      ]
    },
    {
      "cell_type": "markdown",
      "metadata": {
        "id": "qPvH7zJiAS2_"
      },
      "source": [
        "We have a dataset in which there are details of a bank's customers and the target variable is a binary variable reflecting the fact whether the customer left the bank (closed his account) or he continues to be a customer.\n",
        "\n",
        "The features in the given dataset are:\n",
        "- **rownumber:** Row Numbers from 1 to 10000.\n",
        "- **customerid:** A unique ID that identifies each customer.\n",
        "- **surname:** The customer’s surname.\n",
        "- **creditscore:** A credit score is a number between 300–850 that depicts a consumer's creditworthiness.\n",
        "- **geography:** The country from which the customer belongs to.\n",
        "- **Gender:** The customer’s gender: Male, Female\n",
        "- **Age:** The customer’s current age, in years, at the time of being customer.\n",
        "- **tenure:** The number of years for which the customer has been with the bank.\n",
        "- **balance:** Bank balance of the customer.\n",
        "- **numofproducts:** the number of bank products the customer is utilising.\n",
        "- **hascrcard:** The number of credit cards given to the customer by the bank.\n",
        "- **isactivemember:** Binary Flag for indicating if the client is active or not with the bank before the moment where the client exits the company (recorded in the variable \"exited\")\n",
        "- **exited:** Binary flag 1 if the customer closed account with bank and 0 if the customer is retained."
      ]
    },
    {
      "cell_type": "markdown",
      "metadata": {
        "id": "-4kV1577AS3A"
      },
      "source": [
        "# Improt Libraries & Data"
      ]
    },
    {
      "cell_type": "code",
      "execution_count": 65,
      "metadata": {
        "id": "Q8mRbiXmAS3B"
      },
      "outputs": [],
      "source": [
        "import numpy as np\n",
        "import pandas as pd\n",
        "import matplotlib.pyplot as plt\n",
        "import seaborn as sns\n",
        "\n",
        "import warnings\n",
        "warnings.filterwarnings(\"ignore\")\n",
        "warnings.warn(\"this will not show\")\n",
        "\n",
        "plt.rcParams[\"figure.figsize\"] = (10,6)\n",
        "\n",
        "sns.set_style(\"whitegrid\")\n",
        "pd.set_option('display.float_format', lambda x: '%.3f' % x)\n",
        "\n",
        "pd.set_option('display.max_columns', None)\n",
        "\n",
        "#!pip install folium "
      ]
    },
    {
      "cell_type": "code",
      "source": [
        "from google.colab import drive\n",
        "drive.mount('/content/drive')"
      ],
      "metadata": {
        "id": "oTHsqbIaiEAg",
        "colab": {
          "base_uri": "https://localhost:8080/"
        },
        "outputId": "4a87db64-2e13-4894-a8c7-7a7c2f9da70a"
      },
      "execution_count": 66,
      "outputs": [
        {
          "output_type": "stream",
          "name": "stdout",
          "text": [
            "Drive already mounted at /content/drive; to attempt to forcibly remount, call drive.mount(\"/content/drive\", force_remount=True).\n"
          ]
        }
      ]
    },
    {
      "cell_type": "code",
      "source": [
        "df = pd.read_csv(\"drive/MyDrive/Colab_Notebooks/datasets/Churn_Modelling.csv\")"
      ],
      "metadata": {
        "id": "WBYvqGfaiD2l"
      },
      "execution_count": 67,
      "outputs": []
    },
    {
      "cell_type": "markdown",
      "metadata": {
        "id": "DjrwbLHjAS3B"
      },
      "source": [
        "# Exploratory Data Analysis and Visualization"
      ]
    },
    {
      "cell_type": "markdown",
      "metadata": {
        "id": "xtPY-Y9zAS3C"
      },
      "source": [
        "1. Implement basic steps to see how is your data looks like\n",
        "2. Check for missing values\n",
        "3. Drop the features that not suitable for modelling\n",
        "4. Implement basic visualization steps such as histogram, countplot, heatmap\n",
        "5. Convert categorical variables to dummy variables"
      ]
    },
    {
      "cell_type": "code",
      "source": [
        "df.shape"
      ],
      "metadata": {
        "colab": {
          "base_uri": "https://localhost:8080/"
        },
        "id": "fKZaV2p19E1K",
        "outputId": "ca4e1043-3565-4024-d988-edb4a18f801d"
      },
      "execution_count": 68,
      "outputs": [
        {
          "output_type": "execute_result",
          "data": {
            "text/plain": [
              "(10000, 14)"
            ]
          },
          "metadata": {},
          "execution_count": 68
        }
      ]
    },
    {
      "cell_type": "code",
      "source": [
        "df.head()"
      ],
      "metadata": {
        "colab": {
          "base_uri": "https://localhost:8080/",
          "height": 206
        },
        "id": "h8kV4Io_llvG",
        "outputId": "8ea33495-d963-4d16-a22b-b7cdc1069c0b"
      },
      "execution_count": 69,
      "outputs": [
        {
          "output_type": "execute_result",
          "data": {
            "text/plain": [
              "   RowNumber  CustomerId   Surname  CreditScore Geography  Gender  Age  \\\n",
              "0          1    15634602  Hargrave          619    France  Female   42   \n",
              "1          2    15647311      Hill          608     Spain  Female   41   \n",
              "2          3    15619304      Onio          502    France  Female   42   \n",
              "3          4    15701354      Boni          699    France  Female   39   \n",
              "4          5    15737888  Mitchell          850     Spain  Female   43   \n",
              "\n",
              "   Tenure    Balance  NumOfProducts  HasCrCard  IsActiveMember  \\\n",
              "0       2      0.000              1          1               1   \n",
              "1       1  83807.860              1          0               1   \n",
              "2       8 159660.800              3          1               0   \n",
              "3       1      0.000              2          0               0   \n",
              "4       2 125510.820              1          1               1   \n",
              "\n",
              "   EstimatedSalary  Exited  \n",
              "0       101348.880       1  \n",
              "1       112542.580       0  \n",
              "2       113931.570       1  \n",
              "3        93826.630       0  \n",
              "4        79084.100       0  "
            ],
            "text/html": [
              "\n",
              "  <div id=\"df-c9cd6d59-8143-4925-85ad-6607f03438aa\">\n",
              "    <div class=\"colab-df-container\">\n",
              "      <div>\n",
              "<style scoped>\n",
              "    .dataframe tbody tr th:only-of-type {\n",
              "        vertical-align: middle;\n",
              "    }\n",
              "\n",
              "    .dataframe tbody tr th {\n",
              "        vertical-align: top;\n",
              "    }\n",
              "\n",
              "    .dataframe thead th {\n",
              "        text-align: right;\n",
              "    }\n",
              "</style>\n",
              "<table border=\"1\" class=\"dataframe\">\n",
              "  <thead>\n",
              "    <tr style=\"text-align: right;\">\n",
              "      <th></th>\n",
              "      <th>RowNumber</th>\n",
              "      <th>CustomerId</th>\n",
              "      <th>Surname</th>\n",
              "      <th>CreditScore</th>\n",
              "      <th>Geography</th>\n",
              "      <th>Gender</th>\n",
              "      <th>Age</th>\n",
              "      <th>Tenure</th>\n",
              "      <th>Balance</th>\n",
              "      <th>NumOfProducts</th>\n",
              "      <th>HasCrCard</th>\n",
              "      <th>IsActiveMember</th>\n",
              "      <th>EstimatedSalary</th>\n",
              "      <th>Exited</th>\n",
              "    </tr>\n",
              "  </thead>\n",
              "  <tbody>\n",
              "    <tr>\n",
              "      <th>0</th>\n",
              "      <td>1</td>\n",
              "      <td>15634602</td>\n",
              "      <td>Hargrave</td>\n",
              "      <td>619</td>\n",
              "      <td>France</td>\n",
              "      <td>Female</td>\n",
              "      <td>42</td>\n",
              "      <td>2</td>\n",
              "      <td>0.000</td>\n",
              "      <td>1</td>\n",
              "      <td>1</td>\n",
              "      <td>1</td>\n",
              "      <td>101348.880</td>\n",
              "      <td>1</td>\n",
              "    </tr>\n",
              "    <tr>\n",
              "      <th>1</th>\n",
              "      <td>2</td>\n",
              "      <td>15647311</td>\n",
              "      <td>Hill</td>\n",
              "      <td>608</td>\n",
              "      <td>Spain</td>\n",
              "      <td>Female</td>\n",
              "      <td>41</td>\n",
              "      <td>1</td>\n",
              "      <td>83807.860</td>\n",
              "      <td>1</td>\n",
              "      <td>0</td>\n",
              "      <td>1</td>\n",
              "      <td>112542.580</td>\n",
              "      <td>0</td>\n",
              "    </tr>\n",
              "    <tr>\n",
              "      <th>2</th>\n",
              "      <td>3</td>\n",
              "      <td>15619304</td>\n",
              "      <td>Onio</td>\n",
              "      <td>502</td>\n",
              "      <td>France</td>\n",
              "      <td>Female</td>\n",
              "      <td>42</td>\n",
              "      <td>8</td>\n",
              "      <td>159660.800</td>\n",
              "      <td>3</td>\n",
              "      <td>1</td>\n",
              "      <td>0</td>\n",
              "      <td>113931.570</td>\n",
              "      <td>1</td>\n",
              "    </tr>\n",
              "    <tr>\n",
              "      <th>3</th>\n",
              "      <td>4</td>\n",
              "      <td>15701354</td>\n",
              "      <td>Boni</td>\n",
              "      <td>699</td>\n",
              "      <td>France</td>\n",
              "      <td>Female</td>\n",
              "      <td>39</td>\n",
              "      <td>1</td>\n",
              "      <td>0.000</td>\n",
              "      <td>2</td>\n",
              "      <td>0</td>\n",
              "      <td>0</td>\n",
              "      <td>93826.630</td>\n",
              "      <td>0</td>\n",
              "    </tr>\n",
              "    <tr>\n",
              "      <th>4</th>\n",
              "      <td>5</td>\n",
              "      <td>15737888</td>\n",
              "      <td>Mitchell</td>\n",
              "      <td>850</td>\n",
              "      <td>Spain</td>\n",
              "      <td>Female</td>\n",
              "      <td>43</td>\n",
              "      <td>2</td>\n",
              "      <td>125510.820</td>\n",
              "      <td>1</td>\n",
              "      <td>1</td>\n",
              "      <td>1</td>\n",
              "      <td>79084.100</td>\n",
              "      <td>0</td>\n",
              "    </tr>\n",
              "  </tbody>\n",
              "</table>\n",
              "</div>\n",
              "      <button class=\"colab-df-convert\" onclick=\"convertToInteractive('df-c9cd6d59-8143-4925-85ad-6607f03438aa')\"\n",
              "              title=\"Convert this dataframe to an interactive table.\"\n",
              "              style=\"display:none;\">\n",
              "        \n",
              "  <svg xmlns=\"http://www.w3.org/2000/svg\" height=\"24px\"viewBox=\"0 0 24 24\"\n",
              "       width=\"24px\">\n",
              "    <path d=\"M0 0h24v24H0V0z\" fill=\"none\"/>\n",
              "    <path d=\"M18.56 5.44l.94 2.06.94-2.06 2.06-.94-2.06-.94-.94-2.06-.94 2.06-2.06.94zm-11 1L8.5 8.5l.94-2.06 2.06-.94-2.06-.94L8.5 2.5l-.94 2.06-2.06.94zm10 10l.94 2.06.94-2.06 2.06-.94-2.06-.94-.94-2.06-.94 2.06-2.06.94z\"/><path d=\"M17.41 7.96l-1.37-1.37c-.4-.4-.92-.59-1.43-.59-.52 0-1.04.2-1.43.59L10.3 9.45l-7.72 7.72c-.78.78-.78 2.05 0 2.83L4 21.41c.39.39.9.59 1.41.59.51 0 1.02-.2 1.41-.59l7.78-7.78 2.81-2.81c.8-.78.8-2.07 0-2.86zM5.41 20L4 18.59l7.72-7.72 1.47 1.35L5.41 20z\"/>\n",
              "  </svg>\n",
              "      </button>\n",
              "      \n",
              "  <style>\n",
              "    .colab-df-container {\n",
              "      display:flex;\n",
              "      flex-wrap:wrap;\n",
              "      gap: 12px;\n",
              "    }\n",
              "\n",
              "    .colab-df-convert {\n",
              "      background-color: #E8F0FE;\n",
              "      border: none;\n",
              "      border-radius: 50%;\n",
              "      cursor: pointer;\n",
              "      display: none;\n",
              "      fill: #1967D2;\n",
              "      height: 32px;\n",
              "      padding: 0 0 0 0;\n",
              "      width: 32px;\n",
              "    }\n",
              "\n",
              "    .colab-df-convert:hover {\n",
              "      background-color: #E2EBFA;\n",
              "      box-shadow: 0px 1px 2px rgba(60, 64, 67, 0.3), 0px 1px 3px 1px rgba(60, 64, 67, 0.15);\n",
              "      fill: #174EA6;\n",
              "    }\n",
              "\n",
              "    [theme=dark] .colab-df-convert {\n",
              "      background-color: #3B4455;\n",
              "      fill: #D2E3FC;\n",
              "    }\n",
              "\n",
              "    [theme=dark] .colab-df-convert:hover {\n",
              "      background-color: #434B5C;\n",
              "      box-shadow: 0px 1px 3px 1px rgba(0, 0, 0, 0.15);\n",
              "      filter: drop-shadow(0px 1px 2px rgba(0, 0, 0, 0.3));\n",
              "      fill: #FFFFFF;\n",
              "    }\n",
              "  </style>\n",
              "\n",
              "      <script>\n",
              "        const buttonEl =\n",
              "          document.querySelector('#df-c9cd6d59-8143-4925-85ad-6607f03438aa button.colab-df-convert');\n",
              "        buttonEl.style.display =\n",
              "          google.colab.kernel.accessAllowed ? 'block' : 'none';\n",
              "\n",
              "        async function convertToInteractive(key) {\n",
              "          const element = document.querySelector('#df-c9cd6d59-8143-4925-85ad-6607f03438aa');\n",
              "          const dataTable =\n",
              "            await google.colab.kernel.invokeFunction('convertToInteractive',\n",
              "                                                     [key], {});\n",
              "          if (!dataTable) return;\n",
              "\n",
              "          const docLinkHtml = 'Like what you see? Visit the ' +\n",
              "            '<a target=\"_blank\" href=https://colab.research.google.com/notebooks/data_table.ipynb>data table notebook</a>'\n",
              "            + ' to learn more about interactive tables.';\n",
              "          element.innerHTML = '';\n",
              "          dataTable['output_type'] = 'display_data';\n",
              "          await google.colab.output.renderOutput(dataTable, element);\n",
              "          const docLink = document.createElement('div');\n",
              "          docLink.innerHTML = docLinkHtml;\n",
              "          element.appendChild(docLink);\n",
              "        }\n",
              "      </script>\n",
              "    </div>\n",
              "  </div>\n",
              "  "
            ]
          },
          "metadata": {},
          "execution_count": 69
        }
      ]
    },
    {
      "cell_type": "code",
      "source": [
        "df.info()"
      ],
      "metadata": {
        "colab": {
          "base_uri": "https://localhost:8080/"
        },
        "id": "fIRIbwAQllsr",
        "outputId": "682f9897-e02d-448d-cc18-e2a4a825d326"
      },
      "execution_count": 70,
      "outputs": [
        {
          "output_type": "stream",
          "name": "stdout",
          "text": [
            "<class 'pandas.core.frame.DataFrame'>\n",
            "RangeIndex: 10000 entries, 0 to 9999\n",
            "Data columns (total 14 columns):\n",
            " #   Column           Non-Null Count  Dtype  \n",
            "---  ------           --------------  -----  \n",
            " 0   RowNumber        10000 non-null  int64  \n",
            " 1   CustomerId       10000 non-null  int64  \n",
            " 2   Surname          10000 non-null  object \n",
            " 3   CreditScore      10000 non-null  int64  \n",
            " 4   Geography        10000 non-null  object \n",
            " 5   Gender           10000 non-null  object \n",
            " 6   Age              10000 non-null  int64  \n",
            " 7   Tenure           10000 non-null  int64  \n",
            " 8   Balance          10000 non-null  float64\n",
            " 9   NumOfProducts    10000 non-null  int64  \n",
            " 10  HasCrCard        10000 non-null  int64  \n",
            " 11  IsActiveMember   10000 non-null  int64  \n",
            " 12  EstimatedSalary  10000 non-null  float64\n",
            " 13  Exited           10000 non-null  int64  \n",
            "dtypes: float64(2), int64(9), object(3)\n",
            "memory usage: 1.1+ MB\n"
          ]
        }
      ]
    },
    {
      "cell_type": "code",
      "source": [
        "df.isnull().sum().any()"
      ],
      "metadata": {
        "colab": {
          "base_uri": "https://localhost:8080/"
        },
        "id": "LLe1FQVjllqa",
        "outputId": "45af7612-8c86-4ed6-81c6-ebef0a5f604e"
      },
      "execution_count": 71,
      "outputs": [
        {
          "output_type": "execute_result",
          "data": {
            "text/plain": [
              "False"
            ]
          },
          "metadata": {},
          "execution_count": 71
        }
      ]
    },
    {
      "cell_type": "code",
      "source": [
        "df.describe().T"
      ],
      "metadata": {
        "colab": {
          "base_uri": "https://localhost:8080/",
          "height": 394
        },
        "id": "pF24VkaFlloV",
        "outputId": "cfce2971-85a1-47c6-df54-fb76e733861f"
      },
      "execution_count": 72,
      "outputs": [
        {
          "output_type": "execute_result",
          "data": {
            "text/plain": [
              "                    count         mean       std          min          25%  \\\n",
              "RowNumber       10000.000     5000.500  2886.896        1.000     2500.750   \n",
              "CustomerId      10000.000 15690940.569 71936.186 15565701.000 15628528.250   \n",
              "CreditScore     10000.000      650.529    96.653      350.000      584.000   \n",
              "Age             10000.000       38.922    10.488       18.000       32.000   \n",
              "Tenure          10000.000        5.013     2.892        0.000        3.000   \n",
              "Balance         10000.000    76485.889 62397.405        0.000        0.000   \n",
              "NumOfProducts   10000.000        1.530     0.582        1.000        1.000   \n",
              "HasCrCard       10000.000        0.706     0.456        0.000        0.000   \n",
              "IsActiveMember  10000.000        0.515     0.500        0.000        0.000   \n",
              "EstimatedSalary 10000.000   100090.240 57510.493       11.580    51002.110   \n",
              "Exited          10000.000        0.204     0.403        0.000        0.000   \n",
              "\n",
              "                         50%          75%          max  \n",
              "RowNumber           5000.500     7500.250    10000.000  \n",
              "CustomerId      15690738.000 15753233.750 15815690.000  \n",
              "CreditScore          652.000      718.000      850.000  \n",
              "Age                   37.000       44.000       92.000  \n",
              "Tenure                 5.000        7.000       10.000  \n",
              "Balance            97198.540   127644.240   250898.090  \n",
              "NumOfProducts          1.000        2.000        4.000  \n",
              "HasCrCard              1.000        1.000        1.000  \n",
              "IsActiveMember         1.000        1.000        1.000  \n",
              "EstimatedSalary   100193.915   149388.247   199992.480  \n",
              "Exited                 0.000        0.000        1.000  "
            ],
            "text/html": [
              "\n",
              "  <div id=\"df-98c07557-40ce-4795-a1bc-156b871d34d1\">\n",
              "    <div class=\"colab-df-container\">\n",
              "      <div>\n",
              "<style scoped>\n",
              "    .dataframe tbody tr th:only-of-type {\n",
              "        vertical-align: middle;\n",
              "    }\n",
              "\n",
              "    .dataframe tbody tr th {\n",
              "        vertical-align: top;\n",
              "    }\n",
              "\n",
              "    .dataframe thead th {\n",
              "        text-align: right;\n",
              "    }\n",
              "</style>\n",
              "<table border=\"1\" class=\"dataframe\">\n",
              "  <thead>\n",
              "    <tr style=\"text-align: right;\">\n",
              "      <th></th>\n",
              "      <th>count</th>\n",
              "      <th>mean</th>\n",
              "      <th>std</th>\n",
              "      <th>min</th>\n",
              "      <th>25%</th>\n",
              "      <th>50%</th>\n",
              "      <th>75%</th>\n",
              "      <th>max</th>\n",
              "    </tr>\n",
              "  </thead>\n",
              "  <tbody>\n",
              "    <tr>\n",
              "      <th>RowNumber</th>\n",
              "      <td>10000.000</td>\n",
              "      <td>5000.500</td>\n",
              "      <td>2886.896</td>\n",
              "      <td>1.000</td>\n",
              "      <td>2500.750</td>\n",
              "      <td>5000.500</td>\n",
              "      <td>7500.250</td>\n",
              "      <td>10000.000</td>\n",
              "    </tr>\n",
              "    <tr>\n",
              "      <th>CustomerId</th>\n",
              "      <td>10000.000</td>\n",
              "      <td>15690940.569</td>\n",
              "      <td>71936.186</td>\n",
              "      <td>15565701.000</td>\n",
              "      <td>15628528.250</td>\n",
              "      <td>15690738.000</td>\n",
              "      <td>15753233.750</td>\n",
              "      <td>15815690.000</td>\n",
              "    </tr>\n",
              "    <tr>\n",
              "      <th>CreditScore</th>\n",
              "      <td>10000.000</td>\n",
              "      <td>650.529</td>\n",
              "      <td>96.653</td>\n",
              "      <td>350.000</td>\n",
              "      <td>584.000</td>\n",
              "      <td>652.000</td>\n",
              "      <td>718.000</td>\n",
              "      <td>850.000</td>\n",
              "    </tr>\n",
              "    <tr>\n",
              "      <th>Age</th>\n",
              "      <td>10000.000</td>\n",
              "      <td>38.922</td>\n",
              "      <td>10.488</td>\n",
              "      <td>18.000</td>\n",
              "      <td>32.000</td>\n",
              "      <td>37.000</td>\n",
              "      <td>44.000</td>\n",
              "      <td>92.000</td>\n",
              "    </tr>\n",
              "    <tr>\n",
              "      <th>Tenure</th>\n",
              "      <td>10000.000</td>\n",
              "      <td>5.013</td>\n",
              "      <td>2.892</td>\n",
              "      <td>0.000</td>\n",
              "      <td>3.000</td>\n",
              "      <td>5.000</td>\n",
              "      <td>7.000</td>\n",
              "      <td>10.000</td>\n",
              "    </tr>\n",
              "    <tr>\n",
              "      <th>Balance</th>\n",
              "      <td>10000.000</td>\n",
              "      <td>76485.889</td>\n",
              "      <td>62397.405</td>\n",
              "      <td>0.000</td>\n",
              "      <td>0.000</td>\n",
              "      <td>97198.540</td>\n",
              "      <td>127644.240</td>\n",
              "      <td>250898.090</td>\n",
              "    </tr>\n",
              "    <tr>\n",
              "      <th>NumOfProducts</th>\n",
              "      <td>10000.000</td>\n",
              "      <td>1.530</td>\n",
              "      <td>0.582</td>\n",
              "      <td>1.000</td>\n",
              "      <td>1.000</td>\n",
              "      <td>1.000</td>\n",
              "      <td>2.000</td>\n",
              "      <td>4.000</td>\n",
              "    </tr>\n",
              "    <tr>\n",
              "      <th>HasCrCard</th>\n",
              "      <td>10000.000</td>\n",
              "      <td>0.706</td>\n",
              "      <td>0.456</td>\n",
              "      <td>0.000</td>\n",
              "      <td>0.000</td>\n",
              "      <td>1.000</td>\n",
              "      <td>1.000</td>\n",
              "      <td>1.000</td>\n",
              "    </tr>\n",
              "    <tr>\n",
              "      <th>IsActiveMember</th>\n",
              "      <td>10000.000</td>\n",
              "      <td>0.515</td>\n",
              "      <td>0.500</td>\n",
              "      <td>0.000</td>\n",
              "      <td>0.000</td>\n",
              "      <td>1.000</td>\n",
              "      <td>1.000</td>\n",
              "      <td>1.000</td>\n",
              "    </tr>\n",
              "    <tr>\n",
              "      <th>EstimatedSalary</th>\n",
              "      <td>10000.000</td>\n",
              "      <td>100090.240</td>\n",
              "      <td>57510.493</td>\n",
              "      <td>11.580</td>\n",
              "      <td>51002.110</td>\n",
              "      <td>100193.915</td>\n",
              "      <td>149388.247</td>\n",
              "      <td>199992.480</td>\n",
              "    </tr>\n",
              "    <tr>\n",
              "      <th>Exited</th>\n",
              "      <td>10000.000</td>\n",
              "      <td>0.204</td>\n",
              "      <td>0.403</td>\n",
              "      <td>0.000</td>\n",
              "      <td>0.000</td>\n",
              "      <td>0.000</td>\n",
              "      <td>0.000</td>\n",
              "      <td>1.000</td>\n",
              "    </tr>\n",
              "  </tbody>\n",
              "</table>\n",
              "</div>\n",
              "      <button class=\"colab-df-convert\" onclick=\"convertToInteractive('df-98c07557-40ce-4795-a1bc-156b871d34d1')\"\n",
              "              title=\"Convert this dataframe to an interactive table.\"\n",
              "              style=\"display:none;\">\n",
              "        \n",
              "  <svg xmlns=\"http://www.w3.org/2000/svg\" height=\"24px\"viewBox=\"0 0 24 24\"\n",
              "       width=\"24px\">\n",
              "    <path d=\"M0 0h24v24H0V0z\" fill=\"none\"/>\n",
              "    <path d=\"M18.56 5.44l.94 2.06.94-2.06 2.06-.94-2.06-.94-.94-2.06-.94 2.06-2.06.94zm-11 1L8.5 8.5l.94-2.06 2.06-.94-2.06-.94L8.5 2.5l-.94 2.06-2.06.94zm10 10l.94 2.06.94-2.06 2.06-.94-2.06-.94-.94-2.06-.94 2.06-2.06.94z\"/><path d=\"M17.41 7.96l-1.37-1.37c-.4-.4-.92-.59-1.43-.59-.52 0-1.04.2-1.43.59L10.3 9.45l-7.72 7.72c-.78.78-.78 2.05 0 2.83L4 21.41c.39.39.9.59 1.41.59.51 0 1.02-.2 1.41-.59l7.78-7.78 2.81-2.81c.8-.78.8-2.07 0-2.86zM5.41 20L4 18.59l7.72-7.72 1.47 1.35L5.41 20z\"/>\n",
              "  </svg>\n",
              "      </button>\n",
              "      \n",
              "  <style>\n",
              "    .colab-df-container {\n",
              "      display:flex;\n",
              "      flex-wrap:wrap;\n",
              "      gap: 12px;\n",
              "    }\n",
              "\n",
              "    .colab-df-convert {\n",
              "      background-color: #E8F0FE;\n",
              "      border: none;\n",
              "      border-radius: 50%;\n",
              "      cursor: pointer;\n",
              "      display: none;\n",
              "      fill: #1967D2;\n",
              "      height: 32px;\n",
              "      padding: 0 0 0 0;\n",
              "      width: 32px;\n",
              "    }\n",
              "\n",
              "    .colab-df-convert:hover {\n",
              "      background-color: #E2EBFA;\n",
              "      box-shadow: 0px 1px 2px rgba(60, 64, 67, 0.3), 0px 1px 3px 1px rgba(60, 64, 67, 0.15);\n",
              "      fill: #174EA6;\n",
              "    }\n",
              "\n",
              "    [theme=dark] .colab-df-convert {\n",
              "      background-color: #3B4455;\n",
              "      fill: #D2E3FC;\n",
              "    }\n",
              "\n",
              "    [theme=dark] .colab-df-convert:hover {\n",
              "      background-color: #434B5C;\n",
              "      box-shadow: 0px 1px 3px 1px rgba(0, 0, 0, 0.15);\n",
              "      filter: drop-shadow(0px 1px 2px rgba(0, 0, 0, 0.3));\n",
              "      fill: #FFFFFF;\n",
              "    }\n",
              "  </style>\n",
              "\n",
              "      <script>\n",
              "        const buttonEl =\n",
              "          document.querySelector('#df-98c07557-40ce-4795-a1bc-156b871d34d1 button.colab-df-convert');\n",
              "        buttonEl.style.display =\n",
              "          google.colab.kernel.accessAllowed ? 'block' : 'none';\n",
              "\n",
              "        async function convertToInteractive(key) {\n",
              "          const element = document.querySelector('#df-98c07557-40ce-4795-a1bc-156b871d34d1');\n",
              "          const dataTable =\n",
              "            await google.colab.kernel.invokeFunction('convertToInteractive',\n",
              "                                                     [key], {});\n",
              "          if (!dataTable) return;\n",
              "\n",
              "          const docLinkHtml = 'Like what you see? Visit the ' +\n",
              "            '<a target=\"_blank\" href=https://colab.research.google.com/notebooks/data_table.ipynb>data table notebook</a>'\n",
              "            + ' to learn more about interactive tables.';\n",
              "          element.innerHTML = '';\n",
              "          dataTable['output_type'] = 'display_data';\n",
              "          await google.colab.output.renderOutput(dataTable, element);\n",
              "          const docLink = document.createElement('div');\n",
              "          docLink.innerHTML = docLinkHtml;\n",
              "          element.appendChild(docLink);\n",
              "        }\n",
              "      </script>\n",
              "    </div>\n",
              "  </div>\n",
              "  "
            ]
          },
          "metadata": {},
          "execution_count": 72
        }
      ]
    },
    {
      "cell_type": "code",
      "source": [
        "df.Exited.value_counts()"
      ],
      "metadata": {
        "colab": {
          "base_uri": "https://localhost:8080/"
        },
        "id": "2O18w9PlllmA",
        "outputId": "dab76e9f-3335-48c1-fa49-a104c66edd25"
      },
      "execution_count": 73,
      "outputs": [
        {
          "output_type": "execute_result",
          "data": {
            "text/plain": [
              "0    7963\n",
              "1    2037\n",
              "Name: Exited, dtype: int64"
            ]
          },
          "metadata": {},
          "execution_count": 73
        }
      ]
    },
    {
      "cell_type": "code",
      "source": [
        "sns.countplot(df[\"Exited\"]);"
      ],
      "metadata": {
        "colab": {
          "base_uri": "https://localhost:8080/",
          "height": 388
        },
        "id": "TDpBZcCslljv",
        "outputId": "42b62c7f-2636-4363-8cc0-4a7718c1d80a"
      },
      "execution_count": 74,
      "outputs": [
        {
          "output_type": "display_data",
          "data": {
            "text/plain": [
              "<Figure size 720x432 with 1 Axes>"
            ],
            "image/png": "[encoded data removed]"
          },
          "metadata": {}
        }
      ]
    },
    {
      "cell_type": "code",
      "source": [
        "plt.figure(figsize=(20,20))\n",
        "sns.heatmap(df.corr(), annot=True);"
      ],
      "metadata": {
        "colab": {
          "base_uri": "https://localhost:8080/",
          "height": 1000
        },
        "id": "TzGTqYJpllhe",
        "outputId": "5ace6619-68d3-4789-ab66-045c8d67bf1e"
      },
      "execution_count": 75,
      "outputs": [
        {
          "output_type": "display_data",
          "data": {
            "text/plain": [
              "<Figure size 1440x1440 with 2 Axes>"
            ],
            "image/png": "[encoded data removed]"
          },
          "metadata": {}
        }
      ]
    },
    {
      "cell_type": "code",
      "source": [
        "df.head()\n"
      ],
      "metadata": {
        "colab": {
          "base_uri": "https://localhost:8080/",
          "height": 206
        },
        "id": "5GQFmzgXllZ8",
        "outputId": "52fb8ca5-ebd4-442b-9b0a-8a3eff4ef3d2"
      },
      "execution_count": 76,
      "outputs": [
        {
          "output_type": "execute_result",
          "data": {
            "text/plain": [
              "   RowNumber  CustomerId   Surname  CreditScore Geography  Gender  Age  \\\n",
              "0          1    15634602  Hargrave          619    France  Female   42   \n",
              "1          2    15647311      Hill          608     Spain  Female   41   \n",
              "2          3    15619304      Onio          502    France  Female   42   \n",
              "3          4    15701354      Boni          699    France  Female   39   \n",
              "4          5    15737888  Mitchell          850     Spain  Female   43   \n",
              "\n",
              "   Tenure    Balance  NumOfProducts  HasCrCard  IsActiveMember  \\\n",
              "0       2      0.000              1          1               1   \n",
              "1       1  83807.860              1          0               1   \n",
              "2       8 159660.800              3          1               0   \n",
              "3       1      0.000              2          0               0   \n",
              "4       2 125510.820              1          1               1   \n",
              "\n",
              "   EstimatedSalary  Exited  \n",
              "0       101348.880       1  \n",
              "1       112542.580       0  \n",
              "2       113931.570       1  \n",
              "3        93826.630       0  \n",
              "4        79084.100       0  "
            ],
            "text/html": [
              "\n",
              "  <div id=\"df-078c734b-3b66-483e-a120-08e69d56bf5a\">\n",
              "    <div class=\"colab-df-container\">\n",
              "      <div>\n",
              "<style scoped>\n",
              "    .dataframe tbody tr th:only-of-type {\n",
              "        vertical-align: middle;\n",
              "    }\n",
              "\n",
              "    .dataframe tbody tr th {\n",
              "        vertical-align: top;\n",
              "    }\n",
              "\n",
              "    .dataframe thead th {\n",
              "        text-align: right;\n",
              "    }\n",
              "</style>\n",
              "<table border=\"1\" class=\"dataframe\">\n",
              "  <thead>\n",
              "    <tr style=\"text-align: right;\">\n",
              "      <th></th>\n",
              "      <th>RowNumber</th>\n",
              "      <th>CustomerId</th>\n",
              "      <th>Surname</th>\n",
              "      <th>CreditScore</th>\n",
              "      <th>Geography</th>\n",
              "      <th>Gender</th>\n",
              "      <th>Age</th>\n",
              "      <th>Tenure</th>\n",
              "      <th>Balance</th>\n",
              "      <th>NumOfProducts</th>\n",
              "      <th>HasCrCard</th>\n",
              "      <th>IsActiveMember</th>\n",
              "      <th>EstimatedSalary</th>\n",
              "      <th>Exited</th>\n",
              "    </tr>\n",
              "  </thead>\n",
              "  <tbody>\n",
              "    <tr>\n",
              "      <th>0</th>\n",
              "      <td>1</td>\n",
              "      <td>15634602</td>\n",
              "      <td>Hargrave</td>\n",
              "      <td>619</td>\n",
              "      <td>France</td>\n",
              "      <td>Female</td>\n",
              "      <td>42</td>\n",
              "      <td>2</td>\n",
              "      <td>0.000</td>\n",
              "      <td>1</td>\n",
              "      <td>1</td>\n",
              "      <td>1</td>\n",
              "      <td>101348.880</td>\n",
              "      <td>1</td>\n",
              "    </tr>\n",
              "    <tr>\n",
              "      <th>1</th>\n",
              "      <td>2</td>\n",
              "      <td>15647311</td>\n",
              "      <td>Hill</td>\n",
              "      <td>608</td>\n",
              "      <td>Spain</td>\n",
              "      <td>Female</td>\n",
              "      <td>41</td>\n",
              "      <td>1</td>\n",
              "      <td>83807.860</td>\n",
              "      <td>1</td>\n",
              "      <td>0</td>\n",
              "      <td>1</td>\n",
              "      <td>112542.580</td>\n",
              "      <td>0</td>\n",
              "    </tr>\n",
              "    <tr>\n",
              "      <th>2</th>\n",
              "      <td>3</td>\n",
              "      <td>15619304</td>\n",
              "      <td>Onio</td>\n",
              "      <td>502</td>\n",
              "      <td>France</td>\n",
              "      <td>Female</td>\n",
              "      <td>42</td>\n",
              "      <td>8</td>\n",
              "      <td>159660.800</td>\n",
              "      <td>3</td>\n",
              "      <td>1</td>\n",
              "      <td>0</td>\n",
              "      <td>113931.570</td>\n",
              "      <td>1</td>\n",
              "    </tr>\n",
              "    <tr>\n",
              "      <th>3</th>\n",
              "      <td>4</td>\n",
              "      <td>15701354</td>\n",
              "      <td>Boni</td>\n",
              "      <td>699</td>\n",
              "      <td>France</td>\n",
              "      <td>Female</td>\n",
              "      <td>39</td>\n",
              "      <td>1</td>\n",
              "      <td>0.000</td>\n",
              "      <td>2</td>\n",
              "      <td>0</td>\n",
              "      <td>0</td>\n",
              "      <td>93826.630</td>\n",
              "      <td>0</td>\n",
              "    </tr>\n",
              "    <tr>\n",
              "      <th>4</th>\n",
              "      <td>5</td>\n",
              "      <td>15737888</td>\n",
              "      <td>Mitchell</td>\n",
              "      <td>850</td>\n",
              "      <td>Spain</td>\n",
              "      <td>Female</td>\n",
              "      <td>43</td>\n",
              "      <td>2</td>\n",
              "      <td>125510.820</td>\n",
              "      <td>1</td>\n",
              "      <td>1</td>\n",
              "      <td>1</td>\n",
              "      <td>79084.100</td>\n",
              "      <td>0</td>\n",
              "    </tr>\n",
              "  </tbody>\n",
              "</table>\n",
              "</div>\n",
              "      <button class=\"colab-df-convert\" onclick=\"convertToInteractive('df-078c734b-3b66-483e-a120-08e69d56bf5a')\"\n",
              "              title=\"Convert this dataframe to an interactive table.\"\n",
              "              style=\"display:none;\">\n",
              "        \n",
              "  <svg xmlns=\"http://www.w3.org/2000/svg\" height=\"24px\"viewBox=\"0 0 24 24\"\n",
              "       width=\"24px\">\n",
              "    <path d=\"M0 0h24v24H0V0z\" fill=\"none\"/>\n",
              "    <path d=\"M18.56 5.44l.94 2.06.94-2.06 2.06-.94-2.06-.94-.94-2.06-.94 2.06-2.06.94zm-11 1L8.5 8.5l.94-2.06 2.06-.94-2.06-.94L8.5 2.5l-.94 2.06-2.06.94zm10 10l.94 2.06.94-2.06 2.06-.94-2.06-.94-.94-2.06-.94 2.06-2.06.94z\"/><path d=\"M17.41 7.96l-1.37-1.37c-.4-.4-.92-.59-1.43-.59-.52 0-1.04.2-1.43.59L10.3 9.45l-7.72 7.72c-.78.78-.78 2.05 0 2.83L4 21.41c.39.39.9.59 1.41.59.51 0 1.02-.2 1.41-.59l7.78-7.78 2.81-2.81c.8-.78.8-2.07 0-2.86zM5.41 20L4 18.59l7.72-7.72 1.47 1.35L5.41 20z\"/>\n",
              "  </svg>\n",
              "      </button>\n",
              "      \n",
              "  <style>\n",
              "    .colab-df-container {\n",
              "      display:flex;\n",
              "      flex-wrap:wrap;\n",
              "      gap: 12px;\n",
              "    }\n",
              "\n",
              "    .colab-df-convert {\n",
              "      background-color: #E8F0FE;\n",
              "      border: none;\n",
              "      border-radius: 50%;\n",
              "      cursor: pointer;\n",
              "      display: none;\n",
              "      fill: #1967D2;\n",
              "      height: 32px;\n",
              "      padding: 0 0 0 0;\n",
              "      width: 32px;\n",
              "    }\n",
              "\n",
              "    .colab-df-convert:hover {\n",
              "      background-color: #E2EBFA;\n",
              "      box-shadow: 0px 1px 2px rgba(60, 64, 67, 0.3), 0px 1px 3px 1px rgba(60, 64, 67, 0.15);\n",
              "      fill: #174EA6;\n",
              "    }\n",
              "\n",
              "    [theme=dark] .colab-df-convert {\n",
              "      background-color: #3B4455;\n",
              "      fill: #D2E3FC;\n",
              "    }\n",
              "\n",
              "    [theme=dark] .colab-df-convert:hover {\n",
              "      background-color: #434B5C;\n",
              "      box-shadow: 0px 1px 3px 1px rgba(0, 0, 0, 0.15);\n",
              "      filter: drop-shadow(0px 1px 2px rgba(0, 0, 0, 0.3));\n",
              "      fill: #FFFFFF;\n",
              "    }\n",
              "  </style>\n",
              "\n",
              "      <script>\n",
              "        const buttonEl =\n",
              "          document.querySelector('#df-078c734b-3b66-483e-a120-08e69d56bf5a button.colab-df-convert');\n",
              "        buttonEl.style.display =\n",
              "          google.colab.kernel.accessAllowed ? 'block' : 'none';\n",
              "\n",
              "        async function convertToInteractive(key) {\n",
              "          const element = document.querySelector('#df-078c734b-3b66-483e-a120-08e69d56bf5a');\n",
              "          const dataTable =\n",
              "            await google.colab.kernel.invokeFunction('convertToInteractive',\n",
              "                                                     [key], {});\n",
              "          if (!dataTable) return;\n",
              "\n",
              "          const docLinkHtml = 'Like what you see? Visit the ' +\n",
              "            '<a target=\"_blank\" href=https://colab.research.google.com/notebooks/data_table.ipynb>data table notebook</a>'\n",
              "            + ' to learn more about interactive tables.';\n",
              "          element.innerHTML = '';\n",
              "          dataTable['output_type'] = 'display_data';\n",
              "          await google.colab.output.renderOutput(dataTable, element);\n",
              "          const docLink = document.createElement('div');\n",
              "          docLink.innerHTML = docLinkHtml;\n",
              "          element.appendChild(docLink);\n",
              "        }\n",
              "      </script>\n",
              "    </div>\n",
              "  </div>\n",
              "  "
            ]
          },
          "metadata": {},
          "execution_count": 76
        }
      ]
    },
    {
      "cell_type": "code",
      "source": [
        "df = df.drop(columns = ['RowNumber', 'CustomerId', 'Surname'], axis = 1)"
      ],
      "metadata": {
        "id": "ZJmYur7allXY"
      },
      "execution_count": 77,
      "outputs": []
    },
    {
      "cell_type": "code",
      "source": [
        "df.head()"
      ],
      "metadata": {
        "colab": {
          "base_uri": "https://localhost:8080/",
          "height": 206
        },
        "id": "VHAgApEEllU3",
        "outputId": "b9e9a0c4-da09-4019-ae6d-d5e784a85619"
      },
      "execution_count": 78,
      "outputs": [
        {
          "output_type": "execute_result",
          "data": {
            "text/plain": [
              "   CreditScore Geography  Gender  Age  Tenure    Balance  NumOfProducts  \\\n",
              "0          619    France  Female   42       2      0.000              1   \n",
              "1          608     Spain  Female   41       1  83807.860              1   \n",
              "2          502    France  Female   42       8 159660.800              3   \n",
              "3          699    France  Female   39       1      0.000              2   \n",
              "4          850     Spain  Female   43       2 125510.820              1   \n",
              "\n",
              "   HasCrCard  IsActiveMember  EstimatedSalary  Exited  \n",
              "0          1               1       101348.880       1  \n",
              "1          0               1       112542.580       0  \n",
              "2          1               0       113931.570       1  \n",
              "3          0               0        93826.630       0  \n",
              "4          1               1        79084.100       0  "
            ],
            "text/html": [
              "\n",
              "  <div id=\"df-c63d92e9-64a8-4ac4-a106-d59078dfc850\">\n",
              "    <div class=\"colab-df-container\">\n",
              "      <div>\n",
              "<style scoped>\n",
              "    .dataframe tbody tr th:only-of-type {\n",
              "        vertical-align: middle;\n",
              "    }\n",
              "\n",
              "    .dataframe tbody tr th {\n",
              "        vertical-align: top;\n",
              "    }\n",
              "\n",
              "    .dataframe thead th {\n",
              "        text-align: right;\n",
              "    }\n",
              "</style>\n",
              "<table border=\"1\" class=\"dataframe\">\n",
              "  <thead>\n",
              "    <tr style=\"text-align: right;\">\n",
              "      <th></th>\n",
              "      <th>CreditScore</th>\n",
              "      <th>Geography</th>\n",
              "      <th>Gender</th>\n",
              "      <th>Age</th>\n",
              "      <th>Tenure</th>\n",
              "      <th>Balance</th>\n",
              "      <th>NumOfProducts</th>\n",
              "      <th>HasCrCard</th>\n",
              "      <th>IsActiveMember</th>\n",
              "      <th>EstimatedSalary</th>\n",
              "      <th>Exited</th>\n",
              "    </tr>\n",
              "  </thead>\n",
              "  <tbody>\n",
              "    <tr>\n",
              "      <th>0</th>\n",
              "      <td>619</td>\n",
              "      <td>France</td>\n",
              "      <td>Female</td>\n",
              "      <td>42</td>\n",
              "      <td>2</td>\n",
              "      <td>0.000</td>\n",
              "      <td>1</td>\n",
              "      <td>1</td>\n",
              "      <td>1</td>\n",
              "      <td>101348.880</td>\n",
              "      <td>1</td>\n",
              "    </tr>\n",
              "    <tr>\n",
              "      <th>1</th>\n",
              "      <td>608</td>\n",
              "      <td>Spain</td>\n",
              "      <td>Female</td>\n",
              "      <td>41</td>\n",
              "      <td>1</td>\n",
              "      <td>83807.860</td>\n",
              "      <td>1</td>\n",
              "      <td>0</td>\n",
              "      <td>1</td>\n",
              "      <td>112542.580</td>\n",
              "      <td>0</td>\n",
              "    </tr>\n",
              "    <tr>\n",
              "      <th>2</th>\n",
              "      <td>502</td>\n",
              "      <td>France</td>\n",
              "      <td>Female</td>\n",
              "      <td>42</td>\n",
              "      <td>8</td>\n",
              "      <td>159660.800</td>\n",
              "      <td>3</td>\n",
              "      <td>1</td>\n",
              "      <td>0</td>\n",
              "      <td>113931.570</td>\n",
              "      <td>1</td>\n",
              "    </tr>\n",
              "    <tr>\n",
              "      <th>3</th>\n",
              "      <td>699</td>\n",
              "      <td>France</td>\n",
              "      <td>Female</td>\n",
              "      <td>39</td>\n",
              "      <td>1</td>\n",
              "      <td>0.000</td>\n",
              "      <td>2</td>\n",
              "      <td>0</td>\n",
              "      <td>0</td>\n",
              "      <td>93826.630</td>\n",
              "      <td>0</td>\n",
              "    </tr>\n",
              "    <tr>\n",
              "      <th>4</th>\n",
              "      <td>850</td>\n",
              "      <td>Spain</td>\n",
              "      <td>Female</td>\n",
              "      <td>43</td>\n",
              "      <td>2</td>\n",
              "      <td>125510.820</td>\n",
              "      <td>1</td>\n",
              "      <td>1</td>\n",
              "      <td>1</td>\n",
              "      <td>79084.100</td>\n",
              "      <td>0</td>\n",
              "    </tr>\n",
              "  </tbody>\n",
              "</table>\n",
              "</div>\n",
              "      <button class=\"colab-df-convert\" onclick=\"convertToInteractive('df-c63d92e9-64a8-4ac4-a106-d59078dfc850')\"\n",
              "              title=\"Convert this dataframe to an interactive table.\"\n",
              "              style=\"display:none;\">\n",
              "        \n",
              "  <svg xmlns=\"http://www.w3.org/2000/svg\" height=\"24px\"viewBox=\"0 0 24 24\"\n",
              "       width=\"24px\">\n",
              "    <path d=\"M0 0h24v24H0V0z\" fill=\"none\"/>\n",
              "    <path d=\"M18.56 5.44l.94 2.06.94-2.06 2.06-.94-2.06-.94-.94-2.06-.94 2.06-2.06.94zm-11 1L8.5 8.5l.94-2.06 2.06-.94-2.06-.94L8.5 2.5l-.94 2.06-2.06.94zm10 10l.94 2.06.94-2.06 2.06-.94-2.06-.94-.94-2.06-.94 2.06-2.06.94z\"/><path d=\"M17.41 7.96l-1.37-1.37c-.4-.4-.92-.59-1.43-.59-.52 0-1.04.2-1.43.59L10.3 9.45l-7.72 7.72c-.78.78-.78 2.05 0 2.83L4 21.41c.39.39.9.59 1.41.59.51 0 1.02-.2 1.41-.59l7.78-7.78 2.81-2.81c.8-.78.8-2.07 0-2.86zM5.41 20L4 18.59l7.72-7.72 1.47 1.35L5.41 20z\"/>\n",
              "  </svg>\n",
              "      </button>\n",
              "      \n",
              "  <style>\n",
              "    .colab-df-container {\n",
              "      display:flex;\n",
              "      flex-wrap:wrap;\n",
              "      gap: 12px;\n",
              "    }\n",
              "\n",
              "    .colab-df-convert {\n",
              "      background-color: #E8F0FE;\n",
              "      border: none;\n",
              "      border-radius: 50%;\n",
              "      cursor: pointer;\n",
              "      display: none;\n",
              "      fill: #1967D2;\n",
              "      height: 32px;\n",
              "      padding: 0 0 0 0;\n",
              "      width: 32px;\n",
              "    }\n",
              "\n",
              "    .colab-df-convert:hover {\n",
              "      background-color: #E2EBFA;\n",
              "      box-shadow: 0px 1px 2px rgba(60, 64, 67, 0.3), 0px 1px 3px 1px rgba(60, 64, 67, 0.15);\n",
              "      fill: #174EA6;\n",
              "    }\n",
              "\n",
              "    [theme=dark] .colab-df-convert {\n",
              "      background-color: #3B4455;\n",
              "      fill: #D2E3FC;\n",
              "    }\n",
              "\n",
              "    [theme=dark] .colab-df-convert:hover {\n",
              "      background-color: #434B5C;\n",
              "      box-shadow: 0px 1px 3px 1px rgba(0, 0, 0, 0.15);\n",
              "      filter: drop-shadow(0px 1px 2px rgba(0, 0, 0, 0.3));\n",
              "      fill: #FFFFFF;\n",
              "    }\n",
              "  </style>\n",
              "\n",
              "      <script>\n",
              "        const buttonEl =\n",
              "          document.querySelector('#df-c63d92e9-64a8-4ac4-a106-d59078dfc850 button.colab-df-convert');\n",
              "        buttonEl.style.display =\n",
              "          google.colab.kernel.accessAllowed ? 'block' : 'none';\n",
              "\n",
              "        async function convertToInteractive(key) {\n",
              "          const element = document.querySelector('#df-c63d92e9-64a8-4ac4-a106-d59078dfc850');\n",
              "          const dataTable =\n",
              "            await google.colab.kernel.invokeFunction('convertToInteractive',\n",
              "                                                     [key], {});\n",
              "          if (!dataTable) return;\n",
              "\n",
              "          const docLinkHtml = 'Like what you see? Visit the ' +\n",
              "            '<a target=\"_blank\" href=https://colab.research.google.com/notebooks/data_table.ipynb>data table notebook</a>'\n",
              "            + ' to learn more about interactive tables.';\n",
              "          element.innerHTML = '';\n",
              "          dataTable['output_type'] = 'display_data';\n",
              "          await google.colab.output.renderOutput(dataTable, element);\n",
              "          const docLink = document.createElement('div');\n",
              "          docLink.innerHTML = docLinkHtml;\n",
              "          element.appendChild(docLink);\n",
              "        }\n",
              "      </script>\n",
              "    </div>\n",
              "  </div>\n",
              "  "
            ]
          },
          "metadata": {},
          "execution_count": 78
        }
      ]
    },
    {
      "cell_type": "code",
      "source": [
        "df.shape"
      ],
      "metadata": {
        "colab": {
          "base_uri": "https://localhost:8080/"
        },
        "id": "8q2XTgpPllSO",
        "outputId": "a4fdd947-05ca-4562-c02d-87252d544fc7"
      },
      "execution_count": 79,
      "outputs": [
        {
          "output_type": "execute_result",
          "data": {
            "text/plain": [
              "(10000, 11)"
            ]
          },
          "metadata": {},
          "execution_count": 79
        }
      ]
    },
    {
      "cell_type": "code",
      "source": [],
      "metadata": {
        "id": "QNmGsGWUllPs"
      },
      "execution_count": null,
      "outputs": []
    },
    {
      "cell_type": "code",
      "source": [],
      "metadata": {
        "id": "fC5yY2h8llNE"
      },
      "execution_count": null,
      "outputs": []
    },
    {
      "cell_type": "code",
      "source": [],
      "metadata": {
        "id": "97GalBTNllKU"
      },
      "execution_count": null,
      "outputs": []
    },
    {
      "cell_type": "code",
      "execution_count": null,
      "metadata": {
        "id": "Lk74OKenAS3D"
      },
      "outputs": [],
      "source": []
    },
    {
      "cell_type": "markdown",
      "metadata": {
        "id": "EoruzbojAS3D"
      },
      "source": [
        "# Preprocessing of Data\n",
        "- Train | Test Split, Scalling"
      ]
    },
    {
      "cell_type": "code",
      "source": [
        "from sklearn.model_selection import train_test_split\n",
        "from sklearn.preprocessing import OneHotEncoder"
      ],
      "metadata": {
        "id": "Bh3yjAPf7Y-Q"
      },
      "execution_count": 92,
      "outputs": []
    },
    {
      "cell_type": "code",
      "source": [
        "X = df.drop('Exited', axis = 1)\n",
        "y = df['Exited']"
      ],
      "metadata": {
        "id": "L4FPvdDE7nGi"
      },
      "execution_count": 93,
      "outputs": []
    },
    {
      "cell_type": "code",
      "source": [
        "X_train, X_test, y_train, y_test = train_test_split(X,\n",
        "                                                    y,\n",
        "                                                    stratify=y,\n",
        "                                                    test_size=0.15,\n",
        "                                                    random_state=101)\n",
        "X_train, X_val, y_train, y_val = train_test_split(X_train,\n",
        "                                                  y_train,\n",
        "                                                  stratify=y_train,\n",
        "                                                  test_size=0.1,\n",
        "                                                  random_state=101)"
      ],
      "metadata": {
        "id": "SFMnng81EqH_"
      },
      "execution_count": 94,
      "outputs": []
    },
    {
      "cell_type": "code",
      "source": [
        "cat_col = X_train.select_dtypes(include=['object', 'bool']).columns\n",
        "\n",
        "encoder = OneHotEncoder(categories=\"auto\",\n",
        "                        sparse=False, \n",
        "                        #drop=\"first\", \n",
        "                        handle_unknown=\"ignore\")"
      ],
      "metadata": {
        "id": "vgP6Y9soE2Rf"
      },
      "execution_count": 95,
      "outputs": []
    },
    {
      "cell_type": "code",
      "source": [
        "from sklearn.compose import ColumnTransformer"
      ],
      "metadata": {
        "id": "ZsHQNcOZFwMP"
      },
      "execution_count": 96,
      "outputs": []
    },
    {
      "cell_type": "code",
      "source": [
        "transformers = [('cat', encoder, cat_col)]\n",
        "\n",
        "col_transformer = ColumnTransformer(transformers=transformers,\n",
        "                                    remainder='passthrough')"
      ],
      "metadata": {
        "id": "pD4Z3OF-E2Ot"
      },
      "execution_count": 97,
      "outputs": []
    },
    {
      "cell_type": "code",
      "source": [
        "X_train = col_transformer.fit_transform(X_train)\n",
        "X_val = col_transformer.transform(X_val)\n",
        "X_test = col_transformer.transform(X_test)"
      ],
      "metadata": {
        "id": "H_fRPt_0E2MM"
      },
      "execution_count": 98,
      "outputs": []
    },
    {
      "cell_type": "code",
      "source": [
        "from sklearn.preprocessing import MinMaxScaler"
      ],
      "metadata": {
        "id": "EimehHs77Y5t"
      },
      "execution_count": 99,
      "outputs": []
    },
    {
      "cell_type": "code",
      "source": [
        "scaler = MinMaxScaler()"
      ],
      "metadata": {
        "id": "7s09jgMn7Y3V"
      },
      "execution_count": 100,
      "outputs": []
    },
    {
      "cell_type": "code",
      "source": [
        "X_train = scaler.fit_transform(X_train)\n",
        "X_val = scaler.transform(X_val)\n",
        "X_test = scaler.transform(X_test)"
      ],
      "metadata": {
        "id": "HKF7pRnxFd5K"
      },
      "execution_count": 101,
      "outputs": []
    },
    {
      "cell_type": "code",
      "source": [
        "tf.__version__"
      ],
      "metadata": {
        "colab": {
          "base_uri": "https://localhost:8080/",
          "height": 35
        },
        "id": "um1mIAFNF4EQ",
        "outputId": "c2837a09-c947-49a2-a36d-7f3d8d7c4475"
      },
      "execution_count": 102,
      "outputs": [
        {
          "output_type": "execute_result",
          "data": {
            "text/plain": [
              "'2.9.2'"
            ],
            "application/vnd.google.colaboratory.intrinsic+json": {
              "type": "string"
            }
          },
          "metadata": {},
          "execution_count": 102
        }
      ]
    },
    {
      "cell_type": "markdown",
      "metadata": {
        "id": "Ha9hDt_AoGaE"
      },
      "source": [
        "# Modelling & Model Performance"
      ]
    },
    {
      "cell_type": "markdown",
      "metadata": {
        "id": "IH71tGcxAS3F"
      },
      "source": [
        "## without class_weigth"
      ]
    },
    {
      "cell_type": "markdown",
      "metadata": {
        "id": "NlQnKHXPAS3F"
      },
      "source": [
        "### Create The Model"
      ]
    },
    {
      "cell_type": "markdown",
      "metadata": {
        "id": "so6bIyu0AS3F"
      },
      "source": [
        "### Evaluate The Model\n",
        "\n",
        "- Plot the model history to observe the changing of metrics\n",
        "- Make prediction to see \"confusion matrix\" and \"classification report\"\n",
        "- Check ROC (Receiver Operating Curve) and AUC (Area Under Curve) for the model"
      ]
    },
    {
      "cell_type": "code",
      "source": [
        "import tensorflow as tf\n",
        "from tensorflow.keras.models import Sequential\n",
        "from tensorflow.keras.layers import Dense, Activation\n",
        "from tensorflow.keras.callbacks import EarlyStopping\n",
        "from tensorflow.keras.optimizers import Adam"
      ],
      "metadata": {
        "id": "EtZwWFmf79k4"
      },
      "execution_count": null,
      "outputs": []
    },
    {
      "cell_type": "code",
      "source": [
        "#!pip install livelossplot"
      ],
      "metadata": {
        "id": "3wo0Py97MjJs"
      },
      "execution_count": null,
      "outputs": []
    },
    {
      "cell_type": "code",
      "source": [
        "from livelossplot import PlotLossesKerasTF"
      ],
      "metadata": {
        "id": "QYqHJELmMlWx"
      },
      "execution_count": 115,
      "outputs": []
    },
    {
      "cell_type": "code",
      "source": [
        "from sklearn.metrics import mean_squared_error, mean_absolute_error, r2_score"
      ],
      "metadata": {
        "id": "olhwmvyN79h5"
      },
      "execution_count": 116,
      "outputs": []
    },
    {
      "cell_type": "code",
      "source": [
        "def eval_metric(actual, pred):\n",
        "    mae = mean_absolute_error(actual, pred)\n",
        "    mse = mean_squared_error(actual, pred)\n",
        "    rmse = np.sqrt(mean_squared_error(actual, pred))\n",
        "    score = r2_score(actual, pred)\n",
        "    return print(\"r2_score:\", score, \"\\nmae:\", mae, \"\\nmse:\", mse, \"\\nrmse:\", rmse)"
      ],
      "metadata": {
        "id": "gOFlTBO579ft"
      },
      "execution_count": 52,
      "outputs": []
    },
    {
      "cell_type": "code",
      "source": [
        "X_train.shape"
      ],
      "metadata": {
        "colab": {
          "base_uri": "https://localhost:8080/"
        },
        "id": "SFFr7gKd79dN",
        "outputId": "4b595970-3103-41c6-ff23-b7f9b282a3b0"
      },
      "execution_count": 53,
      "outputs": [
        {
          "output_type": "execute_result",
          "data": {
            "text/plain": [
              "(9000, 10)"
            ]
          },
          "metadata": {},
          "execution_count": 53
        }
      ]
    },
    {
      "cell_type": "code",
      "source": [
        "tf.random.set_seed(101)"
      ],
      "metadata": {
        "id": "LcC0mK8a79ar"
      },
      "execution_count": 54,
      "outputs": []
    },
    {
      "cell_type": "code",
      "source": [
        "model = Sequential()\n",
        "\n",
        "model.add(Dense(16, activation = 'relu', input_dim = X_train.shape[1]))\n",
        "\n",
        "model.add(Dense(8, activation = 'relu'))\n",
        "model.add(Dense(1, activation = 'sigmoid'))\n",
        "\n",
        "model.compile(optimizer = 'adam', loss = 'binary_crossentropy', metrics=[\"Recall\"])"
      ],
      "metadata": {
        "id": "Zg1tfnlc79YZ"
      },
      "execution_count": 105,
      "outputs": []
    },
    {
      "cell_type": "code",
      "source": [],
      "metadata": {
        "id": "-y8KzHFyK0w6"
      },
      "execution_count": 107,
      "outputs": []
    },
    {
      "cell_type": "code",
      "source": [
        "early_stop = EarlyStopping(monitor=\"val_loss\",\n",
        "                           mode=\"auto\",\n",
        "                           verbose=1,\n",
        "                           patience=8,\n",
        "                           restore_best_weights=True)"
      ],
      "metadata": {
        "id": "JJaiMp6vKYcE"
      },
      "execution_count": 108,
      "outputs": []
    },
    {
      "cell_type": "code",
      "source": [
        "model.fit(x=X_train,\n",
        "          y=y_train,\n",
        "          validation_data=(X_val, y_val),\n",
        "          batch_size=128,\n",
        "          epochs=200,\n",
        "          verbose=1,\n",
        "          callbacks=[early_stop, PlotLossesKerasTF()])"
      ],
      "metadata": {
        "colab": {
          "base_uri": "https://localhost:8080/",
          "height": 741
        },
        "id": "8lR6VzR5Khz_",
        "outputId": "200c76be-3a60-4567-db10-13976cf8deb3"
      },
      "execution_count": 117,
      "outputs": [
        {
          "output_type": "display_data",
          "data": {
            "text/plain": [
              "<Figure size 864x576 with 2 Axes>"
            ],
            "image/png": "[encoded data removed]"
          },
          "metadata": {}
        },
        {
          "output_type": "stream",
          "name": "stdout",
          "text": [
            "Loss\n",
            "\ttraining         \t (min:    0.335, max:    0.622, cur:    0.335)\n",
            "\tvalidation       \t (min:    0.346, max:    0.545, cur:    0.347)\n",
            "recall\n",
            "\ttraining         \t (min:    0.000, max:    0.482, cur:    0.480)\n",
            "\tvalidation       \t (min:    0.000, max:    0.509, cur:    0.497)\n",
            "\b\b\b\b\b\b\b\b\b\b\b\b\b\b\b\b\b\b\b\b\b\b\b\b\b\b\b\b\b\b\b\b\b\b\b\b\b\b\b\b\b\b\b\b\b\b\b\b\b\b\b\b\b\b\b\b\b\b\b\b\b\b\b\b\b\b\b\b\b\b\b\b\b\b\b\b\b\b\b\b\r60/60 [==============================] - 1s 10ms/step - loss: 0.3345 - recall: 0.4801 - val_loss: 0.3475 - val_recall: 0.4971\n",
            "Epoch 59: early stopping\n"
          ]
        },
        {
          "output_type": "execute_result",
          "data": {
            "text/plain": [
              "<keras.callbacks.History at 0x7fdca56e4040>"
            ]
          },
          "metadata": {},
          "execution_count": 117
        }
      ]
    },
    {
      "cell_type": "code",
      "source": [
        "model.weights"
      ],
      "metadata": {
        "colab": {
          "base_uri": "https://localhost:8080/"
        },
        "id": "CfwiqMJONb8h",
        "outputId": "0af12fbe-2d1b-46eb-b436-0cfb4160933c"
      },
      "execution_count": 122,
      "outputs": [
        {
          "output_type": "execute_result",
          "data": {
            "text/plain": [
              "[<tf.Variable 'dense_10/kernel:0' shape=(13, 16) dtype=float32, numpy=\n",
              " array([[ 2.68609405e-01,  2.45432287e-01, -9.72304791e-02,\n",
              "         -2.29753241e-01,  1.54145986e-01,  1.19820170e-01,\n",
              "          1.55845448e-01,  3.25800478e-01,  2.86912620e-01,\n",
              "          2.70787664e-02,  3.88392657e-01, -1.32922694e-01,\n",
              "         -3.82826403e-02, -1.15904221e-02,  1.63817748e-01,\n",
              "          1.00853331e-01],\n",
              "        [-5.92648327e-01, -2.40576267e-02,  1.00532278e-01,\n",
              "         -4.50135320e-01, -9.22571570e-02,  1.15506373e-01,\n",
              "         -2.39063233e-01,  2.66971290e-01,  2.20317096e-02,\n",
              "          2.50313133e-01,  5.56990743e-01, -2.04956204e-01,\n",
              "          1.94565684e-01, -2.13618040e-01,  1.40704438e-01,\n",
              "         -4.48328316e-01],\n",
              "        [ 1.12316258e-01,  2.98857987e-01,  4.20984954e-01,\n",
              "         -2.01016530e-01,  2.36544028e-01, -4.97867823e-01,\n",
              "          1.61411941e-01,  1.85404211e-01,  2.95201421e-01,\n",
              "          2.05486760e-01,  1.98456705e-01,  8.79030824e-02,\n",
              "          4.35226150e-02,  1.59870926e-02,  2.88804948e-01,\n",
              "          6.31223619e-02],\n",
              "        [ 2.37820283e-01, -2.90609986e-01,  1.98796064e-01,\n",
              "         -2.84606934e-01, -3.08878303e-01, -9.70100015e-02,\n",
              "         -3.61392647e-01,  2.05569029e-01,  2.71015674e-01,\n",
              "          4.29795444e-01,  1.85508411e-02, -1.94783226e-01,\n",
              "         -3.47855866e-01, -5.19778654e-02,  1.68416668e-02,\n",
              "         -1.72305495e-01],\n",
              "        [ 2.71290421e-01, -2.03185543e-01,  4.71482664e-01,\n",
              "         -2.82823890e-01, -7.37569854e-02, -1.18453361e-01,\n",
              "         -3.65132578e-02,  1.78946525e-01,  4.46180254e-01,\n",
              "          8.38739201e-02,  2.09550583e-03,  2.08413258e-01,\n",
              "         -3.39549594e-02,  2.18711376e-01, -2.68908702e-02,\n",
              "          1.91367209e-01],\n",
              "        [ 2.63313595e-02, -1.37081638e-01,  3.60896945e-01,\n",
              "          1.55671965e-02, -3.20338495e-02,  1.33132413e-02,\n",
              "         -1.18420705e-01,  1.51997179e-01,  3.61392587e-01,\n",
              "          5.66250011e-02, -7.54578486e-02, -9.42202955e-02,\n",
              "          4.38301027e-01,  6.15447387e-03,  2.31449530e-01,\n",
              "         -1.48947805e-01],\n",
              "        [ 3.66622895e-01, -1.74855337e-01, -3.77886236e-01,\n",
              "         -8.42097476e-02, -3.15697528e-02, -5.22243142e-01,\n",
              "          1.12865114e+00, -8.24039578e-01, -2.83937544e-01,\n",
              "         -2.03375518e-01,  6.85579538e-01,  7.26712942e-01,\n",
              "         -4.09884185e-01, -9.67198610e-01,  6.73543870e-01,\n",
              "         -2.93231010e-01],\n",
              "        [-1.73020899e-01, -1.13676876e-01,  2.42386729e-01,\n",
              "          4.95612696e-02,  1.03495009e-01,  2.18217954e-01,\n",
              "         -3.77450080e-04, -2.28597715e-01, -5.03695846e-01,\n",
              "          7.90454373e-02,  8.45995848e-04, -7.38136619e-02,\n",
              "         -3.77917588e-01,  3.72307241e-01,  1.31213173e-01,\n",
              "          7.31006488e-02],\n",
              "        [ 2.91432083e-01, -5.31478941e-01, -2.94195503e-01,\n",
              "          3.09468955e-01, -1.81170106e-01,  2.09310159e-01,\n",
              "          7.39514232e-02, -1.19266845e-01, -1.41108200e-01,\n",
              "          2.36665756e-01,  2.93781877e-01, -3.20787966e-01,\n",
              "         -1.71461657e-01,  1.28183931e-01, -2.42820650e-01,\n",
              "          1.02700353e-01],\n",
              "        [ 1.83385253e-01, -1.13312232e+00,  1.81474134e-01,\n",
              "          1.73680902e+00,  1.91071808e-01, -3.24425399e-02,\n",
              "         -7.53934681e-02,  9.68711823e-02,  3.31660450e-01,\n",
              "          1.15684831e+00, -3.16084683e-01,  7.99946934e-02,\n",
              "         -2.94519234e-02,  3.67450416e-01, -1.10064006e+00,\n",
              "          1.46796834e-02],\n",
              "        [-2.64340132e-01, -5.87572865e-02,  4.10003275e-01,\n",
              "         -4.29298729e-02,  2.51980603e-01, -3.21167141e-01,\n",
              "          5.20549119e-01,  1.79715753e-02, -3.65853198e-02,\n",
              "         -6.76753744e-02,  4.78052676e-01,  3.22592050e-01,\n",
              "          2.49174476e-01,  3.32933724e-01, -8.09708163e-02,\n",
              "          3.08238596e-01],\n",
              "        [ 4.11347896e-01,  3.71774882e-01,  4.01188046e-01,\n",
              "          6.24688305e-02,  5.90842307e-01, -4.35046732e-01,\n",
              "          9.08810318e-01, -2.07981646e-01,  2.34133720e-01,\n",
              "          4.92664315e-02, -4.39855725e-01, -7.98780024e-01,\n",
              "          3.70733321e-01, -5.09290909e-03, -2.26902850e-02,\n",
              "         -3.83175611e-01],\n",
              "        [-4.02096868e-01,  1.03736296e-01,  1.01644725e-01,\n",
              "          1.55938929e-02,  5.56035489e-02,  1.94376171e-01,\n",
              "          6.34961426e-02,  1.23730376e-01,  1.69193685e-01,\n",
              "          2.88213491e-01,  1.20275714e-01,  1.70563355e-01,\n",
              "         -5.58702111e-01,  1.36056259e-01,  1.99136838e-01,\n",
              "          1.07961267e-01]], dtype=float32)>,\n",
              " <tf.Variable 'dense_10/bias:0' shape=(16,) dtype=float32, numpy=\n",
              " array([ 0.00284095,  0.07352778,  0.04849968, -0.07733461,  0.01334781,\n",
              "        -0.00066953,  0.01561574,  0.04758948,  0.09994832,  0.28131813,\n",
              "         0.16749366,  0.04664588,  0.02347392,  0.31054094, -0.02231781,\n",
              "         0.08444269], dtype=float32)>,\n",
              " <tf.Variable 'dense_11/kernel:0' shape=(16, 8) dtype=float32, numpy=\n",
              " array([[ 6.41369075e-02,  1.48713794e-02,  6.49260521e-01,\n",
              "          6.41826153e-01,  2.34242305e-01,  1.02436654e-01,\n",
              "          1.69348270e-01, -3.25584449e-02],\n",
              "        [-3.40236336e-01, -3.82793248e-01, -1.70854479e-01,\n",
              "         -1.04687154e+00, -8.56650591e-01,  1.04844737e+00,\n",
              "         -3.75666559e-01, -9.79187429e-01],\n",
              "        [ 6.05272874e-02,  1.04954146e-01,  1.91663221e-01,\n",
              "          3.81590933e-01, -4.42493185e-02, -3.21032256e-02,\n",
              "         -1.26562372e-01,  2.57716417e-01],\n",
              "        [-1.76283932e+00, -1.64343607e+00, -1.53353429e+00,\n",
              "         -2.06700182e+00, -1.93822181e+00,  1.50182915e+00,\n",
              "         -1.34427831e-01, -1.77277434e+00],\n",
              "        [ 2.66078621e-01,  2.47802343e-02,  5.89512408e-01,\n",
              "          1.36910021e-01, -3.31009060e-01, -2.14358345e-01,\n",
              "          3.86476278e-01,  1.28300637e-01],\n",
              "        [ 4.12651926e-01,  1.93179488e-01,  3.35749745e-01,\n",
              "         -1.50319859e-01,  5.92171192e-01, -4.24593568e-01,\n",
              "          2.72941709e-01, -2.14662358e-01],\n",
              "        [-4.29238617e-01, -5.45461953e-01,  1.55975744e-01,\n",
              "          3.88421476e-01, -3.15041006e-01, -1.14626242e-02,\n",
              "         -1.43582165e-01,  4.88645613e-01],\n",
              "        [ 3.29853624e-01,  4.13062632e-01,  2.33663023e-01,\n",
              "         -3.47205848e-01,  6.21330023e-01, -1.61125496e-01,\n",
              "          2.57211030e-01,  5.45903563e-01],\n",
              "        [-8.25848547e-04,  5.05046725e-01, -2.35969111e-01,\n",
              "          1.34158224e-01,  2.77741671e-01, -1.03027180e-01,\n",
              "         -1.52007625e-01, -2.63140321e-01],\n",
              "        [ 3.36678386e-01,  1.61588237e-01,  4.53835994e-01,\n",
              "          2.34295890e-01,  3.79226059e-01,  6.19323432e-01,\n",
              "         -2.18196943e-01,  3.05833220e-01],\n",
              "        [-8.68527442e-02, -1.36406690e-01, -1.71648175e-01,\n",
              "         -1.52976260e-01, -3.21525306e-01,  7.49658883e-01,\n",
              "         -1.98952526e-01, -6.19148500e-02],\n",
              "        [-1.69933930e-01, -1.17190182e-01,  1.25146791e-01,\n",
              "         -6.47367118e-03, -1.41850933e-01,  5.73164761e-01,\n",
              "          3.94795418e-01, -5.71239412e-01],\n",
              "        [-1.55138746e-01, -8.01024809e-02,  2.48977825e-01,\n",
              "          5.74161634e-02,  4.70053732e-01,  6.14541829e-01,\n",
              "          1.63149625e-01, -5.05598426e-01],\n",
              "        [ 7.56258607e-01,  6.35919333e-01, -2.37649024e-01,\n",
              "          2.94387966e-01,  8.34423423e-01,  1.36712655e-01,\n",
              "         -5.82603319e-03,  3.38167846e-01],\n",
              "        [-4.97044772e-01, -7.05682158e-01, -3.33858490e-01,\n",
              "         -4.55659270e-01, -6.03945374e-01,  4.48874712e-01,\n",
              "          1.28297333e-03,  1.74007863e-01],\n",
              "        [ 1.31226823e-01,  3.68495107e-01,  3.24763805e-02,\n",
              "         -4.53495570e-02,  3.76226515e-01, -1.21738687e-01,\n",
              "         -2.73695260e-01, -1.46682188e-01]], dtype=float32)>,\n",
              " <tf.Variable 'dense_11/bias:0' shape=(8,) dtype=float32, numpy=\n",
              " array([ 0.17850174,  0.35061046,  0.02270295,  0.05889158,  0.25049558,\n",
              "         0.07972157, -0.03921212,  0.04387205], dtype=float32)>,\n",
              " <tf.Variable 'dense_12/kernel:0' shape=(8, 1) dtype=float32, numpy=\n",
              " array([[-0.7186784],\n",
              "        [-1.3976878],\n",
              "        [-0.550718 ],\n",
              "        [-0.7262647],\n",
              "        [-1.0371903],\n",
              "        [ 1.194362 ],\n",
              "        [ 0.5559502],\n",
              "        [-0.7181001]], dtype=float32)>,\n",
              " <tf.Variable 'dense_12/bias:0' shape=(1,) dtype=float32, numpy=array([0.00589863], dtype=float32)>]"
            ]
          },
          "metadata": {},
          "execution_count": 122
        }
      ]
    },
    {
      "cell_type": "code",
      "source": [
        "model.summary()"
      ],
      "metadata": {
        "colab": {
          "base_uri": "https://localhost:8080/"
        },
        "id": "T3N8ugVI79Vg",
        "outputId": "bd442b9f-9608-4970-b64a-cf0af85dac5c"
      },
      "execution_count": 118,
      "outputs": [
        {
          "output_type": "stream",
          "name": "stdout",
          "text": [
            "Model: \"sequential_3\"\n",
            "_________________________________________________________________\n",
            " Layer (type)                Output Shape              Param #   \n",
            "=================================================================\n",
            " dense_10 (Dense)            (None, 16)                224       \n",
            "                                                                 \n",
            " dense_11 (Dense)            (None, 8)                 136       \n",
            "                                                                 \n",
            " dense_12 (Dense)            (None, 1)                 9         \n",
            "                                                                 \n",
            "=================================================================\n",
            "Total params: 369\n",
            "Trainable params: 369\n",
            "Non-trainable params: 0\n",
            "_________________________________________________________________\n"
          ]
        }
      ]
    },
    {
      "cell_type": "code",
      "source": [
        "loss_df = pd.DataFrame(model.history.history) \n",
        "loss_df.plot();"
      ],
      "metadata": {
        "colab": {
          "base_uri": "https://localhost:8080/",
          "height": 374
        },
        "id": "FMhQ8a8DNTat",
        "outputId": "0d13e395-1da9-4acb-f827-e59bb496631d"
      },
      "execution_count": 121,
      "outputs": [
        {
          "output_type": "display_data",
          "data": {
            "text/plain": [
              "<Figure size 720x432 with 1 Axes>"
            ],
            "image/png": "[encoded data removed]"
          },
          "metadata": {}
        }
      ]
    },
    {
      "cell_type": "code",
      "source": [
        "from sklearn.metrics import classification_report, confusion_matrix"
      ],
      "metadata": {
        "id": "AWCL82HZNuN7"
      },
      "execution_count": 124,
      "outputs": []
    },
    {
      "cell_type": "code",
      "source": [
        "y_pred = (model.predict(X_test) > .5).astype(\n",
        "    \"int32\")  # to convert the probabilities into binary values\n",
        "print(confusion_matrix(y_test, y_pred))\n",
        "print(classification_report(y_test, y_pred))"
      ],
      "metadata": {
        "colab": {
          "base_uri": "https://localhost:8080/"
        },
        "id": "SdSPvtHK87RW",
        "outputId": "09478197-046a-4de7-fb98-edc4da766d41"
      },
      "execution_count": 125,
      "outputs": [
        {
          "output_type": "stream",
          "name": "stdout",
          "text": [
            "47/47 [==============================] - 0s 743us/step\n",
            "[[1154   40]\n",
            " [ 195  111]]\n",
            "              precision    recall  f1-score   support\n",
            "\n",
            "           0       0.86      0.97      0.91      1194\n",
            "           1       0.74      0.36      0.49       306\n",
            "\n",
            "    accuracy                           0.84      1500\n",
            "   macro avg       0.80      0.66      0.70      1500\n",
            "weighted avg       0.83      0.84      0.82      1500\n",
            "\n"
          ]
        }
      ]
    },
    {
      "cell_type": "code",
      "source": [
        "from sklearn.metrics import recall_score,\\\n",
        "                            f1_score, precision_recall_curve,\\\n",
        "                            average_precision_score"
      ],
      "metadata": {
        "id": "v60736CRPGP1"
      },
      "execution_count": 127,
      "outputs": []
    },
    {
      "cell_type": "code",
      "source": [
        "y_pred_proba = model.predict(X_test)\n",
        "precisions, recalls, thresholds = precision_recall_curve(y_test, y_pred_proba)\n",
        "plt.plot(recalls, precisions, label='ANN')\n",
        "plt.xlabel('recalls')\n",
        "plt.ylabel('precisions')\n",
        "plt.title('Precision-Recall curve')\n",
        "plt.show()"
      ],
      "metadata": {
        "colab": {
          "base_uri": "https://localhost:8080/",
          "height": 421
        },
        "id": "T43vDHAl_UXi",
        "outputId": "600492dd-4cf8-4844-858f-49e7fce16490"
      },
      "execution_count": 128,
      "outputs": [
        {
          "output_type": "stream",
          "name": "stdout",
          "text": [
            "47/47 [==============================] - 0s 740us/step\n"
          ]
        },
        {
          "output_type": "display_data",
          "data": {
            "text/plain": [
              "<Figure size 720x432 with 1 Axes>"
            ],
            "image/png": "[encoded data removed]"
          },
          "metadata": {}
        }
      ]
    },
    {
      "cell_type": "code",
      "execution_count": 129,
      "metadata": {
        "id": "PoX0VddqAS3F",
        "colab": {
          "base_uri": "https://localhost:8080/"
        },
        "outputId": "6a45ef34-6d59-49b1-8578-4c8fd0a69048"
      },
      "outputs": [
        {
          "output_type": "execute_result",
          "data": {
            "text/plain": [
              "0.6256255618303572"
            ]
          },
          "metadata": {},
          "execution_count": 129
        }
      ],
      "source": [
        "non_weighted_pre_score = average_precision_score(y_test, y_pred_proba)\n",
        "non_weighted_pre_score"
      ]
    },
    {
      "cell_type": "code",
      "execution_count": 130,
      "metadata": {
        "id": "vnT_WtbnAS3G"
      },
      "outputs": [],
      "source": [
        "non_weighted_f1 = f1_score(y_test, y_pred)\n",
        "non_weighted_recall = recall_score(y_test, y_pred)"
      ]
    },
    {
      "cell_type": "markdown",
      "metadata": {
        "id": "iRtj8L6CAS3G"
      },
      "source": [
        "## with class_weigth\n",
        "\n",
        "Investigate how the \"class_weight\" hyper-parameter is used in a Neural Network."
      ]
    },
    {
      "cell_type": "markdown",
      "metadata": {
        "id": "Ec5gBNSkAS3G"
      },
      "source": [
        "### Create The Model"
      ]
    },
    {
      "cell_type": "markdown",
      "metadata": {
        "id": "in-07YjeAS3G"
      },
      "source": [
        "### Evaluate The Model\n",
        "\n",
        "- Plot the model history to observe the changing of metrics\n",
        "- Make prediction to see \"confusion matrix\" and \"classification report\"\n",
        "- Check ROC (Receiver Operating Curve) and AUC (Area Under Curve) for the model"
      ]
    },
    {
      "cell_type": "code",
      "execution_count": 133,
      "metadata": {
        "id": "y84geUvpAS3H"
      },
      "outputs": [],
      "source": [
        "tf.random.set_seed(101)\n",
        "\n",
        "model = Sequential()\n",
        "\n",
        "model.add(Dense(16, activation=\"relu\"))\n",
        "model.add(Dense(8, activation=\"relu\"))\n",
        "model.add(Dense(1, activation=\"sigmoid\"))\n",
        "\n",
        "opt = Adam(lr=0.001)\n",
        "model.compile(optimizer=opt, \n",
        "              loss=\"binary_crossentropy\",\n",
        "              metrics=[\"Recall\"])"
      ]
    },
    {
      "cell_type": "code",
      "source": [
        "early_stop = EarlyStopping(monitor=\"val_loss\",\n",
        "                           mode=\"auto\",\n",
        "                           verbose=1,\n",
        "                           patience=10,\n",
        "                           restore_best_weights = True)"
      ],
      "metadata": {
        "id": "3GayWEqPPsR-"
      },
      "execution_count": 134,
      "outputs": []
    },
    {
      "cell_type": "code",
      "source": [
        "from sklearn.utils import class_weight\n",
        "\n",
        "class_weights = class_weight.compute_class_weight('balanced',\n",
        "                                                  classes=np.unique(y_train),\n",
        "                                                  y=y_train)\n",
        "\n",
        "class_weights = {0: class_weights[0], 1: class_weights[1]}\n",
        "class_weights"
      ],
      "metadata": {
        "colab": {
          "base_uri": "https://localhost:8080/"
        },
        "id": "XsOqONM9PsP3",
        "outputId": "1b50cb7b-4e8a-422d-e873-5c97050244a5"
      },
      "execution_count": 135,
      "outputs": [
        {
          "output_type": "execute_result",
          "data": {
            "text/plain": [
              "{0: 0.6278726198292843, 1: 2.4550706033376124}"
            ]
          },
          "metadata": {},
          "execution_count": 135
        }
      ]
    },
    {
      "cell_type": "code",
      "source": [
        "model.fit(x=X_train,\n",
        "          y=y_train,\n",
        "          validation_split=.1,\n",
        "          batch_size=128,\n",
        "          epochs=200,\n",
        "          verbose=1,\n",
        "          callbacks=[early_stop, PlotLossesKerasTF()],\n",
        "          class_weight=class_weights)"
      ],
      "metadata": {
        "colab": {
          "base_uri": "https://localhost:8080/",
          "height": 741
        },
        "id": "SRaIbMwhPsNc",
        "outputId": "8bd60738-dd94-43ae-ba1a-5cb4b66a4bc7"
      },
      "execution_count": 136,
      "outputs": [
        {
          "output_type": "display_data",
          "data": {
            "text/plain": [
              "<Figure size 864x576 with 2 Axes>"
            ],
            "image/png": "[encoded data removed]"
          },
          "metadata": {}
        },
        {
          "output_type": "stream",
          "name": "stdout",
          "text": [
            "Loss\n",
            "\ttraining         \t (min:    0.468, max:    0.685, cur:    0.468)\n",
            "\tvalidation       \t (min:    0.449, max:    0.667, cur:    0.458)\n",
            "recall\n",
            "\ttraining         \t (min:    0.557, max:    0.767, cur:    0.761)\n",
            "\tvalidation       \t (min:    0.544, max:    0.763, cur:    0.710)\n",
            "\b\b\b\b\b\b\b\b\b\b\b\b\b\b\b\b\b\b\b\b\b\b\b\b\b\b\b\b\b\b\b\b\b\b\b\b\b\b\b\b\b\b\b\b\b\b\b\b\b\b\b\b\b\b\b\b\b\b\b\b\b\b\b\b\b\b\b\b\b\b\b\b\b\b\b\b\b\b\b\b\r54/54 [==============================] - 1s 11ms/step - loss: 0.4677 - recall: 0.7610 - val_loss: 0.4581 - val_recall: 0.7101\n",
            "Epoch 45: early stopping\n"
          ]
        },
        {
          "output_type": "execute_result",
          "data": {
            "text/plain": [
              "<keras.callbacks.History at 0x7fdca072c4f0>"
            ]
          },
          "metadata": {},
          "execution_count": 136
        }
      ]
    },
    {
      "cell_type": "code",
      "source": [
        "loss_df = pd.DataFrame(model.history.history)\n",
        "loss_df.plot();"
      ],
      "metadata": {
        "colab": {
          "base_uri": "https://localhost:8080/",
          "height": 374
        },
        "id": "L3-O4nvJPsLD",
        "outputId": "269d10f8-7d9d-428b-c8be-3752808a7b46"
      },
      "execution_count": 137,
      "outputs": [
        {
          "output_type": "display_data",
          "data": {
            "text/plain": [
              "<Figure size 720x432 with 1 Axes>"
            ],
            "image/png": "[encoded data removed]"
          },
          "metadata": {}
        }
      ]
    },
    {
      "cell_type": "code",
      "source": [
        "y_pred = (model.predict(X_test) > .5).astype(\"int32\")\n",
        "print(confusion_matrix(y_test, y_pred))\n",
        "print(classification_report(y_test, y_pred))"
      ],
      "metadata": {
        "colab": {
          "base_uri": "https://localhost:8080/"
        },
        "id": "TaNne3YSPsIp",
        "outputId": "12ffa1f2-4da9-43c4-e1e4-9830b3a90c37"
      },
      "execution_count": 139,
      "outputs": [
        {
          "output_type": "stream",
          "name": "stdout",
          "text": [
            "47/47 [==============================] - 0s 753us/step\n",
            "[[971 223]\n",
            " [112 194]]\n",
            "              precision    recall  f1-score   support\n",
            "\n",
            "           0       0.90      0.81      0.85      1194\n",
            "           1       0.47      0.63      0.54       306\n",
            "\n",
            "    accuracy                           0.78      1500\n",
            "   macro avg       0.68      0.72      0.69      1500\n",
            "weighted avg       0.81      0.78      0.79      1500\n",
            "\n"
          ]
        }
      ]
    },
    {
      "cell_type": "code",
      "source": [
        "y_pred_proba = model.predict(X_test)\n",
        "precisions, recalls, thresholds = precision_recall_curve(y_test, y_pred_proba)\n",
        "plt.plot(recalls, precisions, label='ANN')\n",
        "plt.xlabel('recalls')\n",
        "plt.ylabel('precisions')\n",
        "plt.title('Precision-Recall curve')\n",
        "plt.show()"
      ],
      "metadata": {
        "colab": {
          "base_uri": "https://localhost:8080/",
          "height": 421
        },
        "id": "4BDSAYgLPsGQ",
        "outputId": "fca1b327-607d-4078-e0aa-11e33c693e98"
      },
      "execution_count": 140,
      "outputs": [
        {
          "output_type": "stream",
          "name": "stdout",
          "text": [
            "47/47 [==============================] - 0s 765us/step\n"
          ]
        },
        {
          "output_type": "display_data",
          "data": {
            "text/plain": [
              "<Figure size 720x432 with 1 Axes>"
            ],
            "image/png": "[encoded data removed]"
          },
          "metadata": {}
        }
      ]
    },
    {
      "cell_type": "code",
      "source": [
        "weighted_pre_score = average_precision_score(y_test, y_pred_proba)\n",
        "weighted_pre_score "
      ],
      "metadata": {
        "colab": {
          "base_uri": "https://localhost:8080/"
        },
        "id": "PvhkqdYeQK1W",
        "outputId": "9339c137-adce-49ca-c434-8bd82b1696cd"
      },
      "execution_count": 141,
      "outputs": [
        {
          "output_type": "execute_result",
          "data": {
            "text/plain": [
              "0.5567832750644852"
            ]
          },
          "metadata": {},
          "execution_count": 141
        }
      ]
    },
    {
      "cell_type": "code",
      "source": [
        "weighted_f1 = f1_score(y_test, y_pred)\n",
        "weighted_recall = recall_score(y_test, y_pred)"
      ],
      "metadata": {
        "id": "G-NH6zhiQKyh"
      },
      "execution_count": 142,
      "outputs": []
    },
    {
      "cell_type": "markdown",
      "metadata": {
        "id": "qbBCeZr1AS3H"
      },
      "source": [
        "## Implementation Different Methods to Develop The Model\n",
        "\n",
        "- Implement the following methods on model creating with \"class_weight\" parameter\n",
        "- Create and evaluate model for each method "
      ]
    },
    {
      "cell_type": "markdown",
      "metadata": {
        "id": "h-un0eohAS3H"
      },
      "source": [
        "### Increase The Learning Rate and Observe The Results"
      ]
    },
    {
      "cell_type": "code",
      "source": [
        "!pip install optuna"
      ],
      "metadata": {
        "colab": {
          "base_uri": "https://localhost:8080/"
        },
        "id": "3KqfA9ncQkCW",
        "outputId": "913f3ec7-71f0-4521-901a-3fe87d4651bc"
      },
      "execution_count": 158,
      "outputs": [
        {
          "output_type": "stream",
          "name": "stdout",
          "text": [
            "Looking in indexes: https://pypi.org/simple, https://us-python.pkg.dev/colab-wheels/public/simple/\n",
            "Requirement already satisfied: optuna in /usr/local/lib/python3.8/dist-packages (3.1.0)\n",
            "Requirement already satisfied: tqdm in /usr/local/lib/python3.8/dist-packages (from optuna) (4.64.1)\n",
            "Requirement already satisfied: numpy in /usr/local/lib/python3.8/dist-packages (from optuna) (1.21.6)\n",
            "Requirement already satisfied: cmaes>=0.9.1 in /usr/local/lib/python3.8/dist-packages (from optuna) (0.9.1)\n",
            "Requirement already satisfied: sqlalchemy>=1.3.0 in /usr/local/lib/python3.8/dist-packages (from optuna) (1.4.46)\n",
            "Requirement already satisfied: colorlog in /usr/local/lib/python3.8/dist-packages (from optuna) (6.7.0)\n",
            "Requirement already satisfied: packaging>=20.0 in /usr/local/lib/python3.8/dist-packages (from optuna) (21.3)\n",
            "Requirement already satisfied: PyYAML in /usr/local/lib/python3.8/dist-packages (from optuna) (6.0)\n",
            "Requirement already satisfied: alembic>=1.5.0 in /usr/local/lib/python3.8/dist-packages (from optuna) (1.9.2)\n",
            "Requirement already satisfied: importlib-metadata in /usr/local/lib/python3.8/dist-packages (from alembic>=1.5.0->optuna) (6.0.0)\n",
            "Requirement already satisfied: importlib-resources in /usr/local/lib/python3.8/dist-packages (from alembic>=1.5.0->optuna) (5.10.2)\n",
            "Requirement already satisfied: Mako in /usr/local/lib/python3.8/dist-packages (from alembic>=1.5.0->optuna) (1.2.4)\n",
            "Requirement already satisfied: pyparsing!=3.0.5,>=2.0.2 in /usr/local/lib/python3.8/dist-packages (from packaging>=20.0->optuna) (3.0.9)\n",
            "Requirement already satisfied: greenlet!=0.4.17 in /usr/local/lib/python3.8/dist-packages (from sqlalchemy>=1.3.0->optuna) (2.0.1)\n",
            "Requirement already satisfied: zipp>=0.5 in /usr/local/lib/python3.8/dist-packages (from importlib-metadata->alembic>=1.5.0->optuna) (3.11.0)\n",
            "Requirement already satisfied: MarkupSafe>=0.9.2 in /usr/local/lib/python3.8/dist-packages (from Mako->alembic>=1.5.0->optuna) (2.0.1)\n"
          ]
        }
      ]
    },
    {
      "cell_type": "code",
      "source": [
        "from tensorflow.keras.optimizers import Adam, Adadelta, RMSprop, Nadam  "
      ],
      "metadata": {
        "id": "Bth1M50MQrxd"
      },
      "execution_count": 151,
      "outputs": []
    },
    {
      "cell_type": "code",
      "source": [
        "class_weights"
      ],
      "metadata": {
        "colab": {
          "base_uri": "https://localhost:8080/"
        },
        "id": "fQzvVnKQQvuZ",
        "outputId": "bdb1685e-20d6-46f8-dfd9-c12cf4df13b0"
      },
      "execution_count": 152,
      "outputs": [
        {
          "output_type": "execute_result",
          "data": {
            "text/plain": [
              "{0: 0.6278726198292843, 1: 2.4550706033376124}"
            ]
          },
          "metadata": {},
          "execution_count": 152
        }
      ]
    },
    {
      "cell_type": "code",
      "source": [
        "trial_metric = \"Recall\"\n",
        "batch_size = 512\n",
        "\n",
        "\n",
        "def create_model(trial):\n",
        "    # Some hyperparameters we want to optimize\n",
        "    n_units1 = trial.suggest_int('n_units1', 8, 128)\n",
        "    n_units2 = trial.suggest_int('n_units2', 8, 128)\n",
        "    optimizer = trial.suggest_categorical(\"optimizer\",\n",
        "                                          [Adam, Adadelta, RMSprop, Nadam])\n",
        "    learning_rate = trial.suggest_loguniform('learning_rate', 1e-5, 1.3e-1)\n",
        "\n",
        "    tf.random.set_seed(42)\n",
        "    model = Sequential()\n",
        "    model.add(Dense(n_units1, input_dim=X_train.shape[1], activation='relu'))\n",
        "    model.add(Dense(n_units2, activation='relu'))\n",
        "    model.add(Dense(1, activation='sigmoid'))\n",
        "    model.compile(loss='binary_crossentropy',\n",
        "                  optimizer=optimizer(learning_rate=learning_rate),\n",
        "                  metrics=[trial_metric])\n",
        "    return model\n",
        "\n",
        "\n",
        "def objective(trial):\n",
        "    model = create_model(trial)\n",
        "    w0 = trial.suggest_loguniform(\"w0\", 0.01, 5)\n",
        "    w1 = trial.suggest_loguniform(\"w1\", 0.01, 5)\n",
        "    model.fit(X_train,\n",
        "              y_train,\n",
        "              validation_split=.1,\n",
        "              batch_size=batch_size,\n",
        "              epochs=100,\n",
        "              callbacks=[early_stop],\n",
        "              class_weight={0: w0, 1: w1},\n",
        "              verbose=0)\n",
        "    score = model.evaluate(X_test, y_test, verbose=0)[1]\n",
        "    if score > .86 : # after this threshold model gets terrible scores for class 0\n",
        "        score = score * 0\n",
        "    return score"
      ],
      "metadata": {
        "id": "zeYBH2C2Qvr6"
      },
      "execution_count": 153,
      "outputs": []
    },
    {
      "cell_type": "code",
      "source": [
        "study = optuna.create_study(direction=\"maximize\")\n",
        "study.optimize(objective, n_trials=25)\n",
        "study.best_params"
      ],
      "metadata": {
        "colab": {
          "base_uri": "https://localhost:8080/",
          "height": 201
        },
        "id": "N220gvWdQvpz",
        "outputId": "398ea902-f20a-4ee2-9b44-460ba8b4ffa6"
      },
      "execution_count": 159,
      "outputs": [
        {
          "output_type": "error",
          "ename": "NameError",
          "evalue": "ignored",
          "traceback": [
            "\u001b[0;31m---------------------------------------------------------------------------\u001b[0m",
            "\u001b[0;31mNameError\u001b[0m                                 Traceback (most recent call last)",
            "\u001b[0;32m<ipython-input-159-8b113ed270b7>\u001b[0m in \u001b[0;36m<module>\u001b[0;34m\u001b[0m\n\u001b[0;32m----> 1\u001b[0;31m \u001b[0mstudy\u001b[0m \u001b[0;34m=\u001b[0m \u001b[0moptuna\u001b[0m\u001b[0;34m.\u001b[0m\u001b[0mcreate_study\u001b[0m\u001b[0;34m(\u001b[0m\u001b[0mdirection\u001b[0m\u001b[0;34m=\u001b[0m\u001b[0;34m\"maximize\"\u001b[0m\u001b[0;34m)\u001b[0m\u001b[0;34m\u001b[0m\u001b[0;34m\u001b[0m\u001b[0m\n\u001b[0m\u001b[1;32m      2\u001b[0m \u001b[0mstudy\u001b[0m\u001b[0;34m.\u001b[0m\u001b[0moptimize\u001b[0m\u001b[0;34m(\u001b[0m\u001b[0mobjective\u001b[0m\u001b[0;34m,\u001b[0m \u001b[0mn_trials\u001b[0m\u001b[0;34m=\u001b[0m\u001b[0;36m25\u001b[0m\u001b[0;34m)\u001b[0m\u001b[0;34m\u001b[0m\u001b[0;34m\u001b[0m\u001b[0m\n\u001b[1;32m      3\u001b[0m \u001b[0mstudy\u001b[0m\u001b[0;34m.\u001b[0m\u001b[0mbest_params\u001b[0m\u001b[0;34m\u001b[0m\u001b[0;34m\u001b[0m\u001b[0m\n",
            "\u001b[0;31mNameError\u001b[0m: name 'optuna' is not defined"
          ]
        }
      ]
    },
    {
      "cell_type": "code",
      "source": [
        "unit1, unit2, optimizer, lr, w0, w1 = (study.best_params['n_units1'],\n",
        "                               study.best_params['n_units2'],\n",
        "                               study.best_params['optimizer'],\n",
        "                               study.best_params['learning_rate'], \n",
        "                               study.best_params['w0'],\n",
        "                               study.best_params['w1'] )\n",
        "tf.random.set_seed(42)\n",
        "model = Sequential()\n",
        "model.add(Dense(unit1, activation=\"relu\"))\n",
        "model.add(Dense(unit2, activation=\"relu\"))\n",
        "model.add(Dense(1, activation=\"sigmoid\"))\n",
        "opt = optimizer(lr=lr)\n",
        "model.compile(optimizer=opt, loss=\"binary_crossentropy\", metrics=[\"Recall\"])\n",
        "\n",
        "# train model\n",
        "model.fit(X_train,\n",
        "          y_train,\n",
        "          validation_split=.1,\n",
        "          batch_size=512,\n",
        "          epochs=100,\n",
        "          callbacks=[early_stop],\n",
        "          class_weight={0: w0, 1: w1},\n",
        "          verbose=1)"
      ],
      "metadata": {
        "id": "Ka2u5HKOQvnN"
      },
      "execution_count": null,
      "outputs": []
    },
    {
      "cell_type": "markdown",
      "metadata": {
        "id": "FfimcKC3AS3H"
      },
      "source": [
        "### Add Dropout Layer"
      ]
    },
    {
      "cell_type": "code",
      "execution_count": null,
      "metadata": {
        "id": "kQme3tzeAS3H"
      },
      "outputs": [],
      "source": []
    },
    {
      "cell_type": "markdown",
      "metadata": {
        "id": "h_9y01uLAS3H"
      },
      "source": [
        "### Add Early Stop"
      ]
    },
    {
      "cell_type": "markdown",
      "metadata": {
        "id": "a0GWSBsAAS3H"
      },
      "source": [
        "#### Monitor the \"val_loss\" as metric"
      ]
    },
    {
      "cell_type": "code",
      "execution_count": null,
      "metadata": {
        "id": "wxcU9tbhAS3H"
      },
      "outputs": [],
      "source": []
    },
    {
      "cell_type": "markdown",
      "metadata": {
        "id": "WxKULlczAS3I"
      },
      "source": [
        "#### Monitor the \"val_recall\" as metric"
      ]
    },
    {
      "cell_type": "code",
      "execution_count": null,
      "metadata": {
        "id": "CQg-xtObAS3I"
      },
      "outputs": [],
      "source": []
    },
    {
      "cell_type": "markdown",
      "metadata": {
        "id": "YLxZKUwiAS3I"
      },
      "source": [
        "## GridSearchCV"
      ]
    },
    {
      "cell_type": "code",
      "execution_count": null,
      "metadata": {
        "id": "umVG-DscAS3I"
      },
      "outputs": [],
      "source": []
    },
    {
      "cell_type": "markdown",
      "metadata": {
        "id": "E9b6ezMwAS3I"
      },
      "source": [
        "### Evaluate The Model\n",
        "\n",
        "- Plot the model history to observe the changing of metrics\n",
        "- Make prediction to see \"confusion matrix\" and \"classification report\"\n",
        "- Check ROC (Receiver Operating Curve) and AUC (Area Under Curve) for the model"
      ]
    },
    {
      "cell_type": "code",
      "execution_count": null,
      "metadata": {
        "id": "1e6tTEgeAS3I"
      },
      "outputs": [],
      "source": []
    },
    {
      "cell_type": "markdown",
      "metadata": {
        "id": "S7O8IDiCAS3I"
      },
      "source": [
        "# Final Model and Model Deployment"
      ]
    },
    {
      "cell_type": "code",
      "execution_count": null,
      "metadata": {
        "id": "EIlW_0cOAS3I"
      },
      "outputs": [],
      "source": []
    },
    {
      "cell_type": "markdown",
      "metadata": {
        "id": "Cq10ovAX6daY"
      },
      "source": [
        "## Prediction"
      ]
    },
    {
      "cell_type": "code",
      "execution_count": null,
      "metadata": {
        "id": "P2sr63YPAS3I"
      },
      "outputs": [],
      "source": []
    },
    {
      "cell_type": "markdown",
      "metadata": {
        "id": "icIdlQceAS3J"
      },
      "source": [
        "___\n",
        "\n",
        "<p style=\"text-align: center;\"><img src=\"https://docs.google.com/uc?id=1lY0Uj5R04yMY3-ZppPWxqCr5pvBLYPnV\" class=\"img-fluid\" alt=\"CLRSWY\"></p>\n",
        "\n",
        "___"
      ]
    }
  ],
  "metadata": {
    "colab": {
      "provenance": [],
      "include_colab_link": true
    },
    "kernelspec": {
      "display_name": "Python 3",
      "language": "python",
      "name": "python3"
    },
    "language_info": {
      "codemirror_mode": {
        "name": "ipython",
        "version": 3
      },
      "file_extension": ".py",
      "mimetype": "text/x-python",
      "name": "python",
      "nbconvert_exporter": "python",
      "pygments_lexer": "ipython3",
      "version": "3.7.6"
    },
    "toc": {
      "base_numbering": 1,
      "nav_menu": {},
      "number_sections": false,
      "sideBar": true,
      "skip_h1_title": false,
      "title_cell": "Table of Contents",
      "title_sidebar": "Contents",
      "toc_cell": false,
      "toc_position": {},
      "toc_section_display": true,
      "toc_window_display": true
    }
  },
  "nbformat": 4,
  "nbformat_minor": 0
}